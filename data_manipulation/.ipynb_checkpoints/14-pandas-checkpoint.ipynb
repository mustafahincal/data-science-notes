{
 "cells": [
  {
   "cell_type": "markdown",
   "id": "ae05516e-8b7c-4191-8541-62f2ff58e2b1",
   "metadata": {},
   "source": [
    "# PANDAS"
   ]
  },
  {
   "cell_type": "code",
   "execution_count": 2,
   "id": "88c838dd-3565-409e-b218-576b9f07869d",
   "metadata": {},
   "outputs": [],
   "source": [
    "import pandas as pd"
   ]
  },
  {
   "cell_type": "code",
   "execution_count": 3,
   "id": "299e2e1c-66ac-4c00-a532-e9fe025caf60",
   "metadata": {},
   "outputs": [
    {
     "data": {
      "text/plain": [
       "0    1\n",
       "1    2\n",
       "2    3\n",
       "3    4\n",
       "4    5\n",
       "dtype: int64"
      ]
     },
     "execution_count": 3,
     "metadata": {},
     "output_type": "execute_result"
    }
   ],
   "source": [
    "pd.Series([1,2,3,4,5])  # solda index'ler sağ da değerler olacak şekilde bir yapı elde ederiz"
   ]
  },
  {
   "cell_type": "code",
   "execution_count": 5,
   "id": "66ac16ff-e3ef-434a-b530-2686e0f3752c",
   "metadata": {},
   "outputs": [
    {
     "data": {
      "text/plain": [
       "0    12\n",
       "1    45\n",
       "2    85\n",
       "3    99\n",
       "4    32\n",
       "dtype: int64"
      ]
     },
     "execution_count": 5,
     "metadata": {},
     "output_type": "execute_result"
    }
   ],
   "source": [
    "pd.Series([12,45,85,99,32])"
   ]
  },
  {
   "cell_type": "code",
   "execution_count": 6,
   "id": "724b6675-0ea0-4cbb-baf0-f5ca27dbb2b3",
   "metadata": {},
   "outputs": [
    {
     "data": {
      "text/plain": [
       "pandas.core.series.Series"
      ]
     },
     "execution_count": 6,
     "metadata": {},
     "output_type": "execute_result"
    }
   ],
   "source": [
    "series = pd.Series([1,2,3,4,5])\n",
    "type(seri)"
   ]
  },
  {
   "cell_type": "code",
   "execution_count": 7,
   "id": "f95ad1e8-6550-4fbb-b371-f9edea965750",
   "metadata": {},
   "outputs": [
    {
     "data": {
      "text/plain": [
       "[RangeIndex(start=0, stop=5, step=1)]"
      ]
     },
     "execution_count": 7,
     "metadata": {},
     "output_type": "execute_result"
    }
   ],
   "source": [
    "seri.axes"
   ]
  },
  {
   "cell_type": "code",
   "execution_count": 9,
   "id": "d9443f75-a31f-43ae-9b60-84ecf95fc934",
   "metadata": {},
   "outputs": [
    {
     "data": {
      "text/plain": [
       "dtype('int64')"
      ]
     },
     "execution_count": 9,
     "metadata": {},
     "output_type": "execute_result"
    }
   ],
   "source": [
    "series.dtype"
   ]
  },
  {
   "cell_type": "code",
   "execution_count": 10,
   "id": "9a177383-5d73-4b8a-baca-b44ea771f74c",
   "metadata": {},
   "outputs": [
    {
     "data": {
      "text/plain": [
       "5"
      ]
     },
     "execution_count": 10,
     "metadata": {},
     "output_type": "execute_result"
    }
   ],
   "source": [
    "series.size"
   ]
  },
  {
   "cell_type": "code",
   "execution_count": 11,
   "id": "f8ea5f1b-a040-4506-8e50-1bc998868934",
   "metadata": {},
   "outputs": [
    {
     "data": {
      "text/plain": [
       "1"
      ]
     },
     "execution_count": 11,
     "metadata": {},
     "output_type": "execute_result"
    }
   ],
   "source": [
    "series.ndim"
   ]
  },
  {
   "cell_type": "code",
   "execution_count": 12,
   "id": "e9078f87-aae1-4ba4-966e-ccd8469684e6",
   "metadata": {},
   "outputs": [
    {
     "data": {
      "text/plain": [
       "array([1, 2, 3, 4, 5], dtype=int64)"
      ]
     },
     "execution_count": 12,
     "metadata": {},
     "output_type": "execute_result"
    }
   ],
   "source": [
    "series.values"
   ]
  },
  {
   "cell_type": "code",
   "execution_count": 13,
   "id": "364adaeb-057d-4967-ad48-6ad9304cbd24",
   "metadata": {},
   "outputs": [
    {
     "data": {
      "text/plain": [
       "numpy.ndarray"
      ]
     },
     "execution_count": 13,
     "metadata": {},
     "output_type": "execute_result"
    }
   ],
   "source": [
    "type(seri.values)"
   ]
  },
  {
   "cell_type": "code",
   "execution_count": 14,
   "id": "908338e6-72da-4702-b876-1511d167548a",
   "metadata": {},
   "outputs": [
    {
     "data": {
      "text/plain": [
       "0    1\n",
       "1    2\n",
       "2    3\n",
       "dtype: int64"
      ]
     },
     "execution_count": 14,
     "metadata": {},
     "output_type": "execute_result"
    }
   ],
   "source": [
    "series.head(3)"
   ]
  },
  {
   "cell_type": "code",
   "execution_count": 15,
   "id": "5af309b9-73de-4863-b58c-74488756f700",
   "metadata": {},
   "outputs": [
    {
     "data": {
      "text/plain": [
       "1    2\n",
       "2    3\n",
       "3    4\n",
       "4    5\n",
       "dtype: int64"
      ]
     },
     "execution_count": 15,
     "metadata": {},
     "output_type": "execute_result"
    }
   ],
   "source": [
    "series.tail(4)"
   ]
  },
  {
   "cell_type": "code",
   "execution_count": 16,
   "id": "e97b51ca-c762-44bd-b3e0-8c79603dfa6a",
   "metadata": {},
   "outputs": [
    {
     "data": {
      "text/plain": [
       "0    54\n",
       "1    23\n",
       "2    12\n",
       "3    87\n",
       "4    32\n",
       "dtype: int64"
      ]
     },
     "execution_count": 16,
     "metadata": {},
     "output_type": "execute_result"
    }
   ],
   "source": [
    "pd.Series([54,23,12,87,32])"
   ]
  },
  {
   "cell_type": "code",
   "execution_count": 17,
   "id": "d0ba5944-5717-48b8-bd3e-97117ba87f31",
   "metadata": {},
   "outputs": [
    {
     "data": {
      "text/plain": [
       "1    54\n",
       "3    23\n",
       "5    12\n",
       "7    87\n",
       "9    32\n",
       "dtype: int64"
      ]
     },
     "execution_count": 17,
     "metadata": {},
     "output_type": "execute_result"
    }
   ],
   "source": [
    "pd.Series([54,23,12,87,32], index = [1,3,5,7,9])"
   ]
  },
  {
   "cell_type": "code",
   "execution_count": 21,
   "id": "fedcda09-fe4d-42f7-b3f0-09c6a426e658",
   "metadata": {},
   "outputs": [
    {
     "data": {
      "text/plain": [
       "a    1\n",
       "b    2\n",
       "c    3\n",
       "d    4\n",
       "e    5\n",
       "dtype: int64"
      ]
     },
     "execution_count": 21,
     "metadata": {},
     "output_type": "execute_result"
    }
   ],
   "source": [
    "series = pd.Series([1,2,3,4,5], index = [\"a\",\"b\",\"c\",\"d\",\"e\"])\n",
    "series"
   ]
  },
  {
   "cell_type": "code",
   "execution_count": 22,
   "id": "86c85b9d-ff26-4ee9-b603-133d5102aa9d",
   "metadata": {},
   "outputs": [
    {
     "data": {
      "text/plain": [
       "1"
      ]
     },
     "execution_count": 22,
     "metadata": {},
     "output_type": "execute_result"
    }
   ],
   "source": [
    "series[\"a\"]"
   ]
  },
  {
   "cell_type": "code",
   "execution_count": 23,
   "id": "9233f12c-6943-45ff-bd7f-23f9899138ff",
   "metadata": {},
   "outputs": [
    {
     "data": {
      "text/plain": [
       "a    1\n",
       "b    2\n",
       "c    3\n",
       "dtype: int64"
      ]
     },
     "execution_count": 23,
     "metadata": {},
     "output_type": "execute_result"
    }
   ],
   "source": [
    "series[\"a\":\"c\"]"
   ]
  },
  {
   "cell_type": "code",
   "execution_count": 24,
   "id": "70e89f08-5eab-4e2e-8d1b-05ae0653530b",
   "metadata": {},
   "outputs": [
    {
     "data": {
      "text/plain": [
       "reg     10\n",
       "log     11\n",
       "cart    12\n",
       "dtype: int64"
      ]
     },
     "execution_count": 24,
     "metadata": {},
     "output_type": "execute_result"
    }
   ],
   "source": [
    "dic = {\"reg\":10, \"log\":11, \"cart\":12}\n",
    "series = pd.Series(dic)\n",
    "series"
   ]
  },
  {
   "cell_type": "code",
   "execution_count": 25,
   "id": "65c9484f-1de4-4948-9aa5-59e9af97314a",
   "metadata": {},
   "outputs": [
    {
     "data": {
      "text/plain": [
       "reg     10\n",
       "log     11\n",
       "cart    12\n",
       "reg     10\n",
       "log     11\n",
       "cart    12\n",
       "dtype: int64"
      ]
     },
     "execution_count": 25,
     "metadata": {},
     "output_type": "execute_result"
    }
   ],
   "source": [
    "pd.concat([series,series])"
   ]
  },
  {
   "cell_type": "code",
   "execution_count": null,
   "id": "13f70360-1541-4bf3-9a0f-59aad89867c7",
   "metadata": {},
   "outputs": [],
   "source": []
  }
 ],
 "metadata": {
  "kernelspec": {
   "display_name": "Python 3 (ipykernel)",
   "language": "python",
   "name": "python3"
  },
  "language_info": {
   "codemirror_mode": {
    "name": "ipython",
    "version": 3
   },
   "file_extension": ".py",
   "mimetype": "text/x-python",
   "name": "python",
   "nbconvert_exporter": "python",
   "pygments_lexer": "ipython3",
   "version": "3.9.12"
  }
 },
 "nbformat": 4,
 "nbformat_minor": 5
}
