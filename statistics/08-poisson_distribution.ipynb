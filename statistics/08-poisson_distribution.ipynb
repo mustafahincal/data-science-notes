{
 "cells": [
  {
   "cell_type": "markdown",
   "id": "4d15709d-b3fa-4621-a98b-a29913d4f43d",
   "metadata": {},
   "source": [
    "# Poisson Dağılımı"
   ]
  },
  {
   "cell_type": "markdown",
   "id": "78e843b8-4250-4be8-8015-55950e6e906b",
   "metadata": {},
   "source": [
    "## Belirli bir zaman aralığında belirli bir alanda nadiren rastlanan olayların olasılıklarını hesalamak için kullanılır."
   ]
  },
  {
   "cell_type": "markdown",
   "id": "f6401eb7-bac3-4662-a361-1bb038f53e9d",
   "metadata": {},
   "source": [
    "${\\displaystyle f(x,\\lambda )={\\frac {\\lambda ^{x}e^{-\\lambda }}{x!}}\\,\\!}$,  x = 0,1,2,...,n"
   ]
  },
  {
   "cell_type": "markdown",
   "id": "69c7c56e-27f4-4611-bf8f-c34d781a2e4e",
   "metadata": {},
   "source": [
    "### Soru : Bir üniversitede 5000 not girişinde 5 tane notun yanlış girilme olasılığı nedir?\n",
    "- Dağılımın poisson olduğu biliniyor ve Lambda = 0.2\n",
    "- Formülde yerine koyarsak, 0.000002 geldiğini görürüz"
   ]
  },
  {
   "cell_type": "markdown",
   "id": "59c83b29-863e-4453-ae09-8221130e30be",
   "metadata": {},
   "source": [
    "## İş Uygulaması\n",
    "### Problem : Hatalı ilan girişi olasılıkları hesaplanmak isteniyor.\n",
    "### Detaylar : \n",
    "- Bir yıl sürecince ölçümler yapılıyor\n",
    "- Dağılım biliniyor (Poisson) ve Lambda 0.1 (ortalama hata sayısı)\n",
    "- Hiç hata olmaması, 3 hata olması ve 5 hata olması olasılıkları nedir?"
   ]
  },
  {
   "cell_type": "code",
   "execution_count": 1,
   "id": "d55fbe16-abdb-4264-804d-91697588f79b",
   "metadata": {},
   "outputs": [],
   "source": [
    "from scipy.stats import poisson"
   ]
  },
  {
   "cell_type": "code",
   "execution_count": 7,
   "id": "13e3c9ea-9dc5-40be-9deb-5d4939f20d57",
   "metadata": {},
   "outputs": [
    {
     "name": "stdout",
     "output_type": "stream",
     "text": [
      "hiç hata olmaması 0.9048374180359595\n",
      "1 hata olmaması 0.09048374180359597\n",
      "5 hata olmaması 7.54031181696634e-08\n"
     ]
    }
   ],
   "source": [
    "lambda_ = 0.1\n",
    "rv = poisson(mu = lambda_)\n",
    "print(f\"hiç hata olmaması {rv.pmf(0)}\")\n",
    "print(f\"1 hata olmaması {rv.pmf(k = 1)}\")\n",
    "print(f\"5 hata olmaması {rv.pmf(k = 5)}\")"
   ]
  },
  {
   "cell_type": "code",
   "execution_count": null,
   "id": "dae5c352-f9f3-49cb-9b33-bc454cded51a",
   "metadata": {},
   "outputs": [],
   "source": []
  }
 ],
 "metadata": {
  "kernelspec": {
   "display_name": "Python 3 (ipykernel)",
   "language": "python",
   "name": "python3"
  },
  "language_info": {
   "codemirror_mode": {
    "name": "ipython",
    "version": 3
   },
   "file_extension": ".py",
   "mimetype": "text/x-python",
   "name": "python",
   "nbconvert_exporter": "python",
   "pygments_lexer": "ipython3",
   "version": "3.9.12"
  }
 },
 "nbformat": 4,
 "nbformat_minor": 5
}
