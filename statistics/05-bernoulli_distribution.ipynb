{
 "cells": [
  {
   "cell_type": "markdown",
   "id": "3bee254b-06bc-4eb8-81f2-6b9113ec9139",
   "metadata": {},
   "source": [
    "# Bernoulli Dağılımı"
   ]
  },
  {
   "cell_type": "markdown",
   "id": "7ea45d75-d352-4b07-990f-c2a0abbbf877",
   "metadata": {},
   "source": [
    "## Başarılı - Başarısız, olumlu - olumsuz şeklidenki iki sonuçlu olaylar ile ilgilenildiğinde kullanılan kesikli olasılık dağılımıdır."
   ]
  },
  {
   "cell_type": "markdown",
   "id": "14a4338b-836f-4f28-96ea-6e79866899e9",
   "metadata": {},
   "source": [
    "${\\displaystyle f(k;p)=p^{k}(1-p)^{1-k}\\quad {\\text{for }}k\\in \\{0,1\\}}$\n",
    "\n",
    "\n",
    "${\\displaystyle \\operatorname {E} \\left(X\\right)=p}$\n",
    "\n",
    "$\\operatorname {Var} [X]=pq=p(1-p)$"
   ]
  },
  {
   "cell_type": "code",
   "execution_count": 2,
   "id": "02de499f-a522-43da-9793-2a3867774b10",
   "metadata": {},
   "outputs": [],
   "source": [
    "from scipy.stats import bernoulli"
   ]
  },
  {
   "cell_type": "code",
   "execution_count": 3,
   "id": "6aa15442-f714-4899-9af1-b76af7ec4696",
   "metadata": {},
   "outputs": [],
   "source": [
    "p = 0.6 # paranın yüzünün tura gelme olasılığı olmuş olsun"
   ]
  },
  {
   "cell_type": "code",
   "execution_count": 4,
   "id": "b975212c-7472-4b2d-8ac0-b949689710f7",
   "metadata": {},
   "outputs": [
    {
     "data": {
      "text/plain": [
       "0.6"
      ]
     },
     "execution_count": 4,
     "metadata": {},
     "output_type": "execute_result"
    }
   ],
   "source": [
    "rv = bernoulli(p)\n",
    "rv.pmf(k = 1) # tura gelme olasılığı"
   ]
  },
  {
   "cell_type": "code",
   "execution_count": 7,
   "id": "2c7db4ce-5cb3-47b4-a41d-06f4197efae1",
   "metadata": {},
   "outputs": [
    {
     "data": {
      "text/plain": [
       "0.4"
      ]
     },
     "execution_count": 7,
     "metadata": {},
     "output_type": "execute_result"
    }
   ],
   "source": [
    "rv.pmf(k = 0) # yazı gelme olasılığı"
   ]
  },
  {
   "cell_type": "markdown",
   "id": "e71fff8d-6bfb-4171-9658-fd30a22df879",
   "metadata": {},
   "source": [
    "- pmf : probability mass function (olasılık kütle fonksiyonu)"
   ]
  }
 ],
 "metadata": {
  "kernelspec": {
   "display_name": "Python 3 (ipykernel)",
   "language": "python",
   "name": "python3"
  },
  "language_info": {
   "codemirror_mode": {
    "name": "ipython",
    "version": 3
   },
   "file_extension": ".py",
   "mimetype": "text/x-python",
   "name": "python",
   "nbconvert_exporter": "python",
   "pygments_lexer": "ipython3",
   "version": "3.9.12"
  }
 },
 "nbformat": 4,
 "nbformat_minor": 5
}
