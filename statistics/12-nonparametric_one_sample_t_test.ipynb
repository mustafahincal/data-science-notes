{
 "cells": [
  {
   "cell_type": "markdown",
   "id": "253de3b5-d19e-4648-b0bb-13962c9c58d1",
   "metadata": {},
   "source": [
    "# Nonparametrik Tek Örneklem Testi"
   ]
  },
  {
   "cell_type": "markdown",
   "id": "7ddf9d95-be51-4f08-8fb8-a20b9b770357",
   "metadata": {},
   "source": [
    "## Önceki örnekte yaptığımız tek örneklem testi idi, parametrik test ne demek?\n",
    "## Parametrik Test : Çeşitli varsayımların sağlandığı durumda uygulanabilen testler demek."
   ]
  },
  {
   "cell_type": "code",
   "execution_count": null,
   "id": "9edced1b-1195-444a-9de7-9d831e048c60",
   "metadata": {},
   "outputs": [],
   "source": [
    "# Shapiro-Wilks Testi"
   ]
  },
  {
   "cell_type": "markdown",
   "id": "be3e8900-ec55-46e8-af60-9367dbbdb9f9",
   "metadata": {},
   "source": [
    "- H0 : Örnek dağılımı ile teorik normal dağılım arasında istatistiksel olarak anlamlı bir farklılık yoktur.\n",
    "- H1 : ... fark vardır"
   ]
  },
  {
   "cell_type": "code",
   "execution_count": 2,
   "id": "2f044724-1cb3-4de5-888d-c35241e01659",
   "metadata": {},
   "outputs": [],
   "source": [
    "from scipy.stats import shapiro"
   ]
  },
  {
   "cell_type": "code",
   "execution_count": 4,
   "id": "0b303e8c-feeb-418d-a220-a4fb4f7179f6",
   "metadata": {},
   "outputs": [],
   "source": [
    "import numpy as np\n",
    "\n",
    "experiments = np.array([17, 160, 234, 149, 145, 107, 197, 75, 201, 225, 211, 119, \n",
    "              157, 145, 127, 244, 163, 114, 145,  65, 112, 185, 202, 146,\n",
    "              203, 224, 203, 114, 188, 156, 187, 154, 177, 95, 165, 50, 110, \n",
    "              216, 138, 151, 166, 135, 155, 84, 251, 173, 131, 207, 121, 120])"
   ]
  },
  {
   "cell_type": "code",
   "execution_count": 5,
   "id": "66e8fc2a-39c4-4d51-add7-2a8ad4cb8fea",
   "metadata": {},
   "outputs": [
    {
     "data": {
      "text/plain": [
       "ShapiroResult(statistic=0.9853105545043945, pvalue=0.7848747968673706)"
      ]
     },
     "execution_count": 5,
     "metadata": {},
     "output_type": "execute_result"
    }
   ],
   "source": [
    "shapiro(experiments)"
   ]
  },
  {
   "cell_type": "code",
   "execution_count": 6,
   "id": "4c9fff75-35af-4071-86c9-bbe2957b602a",
   "metadata": {},
   "outputs": [],
   "source": [
    "# H0'ı reddedemediğimiz için yani kabul ettik diyebiliriz, bu sayede Tek örneklem testini kullanmış olduk."
   ]
  },
  {
   "cell_type": "code",
   "execution_count": 7,
   "id": "ec2c46fb-10a8-4ba2-af1f-2c5dd63f4c02",
   "metadata": {},
   "outputs": [],
   "source": [
    "from statsmodels.stats.descriptivestats import sign_test"
   ]
  },
  {
   "cell_type": "code",
   "execution_count": 8,
   "id": "2594a89a-4b0c-429a-a52c-2d891c0a9de2",
   "metadata": {},
   "outputs": [
    {
     "data": {
      "text/plain": [
       "(-7.0, 0.06490864707227217)"
      ]
     },
     "execution_count": 8,
     "metadata": {},
     "output_type": "execute_result"
    }
   ],
   "source": [
    "sign_test(experiments,170)"
   ]
  },
  {
   "cell_type": "code",
   "execution_count": null,
   "id": "6761aa2e-5723-4b5e-84af-f4bf2f7268de",
   "metadata": {},
   "outputs": [],
   "source": []
  }
 ],
 "metadata": {
  "kernelspec": {
   "display_name": "Python 3 (ipykernel)",
   "language": "python",
   "name": "python3"
  },
  "language_info": {
   "codemirror_mode": {
    "name": "ipython",
    "version": 3
   },
   "file_extension": ".py",
   "mimetype": "text/x-python",
   "name": "python",
   "nbconvert_exporter": "python",
   "pygments_lexer": "ipython3",
   "version": "3.9.12"
  }
 },
 "nbformat": 4,
 "nbformat_minor": 5
}
