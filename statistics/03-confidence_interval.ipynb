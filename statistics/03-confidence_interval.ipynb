{
 "cells": [
  {
   "cell_type": "markdown",
   "id": "abd37521-2b00-49d8-9538-381bb02fca2d",
   "metadata": {},
   "source": [
    "# Güven Aralığı"
   ]
  },
  {
   "cell_type": "code",
   "execution_count": 2,
   "id": "1d268425-1eda-4523-af89-e1164970ab98",
   "metadata": {},
   "outputs": [],
   "source": [
    "# Ana kütle paratresinin tahmini değerini kapsayabilecek iki sayıdan oluşan bir aralık bulunmasıdır."
   ]
  },
  {
   "cell_type": "code",
   "execution_count": 3,
   "id": "56196f5d-3d91-44b6-adce-f567b88db072",
   "metadata": {},
   "outputs": [],
   "source": [
    "# Yaptığımız tahminlerin ne kadar güvenilir olduğuna dair bir değer sunar."
   ]
  },
  {
   "cell_type": "markdown",
   "id": "8b573d85-baf2-48b9-a737-a33a92f1b12e",
   "metadata": {},
   "source": [
    "## Güven aralığı nasıl hesaplanır?\n",
    "#### Adım 1 : n, ortalama ve standart sapmayı bul\n",
    "- n = 100, ortalama = 180, standart sapma = 40 \n",
    "#### Adım 2 : Güven aralığına karar ver: 95 mi 99 mu? (kabul edilen standart %95'tir)\n",
    "- Z tablo değerini hesapla (1,96 - 2,57)\n",
    "#### Adım 3 : Yukarıdaki değerleri kullanarak güven aralığını hesapla:\n",
    "- ... Formül\n",
    "#### Sonuç :\n",
    "- 180 +- 7,84 yani 172 ile 188 arasındadır.\n",
    "- %95 güvenirlilik ile 172 ile 188 saniye arasında web sitesinde zaman geçirecektir\n",
    "- Web sitemize gelen 100 kişiden ancak 5 tanesi 172 ile 188 saniye dışında web sitemizde vakit geçirecektir\n"
   ]
  },
  {
   "cell_type": "markdown",
   "id": "651a35cd-7e50-4e45-b988-4f3c0099201c",
   "metadata": {},
   "source": [
    "## İş Uygulaması\n",
    "### Problem : CEO fiyat belirleme konusunda bilimsel bir dayanak ve esneklik istiyor\n",
    "### Detaylar : \n",
    "- Satıcı, alıcı ve bir ürün var\n",
    "- Alıcılara ürüne ne kadar ücret öderdiniz diye soruluyor \n",
    "- Optimum fiyat bilimsel ve esnek olarak bulunmak isteniyor (Güven aralığı dediğimiz şey bu!!!) "
   ]
  },
  {
   "cell_type": "code",
   "execution_count": 5,
   "id": "c91a0c4e-4351-4a19-b339-66786fcde3dc",
   "metadata": {},
   "outputs": [],
   "source": [
    "import numpy as np\n",
    "prices = np.random.randint(10,110,1000)"
   ]
  },
  {
   "cell_type": "code",
   "execution_count": 6,
   "id": "62a0494a-6bde-4a73-bb5d-2a64f31fe883",
   "metadata": {},
   "outputs": [
    {
     "data": {
      "text/plain": [
       "59.558"
      ]
     },
     "execution_count": 6,
     "metadata": {},
     "output_type": "execute_result"
    }
   ],
   "source": [
    "prices.mean()"
   ]
  },
  {
   "cell_type": "code",
   "execution_count": 8,
   "id": "c3dff9c9-fd85-4468-85b8-724b0016c4b5",
   "metadata": {},
   "outputs": [],
   "source": [
    "import statsmodels.stats.api as sms"
   ]
  },
  {
   "cell_type": "code",
   "execution_count": 9,
   "id": "c69b00d8-e3ce-4dbe-bb9b-334cc086b62a",
   "metadata": {},
   "outputs": [
    {
     "data": {
      "text/plain": [
       "(57.785154182000376, 61.330845817999624)"
      ]
     },
     "execution_count": 9,
     "metadata": {},
     "output_type": "execute_result"
    }
   ],
   "source": [
    "sms.DescrStatsW(prices).tconfint_mean()"
   ]
  },
  {
   "cell_type": "code",
   "execution_count": null,
   "id": "945eda56-4a25-4949-a0d9-7f6d88655dce",
   "metadata": {},
   "outputs": [],
   "source": [
    "# Yukarıda gördüğümüz sonuc : Çıkaracak olduğumuz ürünü satın almak üzere alıcıların ödemeye göze aldığı ücret istatistiksel olarak\n",
    "# %95 güvenirlilik ile 57 ile 61 arasındadır.\n",
    "# Diğer bir ifadeyle alıcıların ancak %5 i 57 ile 61 aralığının dışında bir bedel öngörmektedir. "
   ]
  }
 ],
 "metadata": {
  "kernelspec": {
   "display_name": "Python 3 (ipykernel)",
   "language": "python",
   "name": "python3"
  },
  "language_info": {
   "codemirror_mode": {
    "name": "ipython",
    "version": 3
   },
   "file_extension": ".py",
   "mimetype": "text/x-python",
   "name": "python",
   "nbconvert_exporter": "python",
   "pygments_lexer": "ipython3",
   "version": "3.9.12"
  }
 },
 "nbformat": 4,
 "nbformat_minor": 5
}
