{
 "cells": [
  {
   "cell_type": "markdown",
   "id": "abd37521-2b00-49d8-9538-381bb02fca2d",
   "metadata": {},
   "source": [
    "# Güven Aralığı"
   ]
  },
  {
   "cell_type": "code",
   "execution_count": 2,
   "id": "1d268425-1eda-4523-af89-e1164970ab98",
   "metadata": {},
   "outputs": [],
   "source": [
    "# Ana kütle paratresinin tahmini değerini kapsayabilecek iki sayıdan oluşan bir aralık bulunmasıdır."
   ]
  },
  {
   "cell_type": "code",
   "execution_count": null,
   "id": "56196f5d-3d91-44b6-adce-f567b88db072",
   "metadata": {},
   "outputs": [],
   "source": [
    "# Yaptığımız tahminlerin ne kadar güvenilir olduğuna dair bir değer sunar."
   ]
  }
 ],
 "metadata": {
  "kernelspec": {
   "display_name": "Python 3 (ipykernel)",
   "language": "python",
   "name": "python3"
  },
  "language_info": {
   "codemirror_mode": {
    "name": "ipython",
    "version": 3
   },
   "file_extension": ".py",
   "mimetype": "text/x-python",
   "name": "python",
   "nbconvert_exporter": "python",
   "pygments_lexer": "ipython3",
   "version": "3.9.12"
  }
 },
 "nbformat": 4,
 "nbformat_minor": 5
}
