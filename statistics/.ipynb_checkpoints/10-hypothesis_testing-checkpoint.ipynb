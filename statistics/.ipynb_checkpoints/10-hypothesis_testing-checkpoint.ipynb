{
 "cells": [
  {
   "cell_type": "markdown",
   "id": "a6cf4aac-80ea-40c5-9ca2-4ddbb49d71b2",
   "metadata": {},
   "source": [
    "# Hipotez Testi"
   ]
  },
  {
   "cell_type": "markdown",
   "id": "20b9aec5-b8f5-48ba-911a-e5f584e65968",
   "metadata": {},
   "source": [
    "## Bir inanışı (bir savı, bir tahmini vs.) test etmek için kullanılan istatistiksel bir tekniktir."
   ]
  },
  {
   "cell_type": "markdown",
   "id": "cddd85bc-70f0-4225-a922-fb5b40026fdb",
   "metadata": {},
   "source": [
    "# Hipotezler ve Türleri\n",
    "## H0 ve H1 vardır ; \n",
    "- H0 : μ = 50 ise H1 : μ != 50\n",
    "- H0 : μ >= 50 ise H1 : μ < 50\n",
    "- H0 : μ <= 50 ise H1 : μ > 50"
   ]
  },
  {
   "cell_type": "markdown",
   "id": "b79aec3a-3a4c-40fb-9845-fae70861227f",
   "metadata": {},
   "source": [
    "## Belli bir bilimsel problemin çözümüne yönelik olarak ortaya konulan tahmin ya da varsayımlara “hipotez” denir. Hipotez, belli bir bilimsel problemin çözümüne yönelik olarak ortaya konulan, geçici bir çözüm yoludur."
   ]
  },
  {
   "cell_type": "markdown",
   "id": "27230844-9a59-4f65-a8cf-2938e82b853a",
   "metadata": {},
   "source": [
    "# p - value"
   ]
  },
  {
   "cell_type": "markdown",
   "id": "c12d5c1b-6a13-41d1-87ac-d0118abd8702",
   "metadata": {},
   "source": [
    "## Hipotez testlerinin sonuçlarını değerlendirmek üzere programlar tarafından p-value değeri verilir. Bu değer üzerinden kolayca yorum yapabiliriz."
   ]
  },
  {
   "cell_type": "markdown",
   "id": "bb8ffd1c-42dc-40d7-b6b6-f875eaba050b",
   "metadata": {},
   "source": [
    "## p - value değerine bakıp eğer p < 0.05 ise ilgili H0 hipotezini reddettiğimiz sonucuna varmış olucaz. alfa(a) = 0.05. Genellikle p < 0.05 olduğu zaman seviniriz ancak her zaman değil. \n",
    "## Dağılım testlerinde H0 reddedilmek istenilmez. Çünkü H0 \"örnek dağılımı ile teorik dağılımı arasında fark yoktur\" der."
   ]
  },
  {
   "cell_type": "markdown",
   "id": "b7fcabbd-0c2c-4c39-98f2-addb01d8ded8",
   "metadata": {},
   "source": [
    "# Hipotez Testi Adımları\n",
    "- Adım 1 : Hipotezlerin kurulması ve yönlerinin belirlenmesi. Yani H0 ve H1 belirlenecek.\n",
    "- Adım 2 : Anlamlılık düzeyininin ve tablo değerinin belirlenmesi. (anlamlılık düzeyi = a = 0.05 genelde)\n",
    "- Adım 3 : Test istatisliğinin belirlenmesi ve test istatistiğinin hesaplanması.\n",
    "- Adım 4 : Hesaplanan test istatistiği ile alfa'ya karşılık gelen tablo değerinin karşılaştırılması\n",
    "- Adım 5 : Yorum"
   ]
  }
 ],
 "metadata": {
  "kernelspec": {
   "display_name": "Python 3 (ipykernel)",
   "language": "python",
   "name": "python3"
  },
  "language_info": {
   "codemirror_mode": {
    "name": "ipython",
    "version": 3
   },
   "file_extension": ".py",
   "mimetype": "text/x-python",
   "name": "python",
   "nbconvert_exporter": "python",
   "pygments_lexer": "ipython3",
   "version": "3.9.12"
  }
 },
 "nbformat": 4,
 "nbformat_minor": 5
}
