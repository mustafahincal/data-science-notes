{
 "cells": [
  {
   "cell_type": "markdown",
   "id": "10d9f63c-2694-4d2a-8d5a-6815fa9cbbad",
   "metadata": {},
   "source": [
    "# Binom Dağılımı"
   ]
  },
  {
   "cell_type": "markdown",
   "id": "5fabc1c2-c72b-492a-b9e2-e327d8d9cb3d",
   "metadata": {},
   "source": [
    "## Binom Dağılımı, bağımsız n deneme sonucu k başarılı olma olasılığı ile ilgilenildiğinde kullanılan dağılımdır. \n",
    "### Bernoulli'nin n defa gerçekleştirilmiş versiyonu"
   ]
  },
  {
   "cell_type": "markdown",
   "id": "7c056979-7c0c-4701-a4c0-8dfecf9a1cff",
   "metadata": {},
   "source": [
    "${\\displaystyle f(k;n,p)={n \\choose k}p^{k}(1-p)^{n-k}}$, k = 0, 1, 2, ...,n\n",
    "\n",
    "\n",
    "${\\displaystyle \\operatorname {E} (X)=np}$\n",
    "\n",
    "\n",
    "${\\displaystyle \\operatorname {Var} (X)=np(1-p)}$\n",
    "\n",
    "- n : deneme sayısı\n",
    "- p : başarılı olma olasılığı"
   ]
  },
  {
   "cell_type": "markdown",
   "id": "8e7926e1-1866-41bf-8f58-e3ead379fa31",
   "metadata": {},
   "source": [
    "## İş Uygulaması\n",
    "### Problem : Çeşitli mecralarda reklam veriliyor, reklamların tıklanma ve geri dönüşüm oranları optimize edilmeye çalışılıyor. Buna yönelik olarak belirli bir mecrada çeşitli senaryolara göre reklama tıklama olasılıkları hesaplanmak isteniliyor.\n",
    "### Detaylar : \n",
    "- Bir mecrada reklam verilecek\n",
    "- Dağılım ve tıklama olasılığı biliniyor (0.01)\n",
    "### Soru : Reklamı 100 kişi gördüğünde 1, 5, 10 tıklanması olasılığı nedir?"
   ]
  },
  {
   "cell_type": "code",
   "execution_count": 1,
   "id": "b16186bf-3e5a-4c32-8487-74e938e24031",
   "metadata": {},
   "outputs": [],
   "source": [
    "from scipy.stats import binom"
   ]
  },
  {
   "cell_type": "code",
   "execution_count": 7,
   "id": "83cb80e2-82d7-4106-9682-bb3cbe5f0c12",
   "metadata": {},
   "outputs": [
    {
     "name": "stdout",
     "output_type": "stream",
     "text": [
      "1 Kişi Görmesi : 0.36972963764972666\n",
      "5 Kişi Görmesi : 0.002897787123761478\n",
      "10 Kişi Görmesi : 7.006035693977194e-08\n"
     ]
    }
   ],
   "source": [
    "p = 0.01\n",
    "n = 100\n",
    "rv = binom(n,p)\n",
    "print(f\"1 Kişi Görmesi : {rv.pmf(1)}\")\n",
    "print(f\"5 Kişi Görmesi : {rv.pmf(k = 5)}\")\n",
    "print(f\"10 Kişi Görmesi : {rv.pmf(10)}\")"
   ]
  },
  {
   "cell_type": "code",
   "execution_count": null,
   "id": "68dce2b6-6e95-4d57-bfa4-57899b268dd7",
   "metadata": {},
   "outputs": [],
   "source": []
  }
 ],
 "metadata": {
  "kernelspec": {
   "display_name": "Python 3 (ipykernel)",
   "language": "python",
   "name": "python3"
  },
  "language_info": {
   "codemirror_mode": {
    "name": "ipython",
    "version": 3
   },
   "file_extension": ".py",
   "mimetype": "text/x-python",
   "name": "python",
   "nbconvert_exporter": "python",
   "pygments_lexer": "ipython3",
   "version": "3.9.12"
  }
 },
 "nbformat": 4,
 "nbformat_minor": 5
}
