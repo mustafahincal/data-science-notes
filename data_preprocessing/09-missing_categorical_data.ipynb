{
 "cells": [
  {
   "cell_type": "markdown",
   "id": "8734ceac-be10-4a44-8ebd-688a1116d577",
   "metadata": {},
   "source": [
    "# Kategorik Değişkenler İçin Eksik Değer Atama"
   ]
  },
  {
   "cell_type": "code",
   "execution_count": 1,
   "id": "17ef7584-44b2-444c-b53f-afd300ce0d86",
   "metadata": {},
   "outputs": [
    {
     "data": {
      "text/html": [
       "<div>\n",
       "<style scoped>\n",
       "    .dataframe tbody tr th:only-of-type {\n",
       "        vertical-align: middle;\n",
       "    }\n",
       "\n",
       "    .dataframe tbody tr th {\n",
       "        vertical-align: top;\n",
       "    }\n",
       "\n",
       "    .dataframe thead th {\n",
       "        text-align: right;\n",
       "    }\n",
       "</style>\n",
       "<table border=\"1\" class=\"dataframe\">\n",
       "  <thead>\n",
       "    <tr style=\"text-align: right;\">\n",
       "      <th></th>\n",
       "      <th>maas</th>\n",
       "      <th>departman</th>\n",
       "    </tr>\n",
       "  </thead>\n",
       "  <tbody>\n",
       "    <tr>\n",
       "      <th>0</th>\n",
       "      <td>1.0</td>\n",
       "      <td>IT</td>\n",
       "    </tr>\n",
       "    <tr>\n",
       "      <th>1</th>\n",
       "      <td>3.0</td>\n",
       "      <td>NaN</td>\n",
       "    </tr>\n",
       "    <tr>\n",
       "      <th>2</th>\n",
       "      <td>6.0</td>\n",
       "      <td>IK</td>\n",
       "    </tr>\n",
       "    <tr>\n",
       "      <th>3</th>\n",
       "      <td>NaN</td>\n",
       "      <td>IK</td>\n",
       "    </tr>\n",
       "    <tr>\n",
       "      <th>4</th>\n",
       "      <td>7.0</td>\n",
       "      <td>IK</td>\n",
       "    </tr>\n",
       "    <tr>\n",
       "      <th>5</th>\n",
       "      <td>1.0</td>\n",
       "      <td>IK</td>\n",
       "    </tr>\n",
       "    <tr>\n",
       "      <th>6</th>\n",
       "      <td>NaN</td>\n",
       "      <td>IK</td>\n",
       "    </tr>\n",
       "    <tr>\n",
       "      <th>7</th>\n",
       "      <td>9.0</td>\n",
       "      <td>IT</td>\n",
       "    </tr>\n",
       "    <tr>\n",
       "      <th>8</th>\n",
       "      <td>15.0</td>\n",
       "      <td>IT</td>\n",
       "    </tr>\n",
       "  </tbody>\n",
       "</table>\n",
       "</div>"
      ],
      "text/plain": [
       "   maas departman\n",
       "0   1.0        IT\n",
       "1   3.0       NaN\n",
       "2   6.0        IK\n",
       "3   NaN        IK\n",
       "4   7.0        IK\n",
       "5   1.0        IK\n",
       "6   NaN        IK\n",
       "7   9.0        IT\n",
       "8  15.0        IT"
      ]
     },
     "execution_count": 1,
     "metadata": {},
     "output_type": "execute_result"
    }
   ],
   "source": [
    "import numpy as np\n",
    "import pandas as pd\n",
    "V1 = np.array([1,3,6,np.NaN,7,1,np.NaN,9,15])\n",
    "V4 = np.array([\"IT\",np.nan,\"IK\",\"IK\",\"IK\",\"IK\",\"IK\",\"IT\",\"IT\"], dtype=object)\n",
    "\n",
    "df = pd.DataFrame(\n",
    "        {\"maas\" : V1,\n",
    "        \"departman\" : V4}        \n",
    ")\n",
    "\n",
    "df"
   ]
  },
  {
   "cell_type": "markdown",
   "id": "a24c35ee-5245-4f78-b6ab-768b313b687a",
   "metadata": {},
   "source": [
    "### Katogorik değişkenlerdeki eksikleri gidermek için en pratik yöntem, verimli olan yol mod işlemidir. En sık gözlenen terim neyse onu atamaktır."
   ]
  },
  {
   "cell_type": "code",
   "execution_count": 3,
   "id": "8f5ed117-b25b-41c5-9c44-43fc7082b559",
   "metadata": {},
   "outputs": [
    {
     "data": {
      "text/plain": [
       "6.0"
      ]
     },
     "execution_count": 3,
     "metadata": {},
     "output_type": "execute_result"
    }
   ],
   "source": [
    "df[\"maas\"].mean()"
   ]
  },
  {
   "cell_type": "code",
   "execution_count": 4,
   "id": "d559c22c-c3b2-4ec3-907d-b706715c5312",
   "metadata": {},
   "outputs": [
    {
     "data": {
      "text/plain": [
       "0    1.0\n",
       "Name: maas, dtype: float64"
      ]
     },
     "execution_count": 4,
     "metadata": {},
     "output_type": "execute_result"
    }
   ],
   "source": [
    "df[\"maas\"].mode()"
   ]
  },
  {
   "cell_type": "code",
   "execution_count": 5,
   "id": "673cccb2-39ef-43e0-a972-8efccf9c4e95",
   "metadata": {},
   "outputs": [
    {
     "data": {
      "text/plain": [
       "0    IK\n",
       "Name: departman, dtype: object"
      ]
     },
     "execution_count": 5,
     "metadata": {},
     "output_type": "execute_result"
    }
   ],
   "source": [
    "df[\"departman\"].mode()"
   ]
  },
  {
   "cell_type": "code",
   "execution_count": 6,
   "id": "5459c384-c259-4e6e-9a96-4f5b81c1d94c",
   "metadata": {},
   "outputs": [
    {
     "data": {
      "text/plain": [
       "'IK'"
      ]
     },
     "execution_count": 6,
     "metadata": {},
     "output_type": "execute_result"
    }
   ],
   "source": [
    "df[\"departman\"].mode()[0]"
   ]
  },
  {
   "cell_type": "code",
   "execution_count": 8,
   "id": "a59c58b4-eb64-4924-be5f-e8106b5e759a",
   "metadata": {},
   "outputs": [
    {
     "data": {
      "text/plain": [
       "0    IT\n",
       "1    IK\n",
       "2    IK\n",
       "3    IK\n",
       "4    IK\n",
       "5    IK\n",
       "6    IK\n",
       "7    IT\n",
       "8    IT\n",
       "Name: departman, dtype: object"
      ]
     },
     "execution_count": 8,
     "metadata": {},
     "output_type": "execute_result"
    }
   ],
   "source": [
    "df[\"departman\"].fillna(df[\"departman\"].mode()[0])"
   ]
  },
  {
   "cell_type": "code",
   "execution_count": 9,
   "id": "50a2bcec-b9b1-4e43-ab12-ed7e29a50c0a",
   "metadata": {},
   "outputs": [
    {
     "data": {
      "text/html": [
       "<div>\n",
       "<style scoped>\n",
       "    .dataframe tbody tr th:only-of-type {\n",
       "        vertical-align: middle;\n",
       "    }\n",
       "\n",
       "    .dataframe tbody tr th {\n",
       "        vertical-align: top;\n",
       "    }\n",
       "\n",
       "    .dataframe thead th {\n",
       "        text-align: right;\n",
       "    }\n",
       "</style>\n",
       "<table border=\"1\" class=\"dataframe\">\n",
       "  <thead>\n",
       "    <tr style=\"text-align: right;\">\n",
       "      <th></th>\n",
       "      <th>maas</th>\n",
       "      <th>departman</th>\n",
       "    </tr>\n",
       "  </thead>\n",
       "  <tbody>\n",
       "    <tr>\n",
       "      <th>0</th>\n",
       "      <td>1.0</td>\n",
       "      <td>IT</td>\n",
       "    </tr>\n",
       "    <tr>\n",
       "      <th>1</th>\n",
       "      <td>3.0</td>\n",
       "      <td>NaN</td>\n",
       "    </tr>\n",
       "    <tr>\n",
       "      <th>2</th>\n",
       "      <td>6.0</td>\n",
       "      <td>IK</td>\n",
       "    </tr>\n",
       "    <tr>\n",
       "      <th>3</th>\n",
       "      <td>NaN</td>\n",
       "      <td>IK</td>\n",
       "    </tr>\n",
       "    <tr>\n",
       "      <th>4</th>\n",
       "      <td>7.0</td>\n",
       "      <td>IK</td>\n",
       "    </tr>\n",
       "    <tr>\n",
       "      <th>5</th>\n",
       "      <td>1.0</td>\n",
       "      <td>IK</td>\n",
       "    </tr>\n",
       "    <tr>\n",
       "      <th>6</th>\n",
       "      <td>NaN</td>\n",
       "      <td>IK</td>\n",
       "    </tr>\n",
       "    <tr>\n",
       "      <th>7</th>\n",
       "      <td>9.0</td>\n",
       "      <td>IT</td>\n",
       "    </tr>\n",
       "    <tr>\n",
       "      <th>8</th>\n",
       "      <td>15.0</td>\n",
       "      <td>IT</td>\n",
       "    </tr>\n",
       "  </tbody>\n",
       "</table>\n",
       "</div>"
      ],
      "text/plain": [
       "   maas departman\n",
       "0   1.0        IT\n",
       "1   3.0       NaN\n",
       "2   6.0        IK\n",
       "3   NaN        IK\n",
       "4   7.0        IK\n",
       "5   1.0        IK\n",
       "6   NaN        IK\n",
       "7   9.0        IT\n",
       "8  15.0        IT"
      ]
     },
     "execution_count": 9,
     "metadata": {},
     "output_type": "execute_result"
    }
   ],
   "source": [
    "df # inplace diyerek direkt güncelleyebiliriz."
   ]
  },
  {
   "cell_type": "markdown",
   "id": "89aec4ca-bd9c-4d06-91b5-018ed7d7c1f9",
   "metadata": {},
   "source": [
    "### tablodaki bir önceki değerle doldurmak istersek"
   ]
  },
  {
   "cell_type": "code",
   "execution_count": 10,
   "id": "a44d4147-b808-4eec-b86f-010d73b00658",
   "metadata": {},
   "outputs": [
    {
     "data": {
      "text/plain": [
       "0    IT\n",
       "1    IT\n",
       "2    IK\n",
       "3    IK\n",
       "4    IK\n",
       "5    IK\n",
       "6    IK\n",
       "7    IT\n",
       "8    IT\n",
       "Name: departman, dtype: object"
      ]
     },
     "execution_count": 10,
     "metadata": {},
     "output_type": "execute_result"
    }
   ],
   "source": [
    "df[\"departman\"].fillna(method  = \"ffill\") "
   ]
  },
  {
   "cell_type": "markdown",
   "id": "f7c9f094-6fbc-407e-b48e-6723609e8aea",
   "metadata": {},
   "source": [
    "### tablodaki bir sonraki değerle doldurmak istersek"
   ]
  },
  {
   "cell_type": "code",
   "execution_count": 11,
   "id": "cca799ef-f35b-472b-b8f1-545767491e3a",
   "metadata": {},
   "outputs": [
    {
     "data": {
      "text/plain": [
       "0    IT\n",
       "1    IK\n",
       "2    IK\n",
       "3    IK\n",
       "4    IK\n",
       "5    IK\n",
       "6    IK\n",
       "7    IT\n",
       "8    IT\n",
       "Name: departman, dtype: object"
      ]
     },
     "execution_count": 11,
     "metadata": {},
     "output_type": "execute_result"
    }
   ],
   "source": [
    "df[\"departman\"].fillna(method  = \"bfill\") "
   ]
  }
 ],
 "metadata": {
  "kernelspec": {
   "display_name": "Python 3 (ipykernel)",
   "language": "python",
   "name": "python3"
  },
  "language_info": {
   "codemirror_mode": {
    "name": "ipython",
    "version": 3
   },
   "file_extension": ".py",
   "mimetype": "text/x-python",
   "name": "python",
   "nbconvert_exporter": "python",
   "pygments_lexer": "ipython3",
   "version": "3.9.12"
  }
 },
 "nbformat": 4,
 "nbformat_minor": 5
}
