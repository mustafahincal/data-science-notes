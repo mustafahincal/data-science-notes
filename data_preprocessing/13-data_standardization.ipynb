{
 "cells": [
  {
   "cell_type": "markdown",
   "id": "d30c4c7a-49b6-42f3-982a-41b7dcc0fa35",
   "metadata": {},
   "source": [
    "# Değişken Standardizasyonu (Data Standardizasyonu)"
   ]
  },
  {
   "cell_type": "code",
   "execution_count": 1,
   "id": "c18f00d7-ed5a-4952-a364-c805b9583070",
   "metadata": {},
   "outputs": [
    {
     "data": {
      "text/html": [
       "<div>\n",
       "<style scoped>\n",
       "    .dataframe tbody tr th:only-of-type {\n",
       "        vertical-align: middle;\n",
       "    }\n",
       "\n",
       "    .dataframe tbody tr th {\n",
       "        vertical-align: top;\n",
       "    }\n",
       "\n",
       "    .dataframe thead th {\n",
       "        text-align: right;\n",
       "    }\n",
       "</style>\n",
       "<table border=\"1\" class=\"dataframe\">\n",
       "  <thead>\n",
       "    <tr style=\"text-align: right;\">\n",
       "      <th></th>\n",
       "      <th>V1</th>\n",
       "      <th>V2</th>\n",
       "      <th>V3</th>\n",
       "    </tr>\n",
       "  </thead>\n",
       "  <tbody>\n",
       "    <tr>\n",
       "      <th>0</th>\n",
       "      <td>1.0</td>\n",
       "      <td>7.0</td>\n",
       "      <td>6.0</td>\n",
       "    </tr>\n",
       "    <tr>\n",
       "      <th>1</th>\n",
       "      <td>3.0</td>\n",
       "      <td>7.0</td>\n",
       "      <td>12.0</td>\n",
       "    </tr>\n",
       "    <tr>\n",
       "      <th>2</th>\n",
       "      <td>6.0</td>\n",
       "      <td>5.0</td>\n",
       "      <td>5.0</td>\n",
       "    </tr>\n",
       "    <tr>\n",
       "      <th>3</th>\n",
       "      <td>5.0</td>\n",
       "      <td>8.0</td>\n",
       "      <td>6.0</td>\n",
       "    </tr>\n",
       "    <tr>\n",
       "      <th>4</th>\n",
       "      <td>7.0</td>\n",
       "      <td>12.0</td>\n",
       "      <td>14.0</td>\n",
       "    </tr>\n",
       "  </tbody>\n",
       "</table>\n",
       "</div>"
      ],
      "text/plain": [
       "    V1    V2    V3\n",
       "0  1.0   7.0   6.0\n",
       "1  3.0   7.0  12.0\n",
       "2  6.0   5.0   5.0\n",
       "3  5.0   8.0   6.0\n",
       "4  7.0  12.0  14.0"
      ]
     },
     "execution_count": 1,
     "metadata": {},
     "output_type": "execute_result"
    }
   ],
   "source": [
    "import numpy as np\n",
    "import pandas as pd\n",
    "V1 = np.array([1,3,6,5,7])\n",
    "V2 = np.array([7,7,5,8,12])\n",
    "V3 = np.array([6,12,5,6,14])\n",
    "df = pd.DataFrame(\n",
    "        {\"V1\" : V1,\n",
    "         \"V2\" : V2,\n",
    "         \"V3\" : V3})\n",
    "\n",
    "df = df.astype(float)\n",
    "df"
   ]
  },
  {
   "cell_type": "code",
   "execution_count": 2,
   "id": "8f7a24b0-2045-422d-9571-a7f6d899d157",
   "metadata": {},
   "outputs": [],
   "source": [
    "from sklearn import preprocessing"
   ]
  },
  {
   "cell_type": "markdown",
   "id": "33734e65-04b0-4cfe-a655-2a614ec6b123",
   "metadata": {},
   "source": [
    "## Standardizasyon"
   ]
  },
  {
   "cell_type": "code",
   "execution_count": 3,
   "id": "a900ed47-19d0-4ead-9634-edd9d4bf39f3",
   "metadata": {},
   "outputs": [
    {
     "data": {
      "text/plain": [
       "array([[-1.57841037, -0.34554737, -0.70920814],\n",
       "       [-0.64993368, -0.34554737,  0.92742603],\n",
       "       [ 0.74278135, -1.2094158 , -0.98198051],\n",
       "       [ 0.27854301,  0.08638684, -0.70920814],\n",
       "       [ 1.2070197 ,  1.81412369,  1.47297076]])"
      ]
     },
     "execution_count": 3,
     "metadata": {},
     "output_type": "execute_result"
    }
   ],
   "source": [
    "preprocessing.scale(df)"
   ]
  },
  {
   "cell_type": "code",
   "execution_count": 4,
   "id": "c16582f9-0736-4c3d-9b33-f6bc1277d156",
   "metadata": {},
   "outputs": [
    {
     "data": {
      "text/html": [
       "<div>\n",
       "<style scoped>\n",
       "    .dataframe tbody tr th:only-of-type {\n",
       "        vertical-align: middle;\n",
       "    }\n",
       "\n",
       "    .dataframe tbody tr th {\n",
       "        vertical-align: top;\n",
       "    }\n",
       "\n",
       "    .dataframe thead th {\n",
       "        text-align: right;\n",
       "    }\n",
       "</style>\n",
       "<table border=\"1\" class=\"dataframe\">\n",
       "  <thead>\n",
       "    <tr style=\"text-align: right;\">\n",
       "      <th></th>\n",
       "      <th>V1</th>\n",
       "      <th>V2</th>\n",
       "      <th>V3</th>\n",
       "    </tr>\n",
       "  </thead>\n",
       "  <tbody>\n",
       "    <tr>\n",
       "      <th>0</th>\n",
       "      <td>1.0</td>\n",
       "      <td>7.0</td>\n",
       "      <td>6.0</td>\n",
       "    </tr>\n",
       "    <tr>\n",
       "      <th>1</th>\n",
       "      <td>3.0</td>\n",
       "      <td>7.0</td>\n",
       "      <td>12.0</td>\n",
       "    </tr>\n",
       "    <tr>\n",
       "      <th>2</th>\n",
       "      <td>6.0</td>\n",
       "      <td>5.0</td>\n",
       "      <td>5.0</td>\n",
       "    </tr>\n",
       "    <tr>\n",
       "      <th>3</th>\n",
       "      <td>5.0</td>\n",
       "      <td>8.0</td>\n",
       "      <td>6.0</td>\n",
       "    </tr>\n",
       "    <tr>\n",
       "      <th>4</th>\n",
       "      <td>7.0</td>\n",
       "      <td>12.0</td>\n",
       "      <td>14.0</td>\n",
       "    </tr>\n",
       "  </tbody>\n",
       "</table>\n",
       "</div>"
      ],
      "text/plain": [
       "    V1    V2    V3\n",
       "0  1.0   7.0   6.0\n",
       "1  3.0   7.0  12.0\n",
       "2  6.0   5.0   5.0\n",
       "3  5.0   8.0   6.0\n",
       "4  7.0  12.0  14.0"
      ]
     },
     "execution_count": 4,
     "metadata": {},
     "output_type": "execute_result"
    }
   ],
   "source": [
    "df"
   ]
  },
  {
   "cell_type": "markdown",
   "id": "47c7787c-d554-422e-9ba7-f08df27140fe",
   "metadata": {},
   "source": [
    "## Normalizasyon"
   ]
  },
  {
   "cell_type": "code",
   "execution_count": 5,
   "id": "5356ad71-531a-4f1f-9a91-01563d3f2079",
   "metadata": {},
   "outputs": [
    {
     "data": {
      "text/plain": [
       "array([[0.10783277, 0.75482941, 0.64699664],\n",
       "       [0.21107926, 0.49251828, 0.84431705],\n",
       "       [0.64699664, 0.53916387, 0.53916387],\n",
       "       [0.4472136 , 0.71554175, 0.53665631],\n",
       "       [0.35491409, 0.60842415, 0.70982818]])"
      ]
     },
     "execution_count": 5,
     "metadata": {},
     "output_type": "execute_result"
    }
   ],
   "source": [
    "preprocessing.normalize(df)"
   ]
  },
  {
   "cell_type": "markdown",
   "id": "50fd95b6-cb06-455c-a79c-38bdf0961148",
   "metadata": {},
   "source": [
    "## Min - Max Dönüşümü"
   ]
  },
  {
   "cell_type": "code",
   "execution_count": 7,
   "id": "e0c332a4-15cb-4e75-a662-89229f3b874a",
   "metadata": {},
   "outputs": [
    {
     "data": {
      "text/plain": [
       "MinMaxScaler(feature_range=(10, 20))"
      ]
     },
     "execution_count": 7,
     "metadata": {},
     "output_type": "execute_result"
    }
   ],
   "source": [
    "scaler = preprocessing.MinMaxScaler(feature_range=(10,20))\n",
    "scaler"
   ]
  },
  {
   "cell_type": "code",
   "execution_count": 8,
   "id": "5b1c6254-c6da-435d-9ea4-3a4a3d2198c9",
   "metadata": {},
   "outputs": [
    {
     "data": {
      "text/plain": [
       "array([[10.        , 12.85714286, 11.11111111],\n",
       "       [13.33333333, 12.85714286, 17.77777778],\n",
       "       [18.33333333, 10.        , 10.        ],\n",
       "       [16.66666667, 14.28571429, 11.11111111],\n",
       "       [20.        , 20.        , 20.        ]])"
      ]
     },
     "execution_count": 8,
     "metadata": {},
     "output_type": "execute_result"
    }
   ],
   "source": [
    "scaler.fit_transform(df)"
   ]
  }
 ],
 "metadata": {
  "kernelspec": {
   "display_name": "Python 3 (ipykernel)",
   "language": "python",
   "name": "python3"
  },
  "language_info": {
   "codemirror_mode": {
    "name": "ipython",
    "version": 3
   },
   "file_extension": ".py",
   "mimetype": "text/x-python",
   "name": "python",
   "nbconvert_exporter": "python",
   "pygments_lexer": "ipython3",
   "version": "3.9.12"
  }
 },
 "nbformat": 4,
 "nbformat_minor": 5
}
