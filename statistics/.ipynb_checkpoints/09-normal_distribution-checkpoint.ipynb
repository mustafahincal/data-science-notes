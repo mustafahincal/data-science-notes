{
 "cells": [
  {
   "cell_type": "markdown",
   "id": "535e6452-71fc-496d-be07-d0efc7ec6c21",
   "metadata": {},
   "source": [
    "# Normal Dağılım"
   ]
  },
  {
   "cell_type": "markdown",
   "id": "c7bb356c-9051-48a3-adb2-c987984b8d31",
   "metadata": {},
   "source": [
    "## Normal dağıldığı bilinen sürekli rassal değişkenler için olasılık hesaplanması için kullanılır"
   ]
  },
  {
   "cell_type": "markdown",
   "id": "022682e8-126c-41d8-814a-b33a2da24b78",
   "metadata": {},
   "source": [
    "${\\displaystyle f(x\\mid \\mu ,\\sigma ^{2})={\\frac {1}{\\sqrt {2\\pi \\sigma ^{2}}}}e^{-{\\frac {(x-\\mu )^{2}}{2\\sigma ^{2}}}}}$\n",
    "\n",
    "* $\\mu$  ortalama ya da dağılımın beklenen değeri\n",
    "\n",
    "* ${\\displaystyle \\sigma }$  standart sapma\n",
    "\n",
    "* ${\\displaystyle \\sigma ^{2}}$ varyans"
   ]
  },
  {
   "cell_type": "markdown",
   "id": "8e9cda70-7423-400a-8273-dc92133e0810",
   "metadata": {},
   "source": [
    "## İş Uygulaması\n",
    "### Problem : Bir yatırım/toplantı öncesinde gelecek ay ile ilgili satışların belirli değerlerde gerçekleşmesi olasılıkları belirlenmek isteniyor.\n",
    "### Detaylar : \n",
    "- Dağılımın normal olduğu biliniyor\n",
    "- Aylık ortalama satış sayısı 80K, standart sapması 5K\n",
    "- 90K'dan fazla satış yapma olasılığı nedir?"
   ]
  },
  {
   "cell_type": "code",
   "execution_count": 2,
   "id": "a756aa4b-4a28-429d-bc42-6486b4de03c2",
   "metadata": {},
   "outputs": [],
   "source": [
    "from scipy.stats import norm"
   ]
  },
  {
   "cell_type": "markdown",
   "id": "bb886d52-40db-4752-bb51-1e68b35b5d6f",
   "metadata": {},
   "source": [
    "### cdf : cumulative density function (kümülatif yoğunluk fonksiyonu)"
   ]
  },
  {
   "cell_type": "code",
   "execution_count": 3,
   "id": "b87d69a9-e85f-4ee3-8909-3f6fe99a18eb",
   "metadata": {},
   "outputs": [
    {
     "data": {
      "text/plain": [
       "0.02275013194817921"
      ]
     },
     "execution_count": 3,
     "metadata": {},
     "output_type": "execute_result"
    }
   ],
   "source": [
    "# 90'dan fazla olması\n",
    "1 - norm.cdf(90,80,5) # integral alanı 1, tüm alandan hesaplanan değeri çıkarırsak 90'dan fazla olma olasılığını elde ederiz"
   ]
  },
  {
   "cell_type": "code",
   "execution_count": 5,
   "id": "9fe18353-a6f9-4311-8bad-0863be1a75ab",
   "metadata": {},
   "outputs": [
    {
     "data": {
      "text/plain": [
       "0.9772498680518208"
      ]
     },
     "execution_count": 5,
     "metadata": {},
     "output_type": "execute_result"
    }
   ],
   "source": [
    "# 70'dan fazla olması\n",
    "1 - norm.cdf(70,80,5)"
   ]
  },
  {
   "cell_type": "code",
   "execution_count": 9,
   "id": "42cc28b1-de6b-4093-8720-14905fbc3be9",
   "metadata": {},
   "outputs": [
    {
     "data": {
      "text/plain": [
       "0.08075665923377107"
      ]
     },
     "execution_count": 9,
     "metadata": {},
     "output_type": "execute_result"
    }
   ],
   "source": [
    "# 73'dan az olması\n",
    "norm.cdf(73,80,5)"
   ]
  },
  {
   "cell_type": "code",
   "execution_count": 12,
   "id": "1299996a-673e-4f6b-b543-529a7a5fc0b9",
   "metadata": {},
   "outputs": [
    {
     "data": {
      "text/plain": [
       "0.13590512198327787"
      ]
     },
     "execution_count": 12,
     "metadata": {},
     "output_type": "execute_result"
    }
   ],
   "source": [
    "# 85 ile 90 arasında olması\n",
    "norm.cdf(90,80,5) - norm.cdf(85,80,5)"
   ]
  }
 ],
 "metadata": {
  "kernelspec": {
   "display_name": "Python 3 (ipykernel)",
   "language": "python",
   "name": "python3"
  },
  "language_info": {
   "codemirror_mode": {
    "name": "ipython",
    "version": 3
   },
   "file_extension": ".py",
   "mimetype": "text/x-python",
   "name": "python",
   "nbconvert_exporter": "python",
   "pygments_lexer": "ipython3",
   "version": "3.9.12"
  }
 },
 "nbformat": 4,
 "nbformat_minor": 5
}
