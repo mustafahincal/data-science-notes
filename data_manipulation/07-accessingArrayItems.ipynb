{
 "cells": [
  {
   "cell_type": "markdown",
   "id": "f4ecf737-49e3-481b-b4c3-75286b676bbf",
   "metadata": {},
   "source": [
    "## Index ile  elemanlara erismek"
   ]
  },
  {
   "cell_type": "code",
   "execution_count": 1,
   "id": "f202b573-51d8-4d8e-8368-398ffe45c8ec",
   "metadata": {},
   "outputs": [
    {
     "data": {
      "text/plain": [
       "array([1, 2, 4, 6, 8, 3, 7, 4, 0, 1])"
      ]
     },
     "execution_count": 1,
     "metadata": {},
     "output_type": "execute_result"
    }
   ],
   "source": [
    "import numpy as np\n",
    "a = np.random.randint(10,size = 10)\n",
    "a"
   ]
  },
  {
   "cell_type": "code",
   "execution_count": 2,
   "id": "cf277fba-e943-4fbe-b0cd-bc4ec648c1cd",
   "metadata": {},
   "outputs": [
    {
     "data": {
      "text/plain": [
       "1"
      ]
     },
     "execution_count": 2,
     "metadata": {},
     "output_type": "execute_result"
    }
   ],
   "source": [
    "a[0]"
   ]
  },
  {
   "cell_type": "code",
   "execution_count": 3,
   "id": "02cccae8-103f-42bb-817c-b0fb1fd9e14f",
   "metadata": {},
   "outputs": [
    {
     "data": {
      "text/plain": [
       "0"
      ]
     },
     "execution_count": 3,
     "metadata": {},
     "output_type": "execute_result"
    }
   ],
   "source": [
    "a[-2]"
   ]
  },
  {
   "cell_type": "code",
   "execution_count": 4,
   "id": "c28a7485-aae2-459c-a2be-9be5c4215dba",
   "metadata": {},
   "outputs": [
    {
     "data": {
      "text/plain": [
       "array([100,   2,   4,   6,   8,   3,   7,   4,   0,   1])"
      ]
     },
     "execution_count": 4,
     "metadata": {},
     "output_type": "execute_result"
    }
   ],
   "source": [
    "a[0] = 100\n",
    "a"
   ]
  },
  {
   "cell_type": "code",
   "execution_count": 5,
   "id": "13865ccb-b90b-4705-817f-2b03005e477c",
   "metadata": {},
   "outputs": [
    {
     "data": {
      "text/plain": [
       "array([[8, 5, 3],\n",
       "       [1, 7, 6],\n",
       "       [3, 2, 3]])"
      ]
     },
     "execution_count": 5,
     "metadata": {},
     "output_type": "execute_result"
    }
   ],
   "source": [
    "b = np.random.randint(1,10,(3,3))\n",
    "b"
   ]
  },
  {
   "cell_type": "code",
   "execution_count": 6,
   "id": "432c648d-473d-47c2-ab60-5b2b45f0c2b7",
   "metadata": {},
   "outputs": [
    {
     "data": {
      "text/plain": [
       "array([[ 8, 99,  3],\n",
       "       [ 1,  7,  6],\n",
       "       [ 3,  2,  3]])"
      ]
     },
     "execution_count": 6,
     "metadata": {},
     "output_type": "execute_result"
    }
   ],
   "source": [
    "b[0][1] = 99\n",
    "b"
   ]
  },
  {
   "cell_type": "code",
   "execution_count": 7,
   "id": "726d08cc-e07c-4c0c-8a64-2959772d8a08",
   "metadata": {},
   "outputs": [
    {
     "data": {
      "text/plain": [
       "array([[ 8, 99,  7],\n",
       "       [ 1,  7,  6],\n",
       "       [ 3,  2,  3]])"
      ]
     },
     "execution_count": 7,
     "metadata": {},
     "output_type": "execute_result"
    }
   ],
   "source": [
    "b[0][2] = 7.5  # numpy arrayleri fix type, sabitlenmiş tip, float bir deger ile degistirmeye calistigimiz zaman ondalikli kismi keser\n",
    "b"
   ]
  },
  {
   "cell_type": "code",
   "execution_count": 8,
   "id": "b3004816",
   "metadata": {},
   "outputs": [
    {
     "data": {
      "text/plain": [
       "7"
      ]
     },
     "execution_count": 8,
     "metadata": {},
     "output_type": "execute_result"
    }
   ],
   "source": [
    "b[0,2] # b[0,2] = b[0][2]"
   ]
  },
  {
   "cell_type": "code",
   "execution_count": 9,
   "id": "cbcdbb70",
   "metadata": {},
   "outputs": [
    {
     "data": {
      "text/plain": [
       "array([[ 1,  2,  3,  4],\n",
       "       [ 5,  6,  7,  8],\n",
       "       [ 9, 10, 11, 12]])"
      ]
     },
     "execution_count": 9,
     "metadata": {},
     "output_type": "execute_result"
    }
   ],
   "source": [
    "c = np.arange(1,13).reshape(3,4)\n",
    "c"
   ]
  },
  {
   "cell_type": "code",
   "execution_count": 13,
   "id": "ee46b640",
   "metadata": {},
   "outputs": [
    {
     "data": {
      "text/plain": [
       "6"
      ]
     },
     "execution_count": 13,
     "metadata": {},
     "output_type": "execute_result"
    }
   ],
   "source": [
    "c[1,1]"
   ]
  },
  {
   "cell_type": "code",
   "execution_count": 14,
   "id": "0fa5395a",
   "metadata": {},
   "outputs": [
    {
     "data": {
      "text/plain": [
       "array([ 3,  7, 11])"
      ]
     },
     "execution_count": 14,
     "metadata": {},
     "output_type": "execute_result"
    }
   ],
   "source": [
    "c[:,2]"
   ]
  },
  {
   "cell_type": "code",
   "execution_count": 15,
   "id": "36ce39ec",
   "metadata": {},
   "outputs": [
    {
     "data": {
      "text/plain": [
       "array([ 9, 10, 11, 12])"
      ]
     },
     "execution_count": 15,
     "metadata": {},
     "output_type": "execute_result"
    }
   ],
   "source": [
    "c[:][2]  # c[:,2] != c[:][2] be carefull"
   ]
  },
  {
   "cell_type": "code",
   "execution_count": 30,
   "id": "e5b379dd-d4a4-4087-89bb-493273b6a760",
   "metadata": {},
   "outputs": [],
   "source": [
    "d = b*0.1"
   ]
  },
  {
   "cell_type": "code",
   "execution_count": 32,
   "id": "ce69a749-9ac9-4df9-b583-b6906bf2f23f",
   "metadata": {},
   "outputs": [
    {
     "data": {
      "text/plain": [
       "numpy.float64"
      ]
     },
     "execution_count": 32,
     "metadata": {},
     "output_type": "execute_result"
    }
   ],
   "source": [
    "type(d[0][0])"
   ]
  }
 ],
 "metadata": {
  "kernelspec": {
   "display_name": "base",
   "language": "python",
   "name": "python3"
  },
  "language_info": {
   "codemirror_mode": {
    "name": "ipython",
    "version": 3
   },
   "file_extension": ".py",
   "mimetype": "text/x-python",
   "name": "python",
   "nbconvert_exporter": "python",
   "pygments_lexer": "ipython3",
   "version": "3.9.13"
  },
  "vscode": {
   "interpreter": {
    "hash": "777fa8505484734131332f46d395e05226ba5db18fcd26e384d7143286b51c06"
   }
  }
 },
 "nbformat": 4,
 "nbformat_minor": 5
}
