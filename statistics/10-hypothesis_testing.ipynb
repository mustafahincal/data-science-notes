{
 "cells": [
  {
   "cell_type": "markdown",
   "id": "a6cf4aac-80ea-40c5-9ca2-4ddbb49d71b2",
   "metadata": {},
   "source": [
    "# Hipotez Testi"
   ]
  },
  {
   "cell_type": "markdown",
   "id": "20b9aec5-b8f5-48ba-911a-e5f584e65968",
   "metadata": {},
   "source": [
    "## Bir inanışı (bir savı, bir tahmini vs.) test etmek için kullanılan istatistiksel bir tekniktir."
   ]
  },
  {
   "cell_type": "code",
   "execution_count": null,
   "id": "11823728-7740-4847-98f4-a50f411d6768",
   "metadata": {},
   "outputs": [],
   "source": []
  }
 ],
 "metadata": {
  "kernelspec": {
   "display_name": "Python 3 (ipykernel)",
   "language": "python",
   "name": "python3"
  },
  "language_info": {
   "codemirror_mode": {
    "name": "ipython",
    "version": 3
   },
   "file_extension": ".py",
   "mimetype": "text/x-python",
   "name": "python",
   "nbconvert_exporter": "python",
   "pygments_lexer": "ipython3",
   "version": "3.9.12"
  }
 },
 "nbformat": 4,
 "nbformat_minor": 5
}
