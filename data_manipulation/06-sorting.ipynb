{
 "cells": [
  {
   "cell_type": "markdown",
   "id": "e951c94c-2daa-4e46-bfd9-b184c51a823f",
   "metadata": {},
   "source": [
    "## array siralama - Sorting"
   ]
  },
  {
   "cell_type": "code",
   "execution_count": 2,
   "id": "c478ce11-455e-4f39-9602-b749012a4211",
   "metadata": {},
   "outputs": [],
   "source": [
    "import numpy as np"
   ]
  },
  {
   "cell_type": "code",
   "execution_count": 3,
   "id": "f02a88bd-e5b8-4ba2-aee3-51ae6f7f623f",
   "metadata": {},
   "outputs": [],
   "source": [
    "a = np.array([1,5,2,3,7,4])"
   ]
  },
  {
   "cell_type": "code",
   "execution_count": 4,
   "id": "0b1a1dcc-98e8-4504-ba37-a2fac442ff3b",
   "metadata": {},
   "outputs": [
    {
     "data": {
      "text/plain": [
       "array([1, 5, 2, 3, 7, 4])"
      ]
     },
     "execution_count": 4,
     "metadata": {},
     "output_type": "execute_result"
    }
   ],
   "source": [
    "a"
   ]
  },
  {
   "cell_type": "code",
   "execution_count": 5,
   "id": "1c4b133e-92ca-4bf3-98be-6ae68ffb228e",
   "metadata": {},
   "outputs": [
    {
     "data": {
      "text/plain": [
       "array([1, 2, 3, 4, 5, 7])"
      ]
     },
     "execution_count": 5,
     "metadata": {},
     "output_type": "execute_result"
    }
   ],
   "source": [
    "np.sort(a) # this is not inplace"
   ]
  },
  {
   "cell_type": "code",
   "execution_count": 7,
   "id": "effdb586",
   "metadata": {},
   "outputs": [
    {
     "data": {
      "text/plain": [
       "array([1, 2, 3, 4, 5, 7])"
      ]
     },
     "execution_count": 7,
     "metadata": {},
     "output_type": "execute_result"
    }
   ],
   "source": [
    "a.sort() # this is inplace like => a = np.sort(a)\n",
    "a"
   ]
  },
  {
   "cell_type": "code",
   "execution_count": 5,
   "id": "fa405e67-4373-47cf-acce-c6bc7a8c2548",
   "metadata": {},
   "outputs": [
    {
     "data": {
      "text/plain": [
       "array([[13.34359609, 21.81513738, 19.50243281],\n",
       "       [24.29919576, 25.67864949, 17.30324113],\n",
       "       [18.27920605,  9.90399644, 28.63120737]])"
      ]
     },
     "execution_count": 5,
     "metadata": {},
     "output_type": "execute_result"
    }
   ],
   "source": [
    "b = np.random.normal(20,5,(3,3))\n",
    "b"
   ]
  },
  {
   "cell_type": "code",
   "execution_count": 6,
   "id": "9e0ce30b-7957-4096-b96c-5e7c09273106",
   "metadata": {},
   "outputs": [
    {
     "data": {
      "text/plain": [
       "array([[13.34359609, 19.50243281, 21.81513738],\n",
       "       [17.30324113, 24.29919576, 25.67864949],\n",
       "       [ 9.90399644, 18.27920605, 28.63120737]])"
      ]
     },
     "execution_count": 6,
     "metadata": {},
     "output_type": "execute_result"
    }
   ],
   "source": [
    "np.sort(b)"
   ]
  },
  {
   "cell_type": "code",
   "execution_count": 8,
   "id": "f8e48d41-7791-4b6f-9d0c-29daf2503ab8",
   "metadata": {},
   "outputs": [
    {
     "data": {
      "text/plain": [
       "array([[13.34359609, 19.50243281, 21.81513738],\n",
       "       [17.30324113, 24.29919576, 25.67864949],\n",
       "       [ 9.90399644, 18.27920605, 28.63120737]])"
      ]
     },
     "execution_count": 8,
     "metadata": {},
     "output_type": "execute_result"
    }
   ],
   "source": [
    "np.sort(b, axis = 1) # satirlara gore siralar"
   ]
  },
  {
   "cell_type": "code",
   "execution_count": 9,
   "id": "f2470002-5825-4ee2-9106-e769093de0ed",
   "metadata": {},
   "outputs": [
    {
     "data": {
      "text/plain": [
       "array([[13.34359609,  9.90399644, 17.30324113],\n",
       "       [18.27920605, 21.81513738, 19.50243281],\n",
       "       [24.29919576, 25.67864949, 28.63120737]])"
      ]
     },
     "execution_count": 9,
     "metadata": {},
     "output_type": "execute_result"
    }
   ],
   "source": [
    "np.sort(b, axis = 0) # sutunlara gore siralar"
   ]
  },
  {
   "cell_type": "code",
   "execution_count": null,
   "id": "44ad99a7-912c-4850-bdeb-d2fe97227a31",
   "metadata": {},
   "outputs": [],
   "source": []
  }
 ],
 "metadata": {
  "kernelspec": {
   "display_name": "base",
   "language": "python",
   "name": "python3"
  },
  "language_info": {
   "codemirror_mode": {
    "name": "ipython",
    "version": 3
   },
   "file_extension": ".py",
   "mimetype": "text/x-python",
   "name": "python",
   "nbconvert_exporter": "python",
   "pygments_lexer": "ipython3",
   "version": "3.9.13"
  },
  "vscode": {
   "interpreter": {
    "hash": "777fa8505484734131332f46d395e05226ba5db18fcd26e384d7143286b51c06"
   }
  }
 },
 "nbformat": 4,
 "nbformat_minor": 5
}
