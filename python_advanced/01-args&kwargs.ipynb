{
 "cells": [
  {
   "cell_type": "markdown",
   "id": "2a42918b-0e57-448f-aec8-1b0860bb458c",
   "metadata": {},
   "source": [
    "# Args"
   ]
  },
  {
   "cell_type": "code",
   "execution_count": 1,
   "id": "a3feab3d-230c-4f6f-a5c1-f1c55722f4ad",
   "metadata": {},
   "outputs": [],
   "source": [
    "def sum(numbers):\n",
    "    result = 0\n",
    "    for number in numbers: \n",
    "        result += number \n",
    "    print(result)"
   ]
  },
  {
   "cell_type": "code",
   "execution_count": 2,
   "id": "65dcf1a6-3f8f-45bf-ba8b-fcf94e1fb00f",
   "metadata": {},
   "outputs": [],
   "source": [
    "numbers = [1,2,3,4]"
   ]
  },
  {
   "cell_type": "code",
   "execution_count": 3,
   "id": "e3826654-2291-4937-991c-2536f6600b86",
   "metadata": {},
   "outputs": [
    {
     "name": "stdout",
     "output_type": "stream",
     "text": [
      "10\n"
     ]
    }
   ],
   "source": [
    "sum(numbers)"
   ]
  },
  {
   "cell_type": "code",
   "execution_count": 4,
   "id": "65a10f17-7d46-4242-ad02-31d246511d34",
   "metadata": {},
   "outputs": [],
   "source": [
    "def sum(*numbers):\n",
    "    result = 0\n",
    "    for number in numbers:\n",
    "        result += number\n",
    "    print(result)"
   ]
  },
  {
   "cell_type": "code",
   "execution_count": 5,
   "id": "128cfe63-4511-4c90-b9d3-926cde23cb4b",
   "metadata": {},
   "outputs": [
    {
     "name": "stdout",
     "output_type": "stream",
     "text": [
      "36\n"
     ]
    }
   ],
   "source": [
    "sum(1,2,3,4,5,6,7,8)"
   ]
  },
  {
   "attachments": {},
   "cell_type": "markdown",
   "id": "629db0f8-3eb9-40fc-a52a-48ce41c34ec6",
   "metadata": {},
   "source": [
    "### we can use * like ... in js. *args"
   ]
  },
  {
   "attachments": {},
   "cell_type": "markdown",
   "id": "55042535-aca9-442b-9b3e-a68034f8d2bd",
   "metadata": {},
   "source": [
    "### we can freely give as many values as we want, we don't need to send them in an array or a dictionary structure. we use **kwargs for dictionaries "
   ]
  },
  {
   "cell_type": "markdown",
   "id": "d11ad897-e07b-4853-8d8d-9eb93c0bd245",
   "metadata": {},
   "source": [
    "# Kwargs"
   ]
  },
  {
   "cell_type": "code",
   "execution_count": 1,
   "id": "0459697d-275d-4488-bb4d-603ed7bb765c",
   "metadata": {},
   "outputs": [],
   "source": [
    "def write_student(student):\n",
    "    print(student)"
   ]
  },
  {
   "cell_type": "code",
   "execution_count": 2,
   "id": "9b745703",
   "metadata": {},
   "outputs": [],
   "source": [
    "student = {'name': 'Mustafa', 'age': 22, 'address': 'New York'}"
   ]
  },
  {
   "cell_type": "code",
   "execution_count": 3,
   "id": "bcece320-ea41-4e21-83df-2a8cd4a9b015",
   "metadata": {},
   "outputs": [
    {
     "name": "stdout",
     "output_type": "stream",
     "text": [
      "{'name': 'Mustafa', 'age': 22, 'address': 'New York'}\n"
     ]
    }
   ],
   "source": [
    "write_student(student)"
   ]
  },
  {
   "cell_type": "code",
   "execution_count": 4,
   "id": "ce05c45a-cd57-4bf9-b81e-47f7e7b516d8",
   "metadata": {},
   "outputs": [],
   "source": [
    "def write_student(**student):\n",
    "    print(student)\n",
    "    for k,v in student.items():\n",
    "        print(f\"key : {k},  value : {v}\")"
   ]
  },
  {
   "cell_type": "code",
   "execution_count": 5,
   "id": "f4ac366e-bbc2-4aa0-9ec7-0c5a495290b0",
   "metadata": {
    "tags": []
   },
   "outputs": [
    {
     "name": "stdout",
     "output_type": "stream",
     "text": [
      "{'name': 'Mustafa', 'age': 20, 'address': 'Berlin', 'phone': '12345678'}\n",
      "key : name,  value : Mustafa\n",
      "key : age,  value : 20\n",
      "key : address,  value : Berlin\n",
      "key : phone,  value : 12345678\n"
     ]
    }
   ],
   "source": [
    "write_student(name=\"Mustafa\", age=20,address = \"Berlin\",phone = \"12345678\")"
   ]
  }
 ],
 "metadata": {
  "kernelspec": {
   "display_name": "base",
   "language": "python",
   "name": "python3"
  },
  "language_info": {
   "codemirror_mode": {
    "name": "ipython",
    "version": 3
   },
   "file_extension": ".py",
   "mimetype": "text/x-python",
   "name": "python",
   "nbconvert_exporter": "python",
   "pygments_lexer": "ipython3",
   "version": "3.9.13"
  },
  "vscode": {
   "interpreter": {
    "hash": "777fa8505484734131332f46d395e05226ba5db18fcd26e384d7143286b51c06"
   }
  }
 },
 "nbformat": 4,
 "nbformat_minor": 5
}
