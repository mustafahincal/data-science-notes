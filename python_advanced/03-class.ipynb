{
 "cells": [
  {
   "cell_type": "markdown",
   "metadata": {},
   "source": [
    "# Class"
   ]
  },
  {
   "cell_type": "code",
   "execution_count": null,
   "metadata": {},
   "outputs": [],
   "source": [
    "# class içerisinde verilere attribute, fonksiyonlara method diyoruz."
   ]
  },
  {
   "cell_type": "code",
   "execution_count": 2,
   "metadata": {},
   "outputs": [],
   "source": [
    "class Employee:\n",
    "      pass"
   ]
  },
  {
   "cell_type": "code",
   "execution_count": 3,
   "metadata": {},
   "outputs": [],
   "source": [
    "obj = Employee()"
   ]
  },
  {
   "cell_type": "code",
   "execution_count": 4,
   "metadata": {},
   "outputs": [],
   "source": [
    "obj.a = 4 # attribute eklendi"
   ]
  },
  {
   "cell_type": "code",
   "execution_count": 5,
   "metadata": {},
   "outputs": [
    {
     "name": "stdout",
     "output_type": "stream",
     "text": [
      "4\n"
     ]
    }
   ],
   "source": [
    "print(obj.a)"
   ]
  },
  {
   "cell_type": "code",
   "execution_count": 6,
   "metadata": {},
   "outputs": [],
   "source": [
    "class Employee:\n",
    "      def __init__(self,name,age,pay):\n",
    "            self.name = name\n",
    "            self.age = age\n",
    "            self.pay = pay"
   ]
  },
  {
   "cell_type": "code",
   "execution_count": 8,
   "metadata": {},
   "outputs": [
    {
     "data": {
      "text/plain": [
       "<__main__.Employee at 0x7fbc31dc36d0>"
      ]
     },
     "execution_count": 8,
     "metadata": {},
     "output_type": "execute_result"
    }
   ],
   "source": [
    "emp_1 = Employee(\"Mustafa\",21,9000)\n",
    "emp_1"
   ]
  },
  {
   "cell_type": "code",
   "execution_count": 9,
   "metadata": {},
   "outputs": [
    {
     "data": {
      "text/plain": [
       "'Mustafa'"
      ]
     },
     "execution_count": 9,
     "metadata": {},
     "output_type": "execute_result"
    }
   ],
   "source": [
    "emp_1.name"
   ]
  },
  {
   "cell_type": "code",
   "execution_count": 1,
   "metadata": {},
   "outputs": [],
   "source": [
    "class Employee:\n",
    "      def __init__(self,name,age,pay):\n",
    "            self.name = name\n",
    "            self.age = age\n",
    "            self.pay = pay\n",
    "      def get_emp_info(self):\n",
    "            print(f\"my name is {self.name} and i am {self.age} years old\") "
   ]
  },
  {
   "cell_type": "code",
   "execution_count": 2,
   "metadata": {},
   "outputs": [],
   "source": [
    "emp_2 = Employee(\"Tunahan\",20,8888)"
   ]
  },
  {
   "cell_type": "code",
   "execution_count": 3,
   "metadata": {},
   "outputs": [
    {
     "name": "stdout",
     "output_type": "stream",
     "text": [
      "my name is Tunahan and i am 20 years old\n"
     ]
    }
   ],
   "source": [
    "emp_2.get_emp_info()"
   ]
  },
  {
   "cell_type": "markdown",
   "metadata": {},
   "source": [
    "## Class Varible"
   ]
  },
  {
   "cell_type": "code",
   "execution_count": 11,
   "metadata": {},
   "outputs": [],
   "source": [
    "class Employee:\n",
    "      raise_percent = 1.04\n",
    "      def __init__(self,name,age,pay):\n",
    "            self.name = name\n",
    "            self.age = age\n",
    "            self.pay = pay\n",
    "      def apply_raise(self):\n",
    "            self.pay = self.pay * Employee.raise_percent\n",
    "            # raise_percent diyemeyiz bi referans vermek gerekir, static variable gibi düşünebiliriz. self.raice_percent'de çalışır"
   ]
  },
  {
   "cell_type": "code",
   "execution_count": 12,
   "metadata": {},
   "outputs": [
    {
     "data": {
      "text/plain": [
       "4900"
      ]
     },
     "execution_count": 12,
     "metadata": {},
     "output_type": "execute_result"
    }
   ],
   "source": [
    "emp_3 = Employee(\"Jacob\",32,4900)\n",
    "emp_3.pay"
   ]
  },
  {
   "cell_type": "code",
   "execution_count": 13,
   "metadata": {},
   "outputs": [
    {
     "data": {
      "text/plain": [
       "5096.0"
      ]
     },
     "execution_count": 13,
     "metadata": {},
     "output_type": "execute_result"
    }
   ],
   "source": [
    "emp_3.apply_raise()\n",
    "emp_3.pay"
   ]
  },
  {
   "cell_type": "code",
   "execution_count": 14,
   "metadata": {},
   "outputs": [],
   "source": [
    "# --------"
   ]
  },
  {
   "cell_type": "code",
   "execution_count": 15,
   "metadata": {},
   "outputs": [
    {
     "name": "stdout",
     "output_type": "stream",
     "text": [
      "{'name': 'Jacob', 'age': 32, 'pay': 5096.0}\n"
     ]
    }
   ],
   "source": [
    "print(emp_3.__dict__) # object'in attribute'larını gösterir"
   ]
  },
  {
   "cell_type": "code",
   "execution_count": 16,
   "metadata": {},
   "outputs": [
    {
     "name": "stdout",
     "output_type": "stream",
     "text": [
      "{'__module__': '__main__', 'raise_percent': 1.04, '__init__': <function Employee.__init__ at 0x7fe8686a3160>, 'apply_raise': <function Employee.apply_raise at 0x7fe8686a31f0>, '__dict__': <attribute '__dict__' of 'Employee' objects>, '__weakref__': <attribute '__weakref__' of 'Employee' objects>, '__doc__': None}\n"
     ]
    }
   ],
   "source": [
    "print(Employee.__dict__) # raise_percent burada görükecektir"
   ]
  },
  {
   "cell_type": "code",
   "execution_count": 17,
   "metadata": {},
   "outputs": [
    {
     "data": {
      "text/plain": [
       "{'name': 'Micheal', 'age': 23, 'pay': 5000}"
      ]
     },
     "execution_count": 17,
     "metadata": {},
     "output_type": "execute_result"
    }
   ],
   "source": [
    "emp_4 = Employee(\"Micheal\",23,5000)\n",
    "emp_4.__dict__"
   ]
  },
  {
   "cell_type": "code",
   "execution_count": 19,
   "metadata": {},
   "outputs": [
    {
     "data": {
      "text/plain": [
       "{'name': 'Jacob', 'age': 32, 'pay': 5096.0, 'experience': 4}"
      ]
     },
     "execution_count": 19,
     "metadata": {},
     "output_type": "execute_result"
    }
   ],
   "source": [
    "emp_3.experience = 4\n",
    "emp_3.__dict__"
   ]
  },
  {
   "cell_type": "code",
   "execution_count": 20,
   "metadata": {},
   "outputs": [
    {
     "data": {
      "text/plain": [
       "{'name': 'Micheal', 'age': 23, 'pay': 5000}"
      ]
     },
     "execution_count": 20,
     "metadata": {},
     "output_type": "execute_result"
    }
   ],
   "source": [
    "emp_4.__dict__"
   ]
  },
  {
   "cell_type": "code",
   "execution_count": 21,
   "metadata": {},
   "outputs": [],
   "source": [
    "# ---------"
   ]
  },
  {
   "cell_type": "code",
   "execution_count": 24,
   "metadata": {},
   "outputs": [
    {
     "name": "stdout",
     "output_type": "stream",
     "text": [
      "1.04\n",
      "1.04\n",
      "1.04\n"
     ]
    }
   ],
   "source": [
    "print(Employee.raise_percent)\n",
    "print(emp_3.raise_percent)\n",
    "print(emp_4.raise_percent)"
   ]
  },
  {
   "cell_type": "code",
   "execution_count": 25,
   "metadata": {},
   "outputs": [],
   "source": [
    "Employee.raise_percent = 1.06 # hepsinde güncellenir"
   ]
  },
  {
   "cell_type": "code",
   "execution_count": 26,
   "metadata": {},
   "outputs": [
    {
     "name": "stdout",
     "output_type": "stream",
     "text": [
      "1.06\n",
      "1.06\n",
      "1.06\n"
     ]
    }
   ],
   "source": [
    "print(Employee.raise_percent)\n",
    "print(emp_3.raise_percent)\n",
    "print(emp_4.raise_percent)"
   ]
  },
  {
   "cell_type": "code",
   "execution_count": 27,
   "metadata": {},
   "outputs": [],
   "source": [
    "emp_3.raise_percent = 1.09 # dersek güncellemez ki çünkü öyle bi attribute'a sahip değil o yüzden kendine ait bi raise_percent oluşturu"
   ]
  },
  {
   "cell_type": "code",
   "execution_count": 28,
   "metadata": {},
   "outputs": [
    {
     "name": "stdout",
     "output_type": "stream",
     "text": [
      "1.06\n",
      "1.09\n",
      "1.06\n"
     ]
    }
   ],
   "source": [
    "print(Employee.raise_percent)\n",
    "print(emp_3.raise_percent)\n",
    "print(emp_4.raise_percent)"
   ]
  },
  {
   "cell_type": "code",
   "execution_count": 29,
   "metadata": {},
   "outputs": [
    {
     "data": {
      "text/plain": [
       "{'name': 'Jacob',\n",
       " 'age': 32,\n",
       " 'pay': 5096.0,\n",
       " 'experience': 4,\n",
       " 'raise_percent': 1.09}"
      ]
     },
     "execution_count": 29,
     "metadata": {},
     "output_type": "execute_result"
    }
   ],
   "source": [
    "emp_3.__dict__"
   ]
  },
  {
   "cell_type": "code",
   "execution_count": 30,
   "metadata": {},
   "outputs": [],
   "source": [
    "# -------------"
   ]
  },
  {
   "attachments": {},
   "cell_type": "markdown",
   "metadata": {},
   "source": [
    "### Her yeni çalışan eklendiğinde çalışan sayısını bir artırmak istiyorum"
   ]
  },
  {
   "cell_type": "code",
   "execution_count": 31,
   "metadata": {},
   "outputs": [],
   "source": [
    "class Employee:\n",
    "      raise_percent = 1.04\n",
    "      num_emp = 0\n",
    "      def __init__(self,name,age,pay):\n",
    "            self.name = name\n",
    "            self.age = age\n",
    "            self.pay = pay\n",
    "            Employee.num_emp += 1\n",
    "      def apply_raise(self):\n",
    "            self.pay = self.pay * Employee.raise_percent"
   ]
  },
  {
   "cell_type": "code",
   "execution_count": 32,
   "metadata": {},
   "outputs": [],
   "source": [
    "emp_5 = Employee(\"employee1\",22,1231)"
   ]
  },
  {
   "cell_type": "code",
   "execution_count": 33,
   "metadata": {},
   "outputs": [
    {
     "data": {
      "text/plain": [
       "1"
      ]
     },
     "execution_count": 33,
     "metadata": {},
     "output_type": "execute_result"
    }
   ],
   "source": [
    "Employee.num_emp"
   ]
  },
  {
   "cell_type": "code",
   "execution_count": 34,
   "metadata": {},
   "outputs": [],
   "source": [
    "emp_6 = Employee(\"employee2\",24,4211)"
   ]
  },
  {
   "cell_type": "code",
   "execution_count": 36,
   "metadata": {},
   "outputs": [
    {
     "data": {
      "text/plain": [
       "2"
      ]
     },
     "execution_count": 36,
     "metadata": {},
     "output_type": "execute_result"
    }
   ],
   "source": [
    "Employee.num_emp"
   ]
  },
  {
   "cell_type": "markdown",
   "metadata": {},
   "source": [
    "## Class Variable"
   ]
  },
  {
   "cell_type": "code",
   "execution_count": 38,
   "metadata": {},
   "outputs": [],
   "source": [
    "# @classmethod decorator methodu ilk arguman olarak instance almak yerine class'ı alacak şekilde günceller"
   ]
  },
  {
   "cell_type": "code",
   "execution_count": 46,
   "metadata": {},
   "outputs": [],
   "source": [
    "class Employee:\n",
    "      raise_percent = 1.04\n",
    "      num_emp = 0\n",
    "      def __init__(self,name,age,pay):\n",
    "            self.name = name\n",
    "            self.age = age\n",
    "            self.pay = pay\n",
    "            Employee.num_emp += 1\n",
    "\n",
    "      def apply_raise(self):\n",
    "            self.pay = self.pay * Employee.raise_percent\n",
    "\n",
    "      @classmethod      \n",
    "      def set_raise(cls,amount):\n",
    "            cls.raise_percent = amount    # class'daki static attribute'lar güncellenmek istenildiği zaman kullanılabilir"
   ]
  },
  {
   "cell_type": "code",
   "execution_count": 47,
   "metadata": {},
   "outputs": [],
   "source": [
    "emp_7 = Employee(\"employee7\",56,1231)\n",
    "emp_8 = Employee(\"employee8\",34,6232)"
   ]
  },
  {
   "cell_type": "code",
   "execution_count": 48,
   "metadata": {},
   "outputs": [
    {
     "name": "stdout",
     "output_type": "stream",
     "text": [
      "1.04\n",
      "1.04\n",
      "1.04\n"
     ]
    }
   ],
   "source": [
    "print(Employee.raise_percent)\n",
    "print(emp_7.raise_percent)\n",
    "print(emp_8.raise_percent)"
   ]
  },
  {
   "cell_type": "code",
   "execution_count": 49,
   "metadata": {},
   "outputs": [],
   "source": [
    "Employee.raise_percent = 1.5 # normal yapılan şekil, class üzerinden değiştirebiliyorduk, object üzerinden değiştirilemiyordu sadece kendine tanımlıyordu."
   ]
  },
  {
   "cell_type": "code",
   "execution_count": 50,
   "metadata": {},
   "outputs": [
    {
     "name": "stdout",
     "output_type": "stream",
     "text": [
      "1.5\n",
      "1.5\n",
      "1.5\n"
     ]
    }
   ],
   "source": [
    "print(Employee.raise_percent)\n",
    "print(emp_7.raise_percent)\n",
    "print(emp_8.raise_percent)"
   ]
  },
  {
   "cell_type": "code",
   "execution_count": 51,
   "metadata": {},
   "outputs": [],
   "source": [
    "emp_7.set_raise(1.6) # bu @classmethod ile belirttiğimiz method sayesinde object üzerinden de güncelleme yapabiliyoruz "
   ]
  },
  {
   "cell_type": "code",
   "execution_count": 52,
   "metadata": {},
   "outputs": [
    {
     "name": "stdout",
     "output_type": "stream",
     "text": [
      "1.6\n",
      "1.6\n",
      "1.6\n"
     ]
    }
   ],
   "source": [
    "print(Employee.raise_percent)\n",
    "print(emp_7.raise_percent)\n",
    "print(emp_8.raise_percent)"
   ]
  },
  {
   "cell_type": "markdown",
   "metadata": {},
   "source": [
    "## Alternative Constructor"
   ]
  },
  {
   "cell_type": "code",
   "execution_count": 55,
   "metadata": {},
   "outputs": [],
   "source": [
    "emp_9_str = \"Mustafa-23-5555\""
   ]
  },
  {
   "cell_type": "code",
   "execution_count": 56,
   "metadata": {},
   "outputs": [
    {
     "data": {
      "text/plain": [
       "['Mustafa', '23', '5555']"
      ]
     },
     "execution_count": 56,
     "metadata": {},
     "output_type": "execute_result"
    }
   ],
   "source": [
    "emp_9_str.split(\"-\")"
   ]
  },
  {
   "cell_type": "code",
   "execution_count": 57,
   "metadata": {},
   "outputs": [],
   "source": [
    "name, age, pay = emp_9_str.split(\"-\")"
   ]
  },
  {
   "cell_type": "code",
   "execution_count": 58,
   "metadata": {},
   "outputs": [],
   "source": [
    "emp_9 = Employee(name,age,pay)"
   ]
  },
  {
   "cell_type": "code",
   "execution_count": 61,
   "metadata": {},
   "outputs": [
    {
     "data": {
      "text/plain": [
       "<__main__.Employee at 0x7fe8789bf1c0>"
      ]
     },
     "execution_count": 61,
     "metadata": {},
     "output_type": "execute_result"
    }
   ],
   "source": [
    "emp_9"
   ]
  },
  {
   "cell_type": "code",
   "execution_count": 62,
   "metadata": {},
   "outputs": [],
   "source": [
    "# bu işlemi şöyle yapalım;"
   ]
  },
  {
   "cell_type": "code",
   "execution_count": 64,
   "metadata": {},
   "outputs": [],
   "source": [
    "class Employee:\n",
    "      raise_percent = 1.04\n",
    "      num_emp = 0\n",
    "      def __init__(self,name,age,pay):\n",
    "            self.name = name\n",
    "            self.age = age\n",
    "            self.pay = pay\n",
    "            Employee.num_emp += 1\n",
    "\n",
    "      def apply_raise(self):\n",
    "            self.pay = self.pay * Employee.raise_percent\n",
    "\n",
    "      @classmethod      \n",
    "      def set_raise(cls,amount):\n",
    "            cls.raise_percent = amount\n",
    "      \n",
    "      @classmethod\n",
    "      def from_string(cls,emp_str):\n",
    "            name, age, pay = emp_str.split(\"-\")\n",
    "            return cls(name,int(age),float(pay))  # yeni employee yaratacak ve döndürecek"
   ]
  },
  {
   "cell_type": "code",
   "execution_count": 66,
   "metadata": {},
   "outputs": [],
   "source": [
    "emp_10_str = \"Tunahan-21-5455\""
   ]
  },
  {
   "cell_type": "code",
   "execution_count": 67,
   "metadata": {},
   "outputs": [],
   "source": [
    "emp_10 = Employee.from_string(emp_10_str)"
   ]
  },
  {
   "cell_type": "code",
   "execution_count": 68,
   "metadata": {},
   "outputs": [
    {
     "data": {
      "text/plain": [
       "<__main__.Employee at 0x7fe8789d5160>"
      ]
     },
     "execution_count": 68,
     "metadata": {},
     "output_type": "execute_result"
    }
   ],
   "source": [
    "emp_10"
   ]
  },
  {
   "attachments": {},
   "cell_type": "markdown",
   "metadata": {},
   "source": [
    "## Static Method"
   ]
  },
  {
   "cell_type": "code",
   "execution_count": 69,
   "metadata": {},
   "outputs": [],
   "source": [
    "# object'in veya class'ın değişkenleriyle bir işi olmaz, referans olarak hiçbirini almaz sadece bi değer alır"
   ]
  },
  {
   "cell_type": "code",
   "execution_count": 70,
   "metadata": {},
   "outputs": [],
   "source": [
    "class Employee:\n",
    "      raise_percent = 1.04\n",
    "      num_emp = 0\n",
    "      def __init__(self,name,age,pay):\n",
    "            self.name = name\n",
    "            self.age = age\n",
    "            self.pay = pay\n",
    "            Employee.num_emp += 1\n",
    "\n",
    "      def apply_raise(self):\n",
    "            self.pay = self.pay * Employee.raise_percent\n",
    "\n",
    "      @classmethod      \n",
    "      def set_raise(cls,amount):\n",
    "            cls.raise_percent = amount\n",
    "      \n",
    "      @classmethod\n",
    "      def from_string(cls,emp_str):\n",
    "            name, age, pay = emp_str.split(\"-\")\n",
    "            return cls(name,int(age),float(pay))\n",
    "\n",
    "      @staticmethod\n",
    "      def holiday_print(day):\n",
    "            if(day == \"weekend\"):\n",
    "                  print(\"off\")\n",
    "            else:\n",
    "                  print(\"open\")"
   ]
  },
  {
   "cell_type": "code",
   "execution_count": 71,
   "metadata": {},
   "outputs": [
    {
     "name": "stdout",
     "output_type": "stream",
     "text": [
      "open\n"
     ]
    }
   ],
   "source": [
    "Employee.holiday_print(\"monday\")"
   ]
  },
  {
   "cell_type": "code",
   "execution_count": 72,
   "metadata": {},
   "outputs": [],
   "source": [
    "# static method'ları hem object hem class üzerinden çağırabiliriz"
   ]
  },
  {
   "attachments": {},
   "cell_type": "markdown",
   "metadata": {},
   "source": [
    "## Inheritance"
   ]
  },
  {
   "cell_type": "code",
   "execution_count": 73,
   "metadata": {},
   "outputs": [],
   "source": [
    "# diğer class'lardaki attribute ve method'lara erişilmesini sağlar"
   ]
  },
  {
   "cell_type": "code",
   "execution_count": 74,
   "metadata": {},
   "outputs": [],
   "source": [
    "class Employee:\n",
    "      raise_percent = 1.04\n",
    "      num_emp = 0\n",
    "      def __init__(self,name,age,pay):\n",
    "            self.name = name\n",
    "            self.age = age\n",
    "            self.pay = pay\n",
    "            Employee.num_emp += 1\n",
    "\n",
    "      def apply_raise(self):\n",
    "            self.pay = self.pay * Employee.raise_percent"
   ]
  },
  {
   "cell_type": "code",
   "execution_count": 75,
   "metadata": {},
   "outputs": [],
   "source": [
    "class IT(Employee):\n",
    "      pass"
   ]
  },
  {
   "cell_type": "code",
   "execution_count": 76,
   "metadata": {},
   "outputs": [],
   "source": [
    "# IT içerisine hiçbir şey yazmasakta Employee içerisindeki içerikleri erişimi var\n",
    "# Employee -> Parent/Super Class, IT -> Child/Sub Class"
   ]
  },
  {
   "cell_type": "code",
   "execution_count": 77,
   "metadata": {},
   "outputs": [],
   "source": [
    "it_1 = IT(\"Ali\",23,2342)"
   ]
  },
  {
   "cell_type": "code",
   "execution_count": 78,
   "metadata": {},
   "outputs": [
    {
     "data": {
      "text/plain": [
       "'Ali'"
      ]
     },
     "execution_count": 78,
     "metadata": {},
     "output_type": "execute_result"
    }
   ],
   "source": [
    "it_1.name"
   ]
  },
  {
   "cell_type": "code",
   "execution_count": 79,
   "metadata": {},
   "outputs": [
    {
     "data": {
      "text/plain": [
       "{'name': 'Ali', 'age': 23, 'pay': 2342}"
      ]
     },
     "execution_count": 79,
     "metadata": {},
     "output_type": "execute_result"
    }
   ],
   "source": [
    "it_1.__dict__"
   ]
  },
  {
   "cell_type": "code",
   "execution_count": 81,
   "metadata": {},
   "outputs": [
    {
     "data": {
      "text/plain": [
       "1.04"
      ]
     },
     "execution_count": 81,
     "metadata": {},
     "output_type": "execute_result"
    }
   ],
   "source": [
    "it_1.raise_percent"
   ]
  },
  {
   "cell_type": "code",
   "execution_count": 82,
   "metadata": {},
   "outputs": [],
   "source": [
    "class IT(Employee):\n",
    "      raice_percent = 1.05"
   ]
  },
  {
   "cell_type": "code",
   "execution_count": 83,
   "metadata": {},
   "outputs": [],
   "source": [
    "it_2 = IT(\"Ahmet\",22,3432)"
   ]
  },
  {
   "cell_type": "code",
   "execution_count": 84,
   "metadata": {},
   "outputs": [
    {
     "data": {
      "text/plain": [
       "1.05"
      ]
     },
     "execution_count": 84,
     "metadata": {},
     "output_type": "execute_result"
    }
   ],
   "source": [
    "it_2.raice_percent"
   ]
  },
  {
   "cell_type": "code",
   "execution_count": 85,
   "metadata": {},
   "outputs": [],
   "source": [
    "it_2.apply_raise()"
   ]
  },
  {
   "cell_type": "code",
   "execution_count": 86,
   "metadata": {},
   "outputs": [],
   "source": [
    "# subclass'da yapılan değişiklik parentclass'ı etkilemez"
   ]
  },
  {
   "cell_type": "code",
   "execution_count": 87,
   "metadata": {},
   "outputs": [],
   "source": [
    "class IT(Employee):\n",
    "      raise_percent = 1.05\n",
    "      def __init__(self,name,age,pay,lang):\n",
    "            self.name = name\n",
    "            self.age = age\n",
    "            self.pay = pay\n",
    "            self.lang = lang"
   ]
  },
  {
   "cell_type": "code",
   "execution_count": 88,
   "metadata": {},
   "outputs": [],
   "source": [
    "it_3 = IT(\"Ömer\",23,3242,\"java\")"
   ]
  },
  {
   "cell_type": "code",
   "execution_count": 89,
   "metadata": {},
   "outputs": [
    {
     "data": {
      "text/plain": [
       "'java'"
      ]
     },
     "execution_count": 89,
     "metadata": {},
     "output_type": "execute_result"
    }
   ],
   "source": [
    "it_3.lang"
   ]
  },
  {
   "cell_type": "code",
   "execution_count": 92,
   "metadata": {},
   "outputs": [
    {
     "data": {
      "text/plain": [
       "2"
      ]
     },
     "execution_count": 92,
     "metadata": {},
     "output_type": "execute_result"
    }
   ],
   "source": [
    "Employee.num_emp"
   ]
  },
  {
   "cell_type": "code",
   "execution_count": 93,
   "metadata": {},
   "outputs": [],
   "source": [
    "it_4 = IT(\"Mehmet\",23,3242,\"python\")"
   ]
  },
  {
   "cell_type": "code",
   "execution_count": 94,
   "metadata": {},
   "outputs": [
    {
     "data": {
      "text/plain": [
       "2"
      ]
     },
     "execution_count": 94,
     "metadata": {},
     "output_type": "execute_result"
    }
   ],
   "source": [
    "Employee.num_emp # IT'nin kendi __init__ tanımlarsak Employee.num_emp += 1 çalışmadığı için yani Employee içerisindeki __init__ çalışmadığı için bir takım problemler yaşanabilir o yüzden daha güzel yolu şu şekilde;"
   ]
  },
  {
   "cell_type": "code",
   "execution_count": 95,
   "metadata": {},
   "outputs": [],
   "source": [
    "class IT(Employee):\n",
    "      raise_percent = 1.05\n",
    "      def __init__(self,name,age,pay,lang):\n",
    "            super().__init__(name,age,pay)\n",
    "            self.lang = lang"
   ]
  },
  {
   "cell_type": "code",
   "execution_count": 97,
   "metadata": {},
   "outputs": [
    {
     "data": {
      "text/plain": [
       "2"
      ]
     },
     "execution_count": 97,
     "metadata": {},
     "output_type": "execute_result"
    }
   ],
   "source": [
    "Employee.num_emp"
   ]
  },
  {
   "cell_type": "code",
   "execution_count": 98,
   "metadata": {},
   "outputs": [],
   "source": [
    "it_5 = IT(\"it5\",34,2343,\"c#\")"
   ]
  },
  {
   "cell_type": "code",
   "execution_count": 99,
   "metadata": {},
   "outputs": [
    {
     "data": {
      "text/plain": [
       "3"
      ]
     },
     "execution_count": 99,
     "metadata": {},
     "output_type": "execute_result"
    }
   ],
   "source": [
    "Employee.num_emp"
   ]
  },
  {
   "cell_type": "code",
   "execution_count": 101,
   "metadata": {},
   "outputs": [
    {
     "data": {
      "text/plain": [
       "'c#'"
      ]
     },
     "execution_count": 101,
     "metadata": {},
     "output_type": "execute_result"
    }
   ],
   "source": [
    "it_5.lang"
   ]
  },
  {
   "cell_type": "code",
   "execution_count": 106,
   "metadata": {},
   "outputs": [
    {
     "data": {
      "text/plain": [
       "True"
      ]
     },
     "execution_count": 106,
     "metadata": {},
     "output_type": "execute_result"
    }
   ],
   "source": [
    "isinstance(it_5,IT)"
   ]
  },
  {
   "cell_type": "code",
   "execution_count": 107,
   "metadata": {},
   "outputs": [
    {
     "data": {
      "text/plain": [
       "True"
      ]
     },
     "execution_count": 107,
     "metadata": {},
     "output_type": "execute_result"
    }
   ],
   "source": [
    "isinstance(it_5,Employee)"
   ]
  },
  {
   "cell_type": "code",
   "execution_count": 109,
   "metadata": {},
   "outputs": [
    {
     "data": {
      "text/plain": [
       "True"
      ]
     },
     "execution_count": 109,
     "metadata": {},
     "output_type": "execute_result"
    }
   ],
   "source": [
    "issubclass(IT,Employee)"
   ]
  },
  {
   "cell_type": "markdown",
   "metadata": {},
   "source": [
    "## Magic Methods"
   ]
  },
  {
   "cell_type": "code",
   "execution_count": 110,
   "metadata": {},
   "outputs": [],
   "source": [
    "# Magic Method'ları kullanarak bazı built-in davranışları değiştirebiliriz. __ ile çevrilidir ve dunder method'da denilir."
   ]
  },
  {
   "cell_type": "code",
   "execution_count": 111,
   "metadata": {},
   "outputs": [],
   "source": [
    "class Employee:\n",
    "      raise_percent = 1.04\n",
    "      num_emp = 0\n",
    "      def __init__(self,name,age,pay):\n",
    "            self.name = name\n",
    "            self.age = age\n",
    "            self.pay = pay\n",
    "            Employee.num_emp += 1\n",
    "\n",
    "      def apply_raise(self):\n",
    "            self.pay = self.pay * Employee.raise_percent"
   ]
  },
  {
   "cell_type": "code",
   "execution_count": 112,
   "metadata": {},
   "outputs": [],
   "source": [
    "emp_11 = Employee(\"emp11\",21,4353)"
   ]
  },
  {
   "cell_type": "code",
   "execution_count": 114,
   "metadata": {},
   "outputs": [
    {
     "data": {
      "text/plain": [
       "'<__main__.Employee object at 0x7fe8789bf490>'"
      ]
     },
     "execution_count": 114,
     "metadata": {},
     "output_type": "execute_result"
    }
   ],
   "source": [
    "emp_11.__str__()"
   ]
  },
  {
   "cell_type": "code",
   "execution_count": 120,
   "metadata": {},
   "outputs": [],
   "source": [
    "class Employee:\n",
    "      raise_percent = 1.04\n",
    "      num_emp = 0\n",
    "      def __init__(self,name,age,pay):\n",
    "            self.name = name\n",
    "            self.age = age\n",
    "            self.pay = pay\n",
    "            Employee.num_emp += 1\n",
    "\n",
    "      def apply_raise(self):\n",
    "            self.pay = self.pay * Employee.raise_percent\n",
    "      \n",
    "      def __str__(self):\n",
    "            return f\"Employee(name={self.name}, age={self.age}, pay={self.pay})\""
   ]
  },
  {
   "cell_type": "code",
   "execution_count": 121,
   "metadata": {},
   "outputs": [],
   "source": [
    "emp_12 = Employee(\"emp12\",23,4353)"
   ]
  },
  {
   "cell_type": "code",
   "execution_count": 122,
   "metadata": {},
   "outputs": [
    {
     "data": {
      "text/plain": [
       "'Employee(name=emp12, age=23, pay=4353)'"
      ]
     },
     "execution_count": 122,
     "metadata": {},
     "output_type": "execute_result"
    }
   ],
   "source": [
    "emp_12.__str__() # amaç bu değil, amaç print(emp_12) şeklinde yazıldığı durumda nasıl davranması gerektiğini belirliyoruz"
   ]
  },
  {
   "cell_type": "code",
   "execution_count": 123,
   "metadata": {},
   "outputs": [
    {
     "name": "stdout",
     "output_type": "stream",
     "text": [
      "Employee(name=emp12, age=23, pay=4353)\n"
     ]
    }
   ],
   "source": [
    "print(emp_12)"
   ]
  },
  {
   "cell_type": "code",
   "execution_count": 124,
   "metadata": {},
   "outputs": [],
   "source": [
    "class Employee:\n",
    "      raise_percent = 1.04\n",
    "      num_emp = 0\n",
    "      def __init__(self,name,age,pay):\n",
    "            self.name = name\n",
    "            self.age = age\n",
    "            self.pay = pay\n",
    "            Employee.num_emp += 1\n",
    "\n",
    "      def apply_raise(self):\n",
    "            self.pay = self.pay * Employee.raise_percent\n",
    "      \n",
    "      def __str__(self):\n",
    "            return f\"Employee(name={self.name}, age={self.age}, pay={self.pay})\"\n",
    "\n",
    "      def __add__(self,other):\n",
    "            return self.pay + other.pay"
   ]
  },
  {
   "cell_type": "code",
   "execution_count": 125,
   "metadata": {},
   "outputs": [],
   "source": [
    "emp_13 = Employee(\"emp13\",21,5646)\n",
    "emp_14 = Employee(\"emp14\",22,3453)"
   ]
  },
  {
   "cell_type": "code",
   "execution_count": 126,
   "metadata": {},
   "outputs": [
    {
     "data": {
      "text/plain": [
       "9099"
      ]
     },
     "execution_count": 126,
     "metadata": {},
     "output_type": "execute_result"
    }
   ],
   "source": [
    "emp_13 + emp_14"
   ]
  },
  {
   "cell_type": "code",
   "execution_count": 127,
   "metadata": {},
   "outputs": [],
   "source": [
    "class Employee:\n",
    "      raise_percent = 1.04\n",
    "      num_emp = 0\n",
    "      def __init__(self,name,age,pay):\n",
    "            self.name = name\n",
    "            self.age = age\n",
    "            self.pay = pay\n",
    "            Employee.num_emp += 1\n",
    "\n",
    "      def apply_raise(self):\n",
    "            self.pay = self.pay * Employee.raise_percent\n",
    "      \n",
    "      def __str__(self):\n",
    "            return f\"Employee(name={self.name}, age={self.age}, pay={self.pay})\"\n",
    "\n",
    "      def __add__(self,other):\n",
    "            return self.pay + other.pay\n",
    "\n",
    "      def __len__(self):\n",
    "            return len(self.name)"
   ]
  },
  {
   "cell_type": "code",
   "execution_count": 128,
   "metadata": {},
   "outputs": [],
   "source": [
    "emp_15 = Employee(\"emp15\",23,1232)"
   ]
  },
  {
   "cell_type": "code",
   "execution_count": 131,
   "metadata": {},
   "outputs": [
    {
     "data": {
      "text/plain": [
       "5"
      ]
     },
     "execution_count": 131,
     "metadata": {},
     "output_type": "execute_result"
    }
   ],
   "source": [
    "len(emp_15)"
   ]
  }
 ],
 "metadata": {
  "kernelspec": {
   "display_name": "base",
   "language": "python",
   "name": "python3"
  },
  "language_info": {
   "codemirror_mode": {
    "name": "ipython",
    "version": 3
   },
   "file_extension": ".py",
   "mimetype": "text/x-python",
   "name": "python",
   "nbconvert_exporter": "python",
   "pygments_lexer": "ipython3",
   "version": "3.9.13 (main, Aug 25 2022, 18:29:29) \n[Clang 12.0.0 ]"
  },
  "orig_nbformat": 4,
  "vscode": {
   "interpreter": {
    "hash": "777fa8505484734131332f46d395e05226ba5db18fcd26e384d7143286b51c06"
   }
  }
 },
 "nbformat": 4,
 "nbformat_minor": 2
}
