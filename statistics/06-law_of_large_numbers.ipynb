{
 "cells": [
  {
   "cell_type": "markdown",
   "id": "d3d99941-bee5-4774-a158-8ea6e2640189",
   "metadata": {},
   "source": [
    "# Büyük Sayılar Yasası"
   ]
  },
  {
   "cell_type": "markdown",
   "id": "cf67a3ec-a72a-44f0-8dcc-0b99a2748f4f",
   "metadata": {},
   "source": [
    "## Bir rassal değişkenin uzun vadeli kararlılığını tanımlayan olasılık teoremidir."
   ]
  },
  {
   "cell_type": "code",
   "execution_count": 4,
   "id": "d49bd6cd-5e56-4d87-a68a-bd62fa86f54e",
   "metadata": {},
   "outputs": [
    {
     "name": "stdout",
     "output_type": "stream",
     "text": [
      "Atış Sayısı: 2 --- Yazı Olasılığı: 50.00\n",
      "Atış Sayısı: 4 --- Yazı Olasılığı: 0.00\n",
      "Atış Sayısı: 8 --- Yazı Olasılığı: 62.50\n",
      "Atış Sayısı: 16 --- Yazı Olasılığı: 43.75\n",
      "Atış Sayısı: 32 --- Yazı Olasılığı: 46.88\n",
      "Atış Sayısı: 64 --- Yazı Olasılığı: 56.25\n",
      "Atış Sayısı: 128 --- Yazı Olasılığı: 50.78\n",
      "Atış Sayısı: 256 --- Yazı Olasılığı: 52.73\n",
      "Atış Sayısı: 512 --- Yazı Olasılığı: 52.93\n",
      "Atış Sayısı: 1024 --- Yazı Olasılığı: 50.20\n",
      "Atış Sayısı: 2048 --- Yazı Olasılığı: 48.58\n",
      "Atış Sayısı: 4096 --- Yazı Olasılığı: 49.49\n",
      "Atış Sayısı: 8192 --- Yazı Olasılığı: 49.58\n",
      "Atış Sayısı: 16384 --- Yazı Olasılığı: 49.96\n",
      "Atış Sayısı: 32768 --- Yazı Olasılığı: 50.00\n",
      "Atış Sayısı: 65536 --- Yazı Olasılığı: 49.68\n",
      "Atış Sayısı: 131072 --- Yazı Olasılığı: 49.97\n",
      "Atış Sayısı: 262144 --- Yazı Olasılığı: 50.13\n",
      "Atış Sayısı: 524288 --- Yazı Olasılığı: 50.01\n",
      "Atış Sayısı: 1048576 --- Yazı Olasılığı: 50.09\n"
     ]
    }
   ],
   "source": [
    "import numpy as np\n",
    "rng = np.random.RandomState(123)\n",
    "for i in np.arange(1,21):\n",
    "    experiment_count = 2**i\n",
    "    heads_tails = rng.randint(0, 2, size = experiment_count)\n",
    "    heads_probabilities = np.mean(heads_tails)\n",
    "    print(\"Atış Sayısı:\",experiment_count,\"---\",'Yazı Olasılığı: %.2f' % (heads_probabilities * 100))"
   ]
  }
 ],
 "metadata": {
  "kernelspec": {
   "display_name": "Python 3 (ipykernel)",
   "language": "python",
   "name": "python3"
  },
  "language_info": {
   "codemirror_mode": {
    "name": "ipython",
    "version": 3
   },
   "file_extension": ".py",
   "mimetype": "text/x-python",
   "name": "python",
   "nbconvert_exporter": "python",
   "pygments_lexer": "ipython3",
   "version": "3.9.12"
  }
 },
 "nbformat": 4,
 "nbformat_minor": 5
}
