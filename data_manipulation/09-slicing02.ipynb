{
 "cells": [
  {
   "cell_type": "code",
   "execution_count": 1,
   "id": "2b4e2ed3-1756-4aa8-9198-581b269b1b6d",
   "metadata": {},
   "outputs": [],
   "source": [
    "import numpy as np"
   ]
  },
  {
   "cell_type": "code",
   "execution_count": 10,
   "id": "fb82560a-2d4a-416b-880d-70ce6a3dd261",
   "metadata": {},
   "outputs": [
    {
     "data": {
      "text/plain": [
       "array([[3, 8, 0, 5, 9],\n",
       "       [1, 1, 6, 4, 3],\n",
       "       [1, 0, 0, 4, 1],\n",
       "       [7, 6, 8, 6, 8],\n",
       "       [3, 4, 6, 4, 8]])"
      ]
     },
     "execution_count": 10,
     "metadata": {},
     "output_type": "execute_result"
    }
   ],
   "source": [
    "# a = np.random.randint(10,size = (5,5)) ya boyle\n",
    "a = np.random.randint(0,10,(5,5)) # ya da boyle olması gerekiyor\n",
    "a"
   ]
  },
  {
   "cell_type": "code",
   "execution_count": 11,
   "id": "ea1f1c53-3014-4d59-8f05-12614f67f271",
   "metadata": {},
   "outputs": [
    {
     "data": {
      "text/plain": [
       "array([[3, 8],\n",
       "       [1, 1],\n",
       "       [1, 0]])"
      ]
     },
     "execution_count": 11,
     "metadata": {},
     "output_type": "execute_result"
    }
   ],
   "source": [
    "sub_a = a[0:3,0:2]\n",
    "sub_a"
   ]
  },
  {
   "cell_type": "code",
   "execution_count": 13,
   "id": "405f3be9-9b6e-4b58-8aab-3ea86224e677",
   "metadata": {},
   "outputs": [
    {
     "data": {
      "text/plain": [
       "array([[   3, 9999],\n",
       "       [   1, 8888],\n",
       "       [   1,    0]])"
      ]
     },
     "execution_count": 13,
     "metadata": {},
     "output_type": "execute_result"
    }
   ],
   "source": [
    "sub_a[0,1] = 9999\n",
    "sub_a[1,1] = 8888\n",
    "sub_a"
   ]
  },
  {
   "cell_type": "code",
   "execution_count": 14,
   "id": "901a39ed-2eb0-42d7-b98d-e35ef9ec6f54",
   "metadata": {},
   "outputs": [
    {
     "data": {
      "text/plain": [
       "array([[   3, 9999,    0,    5,    9],\n",
       "       [   1, 8888,    6,    4,    3],\n",
       "       [   1,    0,    0,    4,    1],\n",
       "       [   7,    6,    8,    6,    8],\n",
       "       [   3,    4,    6,    4,    8]])"
      ]
     },
     "execution_count": 14,
     "metadata": {},
     "output_type": "execute_result"
    }
   ],
   "source": [
    "a # sub_a da değiştirmeme rağmen a'da da değişti veriler. bunu istemeyebiliriz"
   ]
  },
  {
   "cell_type": "code",
   "execution_count": 26,
   "id": "1a74bcfc-ba3a-4326-a827-6bf85ef01f37",
   "metadata": {},
   "outputs": [
    {
     "data": {
      "text/plain": [
       "array([[4, 2, 9, 4, 0],\n",
       "       [0, 8, 6, 5, 4],\n",
       "       [7, 3, 5, 2, 6],\n",
       "       [9, 0, 2, 1, 9],\n",
       "       [7, 1, 3, 7, 5]])"
      ]
     },
     "execution_count": 26,
     "metadata": {},
     "output_type": "execute_result"
    }
   ],
   "source": [
    "b = np.random.randint(0,10,(5,5))\n",
    "b"
   ]
  },
  {
   "cell_type": "code",
   "execution_count": 27,
   "id": "04efa513-4e8c-4e9d-a559-d7af838f148b",
   "metadata": {},
   "outputs": [
    {
     "data": {
      "text/plain": [
       "array([[4, 2],\n",
       "       [0, 8],\n",
       "       [7, 3]])"
      ]
     },
     "execution_count": 27,
     "metadata": {},
     "output_type": "execute_result"
    }
   ],
   "source": [
    "sub_b = b[0:3,0:2].copy()\n",
    "sub_b"
   ]
  },
  {
   "cell_type": "code",
   "execution_count": 28,
   "id": "9e106d8a-feec-4918-a60f-6740fbcffd71",
   "metadata": {},
   "outputs": [
    {
     "data": {
      "text/plain": [
       "array([[   4, 9999],\n",
       "       [   0, 8888],\n",
       "       [   7,    3]])"
      ]
     },
     "execution_count": 28,
     "metadata": {},
     "output_type": "execute_result"
    }
   ],
   "source": [
    "sub_b[0,1] = 9999\n",
    "sub_b[1,1] = 8888\n",
    "sub_b"
   ]
  },
  {
   "cell_type": "code",
   "execution_count": 29,
   "id": "4d97a0b1-f6e3-4522-9425-086b22fb21b3",
   "metadata": {},
   "outputs": [
    {
     "data": {
      "text/plain": [
       "array([[4, 2, 9, 4, 0],\n",
       "       [0, 8, 6, 5, 4],\n",
       "       [7, 3, 5, 2, 6],\n",
       "       [9, 0, 2, 1, 9],\n",
       "       [7, 1, 3, 7, 5]])"
      ]
     },
     "execution_count": 29,
     "metadata": {},
     "output_type": "execute_result"
    }
   ],
   "source": [
    "b # görüyoruz ki ana listede bi değişiklik olmamış"
   ]
  },
  {
   "cell_type": "code",
   "execution_count": null,
   "id": "ba40d7d2-d334-4eca-8606-209dea39d5b6",
   "metadata": {},
   "outputs": [],
   "source": []
  }
 ],
 "metadata": {
  "kernelspec": {
   "display_name": "Python 3 (ipykernel)",
   "language": "python",
   "name": "python3"
  },
  "language_info": {
   "codemirror_mode": {
    "name": "ipython",
    "version": 3
   },
   "file_extension": ".py",
   "mimetype": "text/x-python",
   "name": "python",
   "nbconvert_exporter": "python",
   "pygments_lexer": "ipython3",
   "version": "3.9.12"
  }
 },
 "nbformat": 4,
 "nbformat_minor": 5
}
