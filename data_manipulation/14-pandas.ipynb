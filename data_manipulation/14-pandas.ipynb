{
 "cells": [
  {
   "cell_type": "markdown",
   "id": "ae05516e-8b7c-4191-8541-62f2ff58e2b1",
   "metadata": {},
   "source": [
    "# PANDAS"
   ]
  },
  {
   "cell_type": "code",
   "execution_count": 1,
   "id": "88c838dd-3565-409e-b218-576b9f07869d",
   "metadata": {},
   "outputs": [],
   "source": [
    "import pandas as pd"
   ]
  },
  {
   "cell_type": "code",
   "execution_count": 2,
   "id": "299e2e1c-66ac-4c00-a532-e9fe025caf60",
   "metadata": {},
   "outputs": [
    {
     "data": {
      "text/plain": [
       "0    1\n",
       "1    2\n",
       "2    3\n",
       "3    4\n",
       "4    5\n",
       "dtype: int64"
      ]
     },
     "execution_count": 2,
     "metadata": {},
     "output_type": "execute_result"
    }
   ],
   "source": [
    "pd.Series([1,2,3,4,5])  # solda index'ler sağ da değerler olacak şekilde bir yapı elde ederiz"
   ]
  },
  {
   "cell_type": "code",
   "execution_count": 5,
   "id": "66ac16ff-e3ef-434a-b530-2686e0f3752c",
   "metadata": {},
   "outputs": [
    {
     "data": {
      "text/plain": [
       "0    12\n",
       "1    45\n",
       "2    85\n",
       "3    99\n",
       "4    32\n",
       "dtype: int64"
      ]
     },
     "execution_count": 5,
     "metadata": {},
     "output_type": "execute_result"
    }
   ],
   "source": [
    "a = pd.Series([12,45,85,99,32])\n",
    "a"
   ]
  },
  {
   "cell_type": "code",
   "execution_count": 7,
   "id": "000bc6d4",
   "metadata": {},
   "outputs": [
    {
     "data": {
      "text/plain": [
       "2    85\n",
       "3    99\n",
       "dtype: int64"
      ]
     },
     "execution_count": 7,
     "metadata": {},
     "output_type": "execute_result"
    }
   ],
   "source": [
    "a[2:4]"
   ]
  },
  {
   "cell_type": "code",
   "execution_count": 9,
   "id": "724b6675-0ea0-4cbb-baf0-f5ca27dbb2b3",
   "metadata": {},
   "outputs": [
    {
     "data": {
      "text/plain": [
       "pandas.core.series.Series"
      ]
     },
     "execution_count": 9,
     "metadata": {},
     "output_type": "execute_result"
    }
   ],
   "source": [
    "series = pd.Series([1,2,3,4,5])\n",
    "type(series)"
   ]
  },
  {
   "cell_type": "code",
   "execution_count": 10,
   "id": "2630c928",
   "metadata": {},
   "outputs": [
    {
     "data": {
      "text/plain": [
       "0    1\n",
       "1    2\n",
       "2    3\n",
       "3    4\n",
       "4    5\n",
       "dtype: int64"
      ]
     },
     "execution_count": 10,
     "metadata": {},
     "output_type": "execute_result"
    }
   ],
   "source": [
    "series"
   ]
  },
  {
   "cell_type": "code",
   "execution_count": 11,
   "id": "1530ce69",
   "metadata": {},
   "outputs": [
    {
     "data": {
      "text/plain": [
       "0    1\n",
       "1    2\n",
       "2    3\n",
       "3    4\n",
       "4    5\n",
       "Name: test-series, dtype: int64"
      ]
     },
     "execution_count": 11,
     "metadata": {},
     "output_type": "execute_result"
    }
   ],
   "source": [
    "series.name = \"test-series\"\n",
    "series"
   ]
  },
  {
   "cell_type": "code",
   "execution_count": 7,
   "id": "f95ad1e8-6550-4fbb-b371-f9edea965750",
   "metadata": {},
   "outputs": [
    {
     "data": {
      "text/plain": [
       "[RangeIndex(start=0, stop=5, step=1)]"
      ]
     },
     "execution_count": 7,
     "metadata": {},
     "output_type": "execute_result"
    }
   ],
   "source": [
    "series.axes"
   ]
  },
  {
   "cell_type": "code",
   "execution_count": 9,
   "id": "d9443f75-a31f-43ae-9b60-84ecf95fc934",
   "metadata": {},
   "outputs": [
    {
     "data": {
      "text/plain": [
       "dtype('int64')"
      ]
     },
     "execution_count": 9,
     "metadata": {},
     "output_type": "execute_result"
    }
   ],
   "source": [
    "series.dtype"
   ]
  },
  {
   "cell_type": "code",
   "execution_count": 10,
   "id": "9a177383-5d73-4b8a-baca-b44ea771f74c",
   "metadata": {},
   "outputs": [
    {
     "data": {
      "text/plain": [
       "5"
      ]
     },
     "execution_count": 10,
     "metadata": {},
     "output_type": "execute_result"
    }
   ],
   "source": [
    "series.size"
   ]
  },
  {
   "cell_type": "code",
   "execution_count": 11,
   "id": "f8ea5f1b-a040-4506-8e50-1bc998868934",
   "metadata": {},
   "outputs": [
    {
     "data": {
      "text/plain": [
       "1"
      ]
     },
     "execution_count": 11,
     "metadata": {},
     "output_type": "execute_result"
    }
   ],
   "source": [
    "series.ndim"
   ]
  },
  {
   "cell_type": "code",
   "execution_count": 12,
   "id": "e9078f87-aae1-4ba4-966e-ccd8469684e6",
   "metadata": {},
   "outputs": [
    {
     "data": {
      "text/plain": [
       "array([1, 2, 3, 4, 5], dtype=int64)"
      ]
     },
     "execution_count": 12,
     "metadata": {},
     "output_type": "execute_result"
    }
   ],
   "source": [
    "series.values"
   ]
  },
  {
   "cell_type": "code",
   "execution_count": 13,
   "id": "364adaeb-057d-4967-ad48-6ad9304cbd24",
   "metadata": {},
   "outputs": [
    {
     "data": {
      "text/plain": [
       "numpy.ndarray"
      ]
     },
     "execution_count": 13,
     "metadata": {},
     "output_type": "execute_result"
    }
   ],
   "source": [
    "type(series.values)"
   ]
  },
  {
   "cell_type": "code",
   "execution_count": 14,
   "id": "908338e6-72da-4702-b876-1511d167548a",
   "metadata": {},
   "outputs": [
    {
     "data": {
      "text/plain": [
       "0    1\n",
       "1    2\n",
       "2    3\n",
       "dtype: int64"
      ]
     },
     "execution_count": 14,
     "metadata": {},
     "output_type": "execute_result"
    }
   ],
   "source": [
    "series.head(3)"
   ]
  },
  {
   "cell_type": "code",
   "execution_count": 15,
   "id": "5af309b9-73de-4863-b58c-74488756f700",
   "metadata": {},
   "outputs": [
    {
     "data": {
      "text/plain": [
       "1    2\n",
       "2    3\n",
       "3    4\n",
       "4    5\n",
       "dtype: int64"
      ]
     },
     "execution_count": 15,
     "metadata": {},
     "output_type": "execute_result"
    }
   ],
   "source": [
    "series.tail(4)"
   ]
  },
  {
   "cell_type": "code",
   "execution_count": 15,
   "id": "e97b51ca-c762-44bd-b3e0-8c79603dfa6a",
   "metadata": {},
   "outputs": [
    {
     "data": {
      "text/plain": [
       "0    54\n",
       "1    23\n",
       "2    12\n",
       "3    87\n",
       "4    32\n",
       "dtype: int64"
      ]
     },
     "execution_count": 15,
     "metadata": {},
     "output_type": "execute_result"
    }
   ],
   "source": [
    "x = pd.Series([54,23,12,87,32])\n",
    "x"
   ]
  },
  {
   "cell_type": "code",
   "execution_count": 28,
   "id": "643e6dcc",
   "metadata": {},
   "outputs": [
    {
     "data": {
      "text/plain": [
       "10    54\n",
       "11    23\n",
       "12    12\n",
       "13    87\n",
       "14    32\n",
       "dtype: int64"
      ]
     },
     "execution_count": 28,
     "metadata": {},
     "output_type": "execute_result"
    }
   ],
   "source": [
    "x.index = [10,11,12,13,14]\n",
    "x"
   ]
  },
  {
   "cell_type": "code",
   "execution_count": 25,
   "id": "d0ba5944-5717-48b8-bd3e-97117ba87f31",
   "metadata": {},
   "outputs": [
    {
     "data": {
      "text/plain": [
       "1    54\n",
       "3    23\n",
       "5    12\n",
       "7    87\n",
       "9    32\n",
       "dtype: int64"
      ]
     },
     "execution_count": 25,
     "metadata": {},
     "output_type": "execute_result"
    }
   ],
   "source": [
    "pd.Series([54,23,12,87,32], index = [1,3,5,7,9])"
   ]
  },
  {
   "cell_type": "code",
   "execution_count": 26,
   "id": "fedcda09-fe4d-42f7-b3f0-09c6a426e658",
   "metadata": {},
   "outputs": [
    {
     "data": {
      "text/plain": [
       "a    1\n",
       "b    2\n",
       "c    3\n",
       "d    4\n",
       "e    5\n",
       "dtype: int64"
      ]
     },
     "execution_count": 26,
     "metadata": {},
     "output_type": "execute_result"
    }
   ],
   "source": [
    "series = pd.Series([1,2,3,4,5], index = [\"a\",\"b\",\"c\",\"d\",\"e\"])\n",
    "series"
   ]
  },
  {
   "cell_type": "code",
   "execution_count": 19,
   "id": "86c85b9d-ff26-4ee9-b603-133d5102aa9d",
   "metadata": {},
   "outputs": [
    {
     "data": {
      "text/plain": [
       "1"
      ]
     },
     "execution_count": 19,
     "metadata": {},
     "output_type": "execute_result"
    }
   ],
   "source": [
    "series[\"a\"]"
   ]
  },
  {
   "cell_type": "code",
   "execution_count": 20,
   "id": "9233f12c-6943-45ff-bd7f-23f9899138ff",
   "metadata": {},
   "outputs": [
    {
     "data": {
      "text/plain": [
       "a    1\n",
       "b    2\n",
       "c    3\n",
       "dtype: int64"
      ]
     },
     "execution_count": 20,
     "metadata": {},
     "output_type": "execute_result"
    }
   ],
   "source": [
    "series[\"a\":\"c\"]"
   ]
  },
  {
   "cell_type": "code",
   "execution_count": 21,
   "id": "70e89f08-5eab-4e2e-8d1b-05ae0653530b",
   "metadata": {},
   "outputs": [
    {
     "data": {
      "text/plain": [
       "reg     10\n",
       "log     11\n",
       "cart    12\n",
       "dtype: int64"
      ]
     },
     "execution_count": 21,
     "metadata": {},
     "output_type": "execute_result"
    }
   ],
   "source": [
    "dic = {\"reg\":10, \"log\":11, \"cart\":12}\n",
    "series = pd.Series(dic)\n",
    "series"
   ]
  },
  {
   "cell_type": "code",
   "execution_count": 22,
   "id": "65c9484f-1de4-4948-9aa5-59e9af97314a",
   "metadata": {},
   "outputs": [
    {
     "data": {
      "text/plain": [
       "reg     10\n",
       "log     11\n",
       "cart    12\n",
       "reg     10\n",
       "log     11\n",
       "cart    12\n",
       "dtype: int64"
      ]
     },
     "execution_count": 22,
     "metadata": {},
     "output_type": "execute_result"
    }
   ],
   "source": [
    "pd.concat([series,series])"
   ]
  },
  {
   "cell_type": "markdown",
   "id": "13f70360-1541-4bf3-9a0f-59aad89867c7",
   "metadata": {},
   "source": [
    "## iloc"
   ]
  },
  {
   "cell_type": "code",
   "execution_count": 50,
   "id": "af48fa45",
   "metadata": {},
   "outputs": [
    {
     "data": {
      "text/plain": [
       "Canada     1\n",
       "Turkey     2\n",
       "France     3\n",
       "Germany    4\n",
       "Sweden     5\n",
       "dtype: int64"
      ]
     },
     "execution_count": 50,
     "metadata": {},
     "output_type": "execute_result"
    }
   ],
   "source": [
    "series = pd.Series([1,2,3,4,5], index = [\"Canada\",\"Turkey\",\"France\",\"Germany\",\"Sweden\"])\n",
    "series"
   ]
  },
  {
   "cell_type": "code",
   "execution_count": 53,
   "id": "68d53a97",
   "metadata": {},
   "outputs": [
    {
     "data": {
      "text/plain": [
       "5"
      ]
     },
     "execution_count": 53,
     "metadata": {},
     "output_type": "execute_result"
    }
   ],
   "source": [
    "series[\"Sweden\"] "
   ]
  },
  {
   "cell_type": "code",
   "execution_count": 57,
   "id": "6cf3138a",
   "metadata": {},
   "outputs": [
    {
     "data": {
      "text/plain": [
       "4"
      ]
     },
     "execution_count": 57,
     "metadata": {},
     "output_type": "execute_result"
    }
   ],
   "source": [
    "series.loc[\"Germany\"] # loc is normal"
   ]
  },
  {
   "cell_type": "code",
   "execution_count": null,
   "id": "41d1fb92",
   "metadata": {},
   "outputs": [],
   "source": [
    "series.iloc[\"Germany\"] # it gives an error, it wants number for index"
   ]
  },
  {
   "cell_type": "code",
   "execution_count": 63,
   "id": "2fabbecd",
   "metadata": {},
   "outputs": [
    {
     "data": {
      "text/plain": [
       "3"
      ]
     },
     "execution_count": 63,
     "metadata": {},
     "output_type": "execute_result"
    }
   ],
   "source": [
    "series.iloc[2]"
   ]
  },
  {
   "cell_type": "code",
   "execution_count": 49,
   "id": "612c8205",
   "metadata": {},
   "outputs": [
    {
     "data": {
      "text/plain": [
       "1    1\n",
       "3    2\n",
       "dtype: int64"
      ]
     },
     "execution_count": 49,
     "metadata": {},
     "output_type": "execute_result"
    }
   ],
   "source": [
    "series[0:2]"
   ]
  },
  {
   "attachments": {},
   "cell_type": "markdown",
   "id": "ed5750b1",
   "metadata": {},
   "source": [
    "## conditional selection"
   ]
  },
  {
   "cell_type": "code",
   "execution_count": 64,
   "id": "8e48d948",
   "metadata": {},
   "outputs": [
    {
     "data": {
      "text/plain": [
       "Canada     1\n",
       "Turkey     2\n",
       "France     3\n",
       "Germany    4\n",
       "Sweden     5\n",
       "dtype: int64"
      ]
     },
     "execution_count": 64,
     "metadata": {},
     "output_type": "execute_result"
    }
   ],
   "source": [
    "series = pd.Series([1,2,3,4,5], index = [\"Canada\",\"Turkey\",\"France\",\"Germany\",\"Sweden\"])\n",
    "series"
   ]
  },
  {
   "cell_type": "code",
   "execution_count": 65,
   "id": "1757e862",
   "metadata": {},
   "outputs": [
    {
     "data": {
      "text/plain": [
       "Canada     100\n",
       "Turkey     200\n",
       "France     300\n",
       "Germany    400\n",
       "Sweden     500\n",
       "dtype: int64"
      ]
     },
     "execution_count": 65,
     "metadata": {},
     "output_type": "execute_result"
    }
   ],
   "source": [
    "series*100"
   ]
  },
  {
   "cell_type": "code",
   "execution_count": 68,
   "id": "a7ce52de",
   "metadata": {},
   "outputs": [
    {
     "data": {
      "text/plain": [
       "Canada     False\n",
       "Turkey     False\n",
       "France     False\n",
       "Germany    False\n",
       "Sweden      True\n",
       "dtype: bool"
      ]
     },
     "execution_count": 68,
     "metadata": {},
     "output_type": "execute_result"
    }
   ],
   "source": [
    "series > 4"
   ]
  },
  {
   "cell_type": "code",
   "execution_count": 71,
   "id": "2c62d00f",
   "metadata": {},
   "outputs": [
    {
     "data": {
      "text/plain": [
       "array([1, 2, 3, 4, 5])"
      ]
     },
     "execution_count": 71,
     "metadata": {},
     "output_type": "execute_result"
    }
   ],
   "source": [
    "series.values"
   ]
  },
  {
   "cell_type": "code",
   "execution_count": 72,
   "id": "e3edbd6e",
   "metadata": {},
   "outputs": [
    {
     "data": {
      "text/plain": [
       "Canada     False\n",
       "Turkey     False\n",
       "France     False\n",
       "Germany     True\n",
       "Sweden      True\n",
       "dtype: bool"
      ]
     },
     "execution_count": 72,
     "metadata": {},
     "output_type": "execute_result"
    }
   ],
   "source": [
    "filter = series > 3\n",
    "filter"
   ]
  },
  {
   "cell_type": "code",
   "execution_count": 73,
   "id": "20b931d8",
   "metadata": {},
   "outputs": [
    {
     "data": {
      "text/plain": [
       "Germany    4\n",
       "Sweden     5\n",
       "dtype: int64"
      ]
     },
     "execution_count": 73,
     "metadata": {},
     "output_type": "execute_result"
    }
   ],
   "source": [
    "series[filter]"
   ]
  },
  {
   "cell_type": "code",
   "execution_count": 75,
   "id": "4d5f6bef",
   "metadata": {},
   "outputs": [
    {
     "data": {
      "text/plain": [
       "Germany    4\n",
       "Sweden     5\n",
       "dtype: int64"
      ]
     },
     "execution_count": 75,
     "metadata": {},
     "output_type": "execute_result"
    }
   ],
   "source": [
    "series.loc[filter]"
   ]
  },
  {
   "cell_type": "code",
   "execution_count": 79,
   "id": "b1ab9584",
   "metadata": {},
   "outputs": [
    {
     "data": {
      "text/plain": [
       "Canada     1\n",
       "Turkey     2\n",
       "France     3\n",
       "Germany    4\n",
       "dtype: int64"
      ]
     },
     "execution_count": 79,
     "metadata": {},
     "output_type": "execute_result"
    }
   ],
   "source": [
    "series[series <= 4]"
   ]
  },
  {
   "cell_type": "code",
   "execution_count": 80,
   "id": "3f772709",
   "metadata": {},
   "outputs": [
    {
     "data": {
      "text/plain": [
       "3.0"
      ]
     },
     "execution_count": 80,
     "metadata": {},
     "output_type": "execute_result"
    }
   ],
   "source": [
    "series.mean()"
   ]
  },
  {
   "cell_type": "code",
   "execution_count": 81,
   "id": "943dd3f2",
   "metadata": {},
   "outputs": [
    {
     "data": {
      "text/plain": [
       "1.5811388300841898"
      ]
     },
     "execution_count": 81,
     "metadata": {},
     "output_type": "execute_result"
    }
   ],
   "source": [
    "series.std()"
   ]
  },
  {
   "cell_type": "code",
   "execution_count": 85,
   "id": "9ee6a027",
   "metadata": {},
   "outputs": [
    {
     "data": {
      "text/plain": [
       "Canada     0.000000\n",
       "Turkey     0.693147\n",
       "France     1.098612\n",
       "Germany    1.386294\n",
       "Sweden     1.609438\n",
       "dtype: float64"
      ]
     },
     "execution_count": 85,
     "metadata": {},
     "output_type": "execute_result"
    }
   ],
   "source": [
    "import numpy as np\n",
    "np.log(series)"
   ]
  },
  {
   "cell_type": "code",
   "execution_count": 87,
   "id": "48a307ee",
   "metadata": {},
   "outputs": [],
   "source": [
    "series[\"Turkey\"] = 99"
   ]
  },
  {
   "cell_type": "code",
   "execution_count": 89,
   "id": "336f229a",
   "metadata": {},
   "outputs": [
    {
     "data": {
      "text/plain": [
       "Canada      1\n",
       "Turkey     99\n",
       "France      3\n",
       "Germany     4\n",
       "Sweden      5\n",
       "dtype: int64"
      ]
     },
     "execution_count": 89,
     "metadata": {},
     "output_type": "execute_result"
    }
   ],
   "source": [
    "series"
   ]
  },
  {
   "cell_type": "code",
   "execution_count": 90,
   "id": "f4921b6d",
   "metadata": {},
   "outputs": [],
   "source": [
    "series[series > 3] = 88"
   ]
  },
  {
   "cell_type": "code",
   "execution_count": 91,
   "id": "a430e110",
   "metadata": {},
   "outputs": [
    {
     "data": {
      "text/plain": [
       "Canada      1\n",
       "Turkey     88\n",
       "France      3\n",
       "Germany    88\n",
       "Sweden     88\n",
       "dtype: int64"
      ]
     },
     "execution_count": 91,
     "metadata": {},
     "output_type": "execute_result"
    }
   ],
   "source": [
    "series"
   ]
  }
 ],
 "metadata": {
  "kernelspec": {
   "display_name": "base",
   "language": "python",
   "name": "python3"
  },
  "language_info": {
   "codemirror_mode": {
    "name": "ipython",
    "version": 3
   },
   "file_extension": ".py",
   "mimetype": "text/x-python",
   "name": "python",
   "nbconvert_exporter": "python",
   "pygments_lexer": "ipython3",
   "version": "3.9.13"
  },
  "vscode": {
   "interpreter": {
    "hash": "777fa8505484734131332f46d395e05226ba5db18fcd26e384d7143286b51c06"
   }
  }
 },
 "nbformat": 4,
 "nbformat_minor": 5
}
