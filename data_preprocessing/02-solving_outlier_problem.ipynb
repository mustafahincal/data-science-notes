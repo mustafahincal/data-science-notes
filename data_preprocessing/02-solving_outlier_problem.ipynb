{
 "cells": [
  {
   "cell_type": "markdown",
   "id": "65f3b038-5d61-4008-a2b6-757cde5c1158",
   "metadata": {},
   "source": [
    "# Aykırı Değer Problemini Çözmek"
   ]
  },
  {
   "cell_type": "code",
   "execution_count": 1,
   "id": "04583dd0-01b7-46e0-a105-8a91ac4fc6c0",
   "metadata": {},
   "outputs": [],
   "source": [
    "import seaborn as sns\n",
    "diamonds = sns.load_dataset(\"diamonds\")\n",
    "df = diamonds.copy()\n",
    "df = df.select_dtypes(include = [\"int64\",\"float64\"])\n",
    "df = df.dropna()"
   ]
  },
  {
   "cell_type": "code",
   "execution_count": 2,
   "id": "1cd45cee-f05f-4fcb-82dc-cd5b0dcd9753",
   "metadata": {},
   "outputs": [
    {
     "data": {
      "text/html": [
       "<div>\n",
       "<style scoped>\n",
       "    .dataframe tbody tr th:only-of-type {\n",
       "        vertical-align: middle;\n",
       "    }\n",
       "\n",
       "    .dataframe tbody tr th {\n",
       "        vertical-align: top;\n",
       "    }\n",
       "\n",
       "    .dataframe thead th {\n",
       "        text-align: right;\n",
       "    }\n",
       "</style>\n",
       "<table border=\"1\" class=\"dataframe\">\n",
       "  <thead>\n",
       "    <tr style=\"text-align: right;\">\n",
       "      <th></th>\n",
       "      <th>carat</th>\n",
       "      <th>depth</th>\n",
       "      <th>table</th>\n",
       "      <th>price</th>\n",
       "      <th>x</th>\n",
       "      <th>y</th>\n",
       "      <th>z</th>\n",
       "    </tr>\n",
       "  </thead>\n",
       "  <tbody>\n",
       "    <tr>\n",
       "      <th>0</th>\n",
       "      <td>0.23</td>\n",
       "      <td>61.5</td>\n",
       "      <td>55.0</td>\n",
       "      <td>326</td>\n",
       "      <td>3.95</td>\n",
       "      <td>3.98</td>\n",
       "      <td>2.43</td>\n",
       "    </tr>\n",
       "    <tr>\n",
       "      <th>1</th>\n",
       "      <td>0.21</td>\n",
       "      <td>59.8</td>\n",
       "      <td>61.0</td>\n",
       "      <td>326</td>\n",
       "      <td>3.89</td>\n",
       "      <td>3.84</td>\n",
       "      <td>2.31</td>\n",
       "    </tr>\n",
       "    <tr>\n",
       "      <th>2</th>\n",
       "      <td>0.23</td>\n",
       "      <td>56.9</td>\n",
       "      <td>65.0</td>\n",
       "      <td>327</td>\n",
       "      <td>4.05</td>\n",
       "      <td>4.07</td>\n",
       "      <td>2.31</td>\n",
       "    </tr>\n",
       "    <tr>\n",
       "      <th>3</th>\n",
       "      <td>0.29</td>\n",
       "      <td>62.4</td>\n",
       "      <td>58.0</td>\n",
       "      <td>334</td>\n",
       "      <td>4.20</td>\n",
       "      <td>4.23</td>\n",
       "      <td>2.63</td>\n",
       "    </tr>\n",
       "    <tr>\n",
       "      <th>4</th>\n",
       "      <td>0.31</td>\n",
       "      <td>63.3</td>\n",
       "      <td>58.0</td>\n",
       "      <td>335</td>\n",
       "      <td>4.34</td>\n",
       "      <td>4.35</td>\n",
       "      <td>2.75</td>\n",
       "    </tr>\n",
       "  </tbody>\n",
       "</table>\n",
       "</div>"
      ],
      "text/plain": [
       "   carat  depth  table  price     x     y     z\n",
       "0   0.23   61.5   55.0    326  3.95  3.98  2.43\n",
       "1   0.21   59.8   61.0    326  3.89  3.84  2.31\n",
       "2   0.23   56.9   65.0    327  4.05  4.07  2.31\n",
       "3   0.29   62.4   58.0    334  4.20  4.23  2.63\n",
       "4   0.31   63.3   58.0    335  4.34  4.35  2.75"
      ]
     },
     "execution_count": 2,
     "metadata": {},
     "output_type": "execute_result"
    }
   ],
   "source": [
    "df.head()"
   ]
  },
  {
   "cell_type": "code",
   "execution_count": 69,
   "id": "6fb245ef-f241-474b-afe8-cfeae1a53ea5",
   "metadata": {},
   "outputs": [
    {
     "data": {
      "text/plain": [
       "0    55.0\n",
       "1    61.0\n",
       "2    65.0\n",
       "3    58.0\n",
       "4    58.0\n",
       "Name: table, dtype: float64"
      ]
     },
     "execution_count": 69,
     "metadata": {},
     "output_type": "execute_result"
    }
   ],
   "source": [
    "df_table = df.table\n",
    "df_table.head()"
   ]
  },
  {
   "cell_type": "code",
   "execution_count": 70,
   "id": "3e5e46de-34a6-4305-b219-3903b9f3865f",
   "metadata": {},
   "outputs": [],
   "source": [
    "Q1 = df_table.quantile(0.25)\n",
    "Q3 = df_table.quantile(0.75)\n",
    "IQR = Q3 - Q1\n",
    "lower_limit = Q1 - 1.5 * IQR\n",
    "upper_limit = Q3 + 1.5 * IQR"
   ]
  },
  {
   "cell_type": "code",
   "execution_count": 71,
   "id": "42efda6c-3baf-45da-9062-37728182166c",
   "metadata": {},
   "outputs": [
    {
     "data": {
      "text/plain": [
       "0        False\n",
       "1        False\n",
       "2         True\n",
       "3        False\n",
       "4        False\n",
       "         ...  \n",
       "53935    False\n",
       "53936    False\n",
       "53937    False\n",
       "53938    False\n",
       "53939    False\n",
       "Name: table, Length: 53940, dtype: bool"
      ]
     },
     "execution_count": 71,
     "metadata": {},
     "output_type": "execute_result"
    }
   ],
   "source": [
    "outliers_tf = (df_table < lower_limit) | (df_table > upper_limit)\n",
    "outliers_tf"
   ]
  },
  {
   "cell_type": "code",
   "execution_count": 72,
   "id": "33ee30e9-76ad-4328-8741-2dcb279df25e",
   "metadata": {},
   "outputs": [
    {
     "data": {
      "text/plain": [
       "2        65.0\n",
       "91       69.0\n",
       "145      64.0\n",
       "219      64.0\n",
       "227      67.0\n",
       "         ... \n",
       "53695    65.0\n",
       "53697    65.0\n",
       "53756    64.0\n",
       "53757    64.0\n",
       "53785    65.0\n",
       "Name: table, Length: 605, dtype: float64"
      ]
     },
     "execution_count": 72,
     "metadata": {},
     "output_type": "execute_result"
    }
   ],
   "source": [
    "df_table[outliers_tf]"
   ]
  },
  {
   "cell_type": "code",
   "execution_count": 73,
   "id": "4acd6cec-7ab0-48ad-91fb-92739a5729dc",
   "metadata": {},
   "outputs": [
    {
     "data": {
      "text/plain": [
       "Int64Index([    2,    91,   145,   219,   227,   239,   296,   314,   356,\n",
       "              359,\n",
       "            ...\n",
       "            53226, 53503, 53542, 53577, 53660, 53695, 53697, 53756, 53757,\n",
       "            53785],\n",
       "           dtype='int64', length=605)"
      ]
     },
     "execution_count": 73,
     "metadata": {},
     "output_type": "execute_result"
    }
   ],
   "source": [
    "df_table[outliers_tf].index"
   ]
  },
  {
   "cell_type": "code",
   "execution_count": 74,
   "id": "ce4544cf-d4f9-4b0d-8c35-0b226bd9697a",
   "metadata": {},
   "outputs": [],
   "source": [
    "import pandas as pd"
   ]
  },
  {
   "cell_type": "code",
   "execution_count": 75,
   "id": "c64a006b-a062-48a3-8e0c-92cba7965615",
   "metadata": {},
   "outputs": [
    {
     "data": {
      "text/plain": [
       "pandas.core.series.Series"
      ]
     },
     "execution_count": 75,
     "metadata": {},
     "output_type": "execute_result"
    }
   ],
   "source": [
    "type(df_table)"
   ]
  },
  {
   "cell_type": "code",
   "execution_count": 76,
   "id": "9642a01b-e5df-4976-bdbf-b2776a463fb9",
   "metadata": {},
   "outputs": [],
   "source": [
    "# pandas df'sine çevirmeliyiz"
   ]
  },
  {
   "cell_type": "code",
   "execution_count": 77,
   "id": "1a1cc4d1-c77d-45bf-b72a-0acbc27766fc",
   "metadata": {},
   "outputs": [
    {
     "data": {
      "text/plain": [
       "pandas.core.frame.DataFrame"
      ]
     },
     "execution_count": 77,
     "metadata": {},
     "output_type": "execute_result"
    }
   ],
   "source": [
    "df_table = pd.DataFrame(df_table)\n",
    "type(df_table)"
   ]
  },
  {
   "cell_type": "markdown",
   "id": "719749f6-0912-470e-a513-a4382dfdc691",
   "metadata": {},
   "source": [
    "## Silme"
   ]
  },
  {
   "cell_type": "code",
   "execution_count": 78,
   "id": "4e7dd831-a110-4be9-955e-e53c52a6e06d",
   "metadata": {},
   "outputs": [
    {
     "data": {
      "text/plain": [
       "(53940, 1)"
      ]
     },
     "execution_count": 78,
     "metadata": {},
     "output_type": "execute_result"
    }
   ],
   "source": [
    "df_table.shape"
   ]
  },
  {
   "cell_type": "code",
   "execution_count": 79,
   "id": "10610a19-f98d-4eb5-a7a2-12d37c771b0e",
   "metadata": {},
   "outputs": [],
   "source": [
    "clean_df_table = df_table[ ~ ((df_table < lower_limit) | (df_table > upper_limit)).any(axis = 1)]  \n",
    "# ~' u ! gibi düşünebiliriz bana aykırı olmayan değerler lazım yani false olan.\n",
    "# any(axis = 1) ile de sütun bazında bir işlem yaptığımız belirtmek. onu koymayınca silinmesini istediğim değerler NaN geliyor gitmiyor."
   ]
  },
  {
   "cell_type": "code",
   "execution_count": 80,
   "id": "81082d05-7e48-4143-b900-362b2a6b931a",
   "metadata": {},
   "outputs": [
    {
     "data": {
      "text/html": [
       "<div>\n",
       "<style scoped>\n",
       "    .dataframe tbody tr th:only-of-type {\n",
       "        vertical-align: middle;\n",
       "    }\n",
       "\n",
       "    .dataframe tbody tr th {\n",
       "        vertical-align: top;\n",
       "    }\n",
       "\n",
       "    .dataframe thead th {\n",
       "        text-align: right;\n",
       "    }\n",
       "</style>\n",
       "<table border=\"1\" class=\"dataframe\">\n",
       "  <thead>\n",
       "    <tr style=\"text-align: right;\">\n",
       "      <th></th>\n",
       "      <th>table</th>\n",
       "    </tr>\n",
       "  </thead>\n",
       "  <tbody>\n",
       "    <tr>\n",
       "      <th>0</th>\n",
       "      <td>55.0</td>\n",
       "    </tr>\n",
       "    <tr>\n",
       "      <th>1</th>\n",
       "      <td>61.0</td>\n",
       "    </tr>\n",
       "    <tr>\n",
       "      <th>3</th>\n",
       "      <td>58.0</td>\n",
       "    </tr>\n",
       "    <tr>\n",
       "      <th>4</th>\n",
       "      <td>58.0</td>\n",
       "    </tr>\n",
       "    <tr>\n",
       "      <th>5</th>\n",
       "      <td>57.0</td>\n",
       "    </tr>\n",
       "    <tr>\n",
       "      <th>...</th>\n",
       "      <td>...</td>\n",
       "    </tr>\n",
       "    <tr>\n",
       "      <th>53935</th>\n",
       "      <td>57.0</td>\n",
       "    </tr>\n",
       "    <tr>\n",
       "      <th>53936</th>\n",
       "      <td>55.0</td>\n",
       "    </tr>\n",
       "    <tr>\n",
       "      <th>53937</th>\n",
       "      <td>60.0</td>\n",
       "    </tr>\n",
       "    <tr>\n",
       "      <th>53938</th>\n",
       "      <td>58.0</td>\n",
       "    </tr>\n",
       "    <tr>\n",
       "      <th>53939</th>\n",
       "      <td>55.0</td>\n",
       "    </tr>\n",
       "  </tbody>\n",
       "</table>\n",
       "<p>53335 rows × 1 columns</p>\n",
       "</div>"
      ],
      "text/plain": [
       "       table\n",
       "0       55.0\n",
       "1       61.0\n",
       "3       58.0\n",
       "4       58.0\n",
       "5       57.0\n",
       "...      ...\n",
       "53935   57.0\n",
       "53936   55.0\n",
       "53937   60.0\n",
       "53938   58.0\n",
       "53939   55.0\n",
       "\n",
       "[53335 rows x 1 columns]"
      ]
     },
     "execution_count": 80,
     "metadata": {},
     "output_type": "execute_result"
    }
   ],
   "source": [
    "clean_df_table"
   ]
  },
  {
   "cell_type": "markdown",
   "id": "34f119f5-29f0-424d-8dc9-1b6cd0effdee",
   "metadata": {},
   "source": [
    "## Ortalama ile Doldurma"
   ]
  },
  {
   "cell_type": "code",
   "execution_count": 81,
   "id": "287c726f-e3b5-48fe-89fc-83ed52b9d204",
   "metadata": {},
   "outputs": [
    {
     "data": {
      "text/html": [
       "<div>\n",
       "<style scoped>\n",
       "    .dataframe tbody tr th:only-of-type {\n",
       "        vertical-align: middle;\n",
       "    }\n",
       "\n",
       "    .dataframe tbody tr th {\n",
       "        vertical-align: top;\n",
       "    }\n",
       "\n",
       "    .dataframe thead th {\n",
       "        text-align: right;\n",
       "    }\n",
       "</style>\n",
       "<table border=\"1\" class=\"dataframe\">\n",
       "  <thead>\n",
       "    <tr style=\"text-align: right;\">\n",
       "      <th></th>\n",
       "      <th>table</th>\n",
       "    </tr>\n",
       "  </thead>\n",
       "  <tbody>\n",
       "    <tr>\n",
       "      <th>0</th>\n",
       "      <td>55.0</td>\n",
       "    </tr>\n",
       "    <tr>\n",
       "      <th>1</th>\n",
       "      <td>61.0</td>\n",
       "    </tr>\n",
       "    <tr>\n",
       "      <th>2</th>\n",
       "      <td>65.0</td>\n",
       "    </tr>\n",
       "    <tr>\n",
       "      <th>3</th>\n",
       "      <td>58.0</td>\n",
       "    </tr>\n",
       "    <tr>\n",
       "      <th>4</th>\n",
       "      <td>58.0</td>\n",
       "    </tr>\n",
       "  </tbody>\n",
       "</table>\n",
       "</div>"
      ],
      "text/plain": [
       "   table\n",
       "0   55.0\n",
       "1   61.0\n",
       "2   65.0\n",
       "3   58.0\n",
       "4   58.0"
      ]
     },
     "execution_count": 81,
     "metadata": {},
     "output_type": "execute_result"
    }
   ],
   "source": [
    "df_table.head()"
   ]
  },
  {
   "cell_type": "code",
   "execution_count": 82,
   "id": "f434cfb6-c723-4dab-b87d-c03dca6ba146",
   "metadata": {},
   "outputs": [
    {
     "data": {
      "text/plain": [
       "0    False\n",
       "1    False\n",
       "2     True\n",
       "3    False\n",
       "4    False\n",
       "Name: table, dtype: bool"
      ]
     },
     "execution_count": 82,
     "metadata": {},
     "output_type": "execute_result"
    }
   ],
   "source": [
    "outliers_tf.head()"
   ]
  },
  {
   "cell_type": "code",
   "execution_count": 83,
   "id": "e3834b13-861a-40dd-b3c8-e2d7ac01d18b",
   "metadata": {},
   "outputs": [
    {
     "data": {
      "text/html": [
       "<div>\n",
       "<style scoped>\n",
       "    .dataframe tbody tr th:only-of-type {\n",
       "        vertical-align: middle;\n",
       "    }\n",
       "\n",
       "    .dataframe tbody tr th {\n",
       "        vertical-align: top;\n",
       "    }\n",
       "\n",
       "    .dataframe thead th {\n",
       "        text-align: right;\n",
       "    }\n",
       "</style>\n",
       "<table border=\"1\" class=\"dataframe\">\n",
       "  <thead>\n",
       "    <tr style=\"text-align: right;\">\n",
       "      <th></th>\n",
       "      <th>table</th>\n",
       "    </tr>\n",
       "  </thead>\n",
       "  <tbody>\n",
       "    <tr>\n",
       "      <th>2</th>\n",
       "      <td>65.0</td>\n",
       "    </tr>\n",
       "    <tr>\n",
       "      <th>91</th>\n",
       "      <td>69.0</td>\n",
       "    </tr>\n",
       "    <tr>\n",
       "      <th>145</th>\n",
       "      <td>64.0</td>\n",
       "    </tr>\n",
       "    <tr>\n",
       "      <th>219</th>\n",
       "      <td>64.0</td>\n",
       "    </tr>\n",
       "    <tr>\n",
       "      <th>227</th>\n",
       "      <td>67.0</td>\n",
       "    </tr>\n",
       "    <tr>\n",
       "      <th>...</th>\n",
       "      <td>...</td>\n",
       "    </tr>\n",
       "    <tr>\n",
       "      <th>53695</th>\n",
       "      <td>65.0</td>\n",
       "    </tr>\n",
       "    <tr>\n",
       "      <th>53697</th>\n",
       "      <td>65.0</td>\n",
       "    </tr>\n",
       "    <tr>\n",
       "      <th>53756</th>\n",
       "      <td>64.0</td>\n",
       "    </tr>\n",
       "    <tr>\n",
       "      <th>53757</th>\n",
       "      <td>64.0</td>\n",
       "    </tr>\n",
       "    <tr>\n",
       "      <th>53785</th>\n",
       "      <td>65.0</td>\n",
       "    </tr>\n",
       "  </tbody>\n",
       "</table>\n",
       "<p>605 rows × 1 columns</p>\n",
       "</div>"
      ],
      "text/plain": [
       "       table\n",
       "2       65.0\n",
       "91      69.0\n",
       "145     64.0\n",
       "219     64.0\n",
       "227     67.0\n",
       "...      ...\n",
       "53695   65.0\n",
       "53697   65.0\n",
       "53756   64.0\n",
       "53757   64.0\n",
       "53785   65.0\n",
       "\n",
       "[605 rows x 1 columns]"
      ]
     },
     "execution_count": 83,
     "metadata": {},
     "output_type": "execute_result"
    }
   ],
   "source": [
    "df_table[outliers_tf]"
   ]
  },
  {
   "cell_type": "code",
   "execution_count": 84,
   "id": "70594717-8f4a-4250-9f24-564dc125c598",
   "metadata": {},
   "outputs": [
    {
     "data": {
      "text/plain": [
       "table    57.457184\n",
       "dtype: float64"
      ]
     },
     "execution_count": 84,
     "metadata": {},
     "output_type": "execute_result"
    }
   ],
   "source": [
    "df_table.mean()"
   ]
  },
  {
   "cell_type": "code",
   "execution_count": 85,
   "id": "2ea2e015-9126-4dc2-a0cc-0114c1f67a6e",
   "metadata": {},
   "outputs": [],
   "source": [
    "clean_df_table = df_table.copy()"
   ]
  },
  {
   "cell_type": "code",
   "execution_count": 86,
   "id": "a1c885a4-4281-4118-8aa1-979204727150",
   "metadata": {},
   "outputs": [],
   "source": [
    "clean_df_table[outliers_tf] = df_table.mean()"
   ]
  },
  {
   "cell_type": "code",
   "execution_count": 88,
   "id": "868dd43d-4ace-49c0-99f2-5a8f934c049a",
   "metadata": {},
   "outputs": [
    {
     "data": {
      "text/html": [
       "<div>\n",
       "<style scoped>\n",
       "    .dataframe tbody tr th:only-of-type {\n",
       "        vertical-align: middle;\n",
       "    }\n",
       "\n",
       "    .dataframe tbody tr th {\n",
       "        vertical-align: top;\n",
       "    }\n",
       "\n",
       "    .dataframe thead th {\n",
       "        text-align: right;\n",
       "    }\n",
       "</style>\n",
       "<table border=\"1\" class=\"dataframe\">\n",
       "  <thead>\n",
       "    <tr style=\"text-align: right;\">\n",
       "      <th></th>\n",
       "      <th>table</th>\n",
       "    </tr>\n",
       "  </thead>\n",
       "  <tbody>\n",
       "    <tr>\n",
       "      <th>2</th>\n",
       "      <td>57.457184</td>\n",
       "    </tr>\n",
       "    <tr>\n",
       "      <th>91</th>\n",
       "      <td>57.457184</td>\n",
       "    </tr>\n",
       "    <tr>\n",
       "      <th>145</th>\n",
       "      <td>57.457184</td>\n",
       "    </tr>\n",
       "    <tr>\n",
       "      <th>219</th>\n",
       "      <td>57.457184</td>\n",
       "    </tr>\n",
       "    <tr>\n",
       "      <th>227</th>\n",
       "      <td>57.457184</td>\n",
       "    </tr>\n",
       "    <tr>\n",
       "      <th>...</th>\n",
       "      <td>...</td>\n",
       "    </tr>\n",
       "    <tr>\n",
       "      <th>53695</th>\n",
       "      <td>57.457184</td>\n",
       "    </tr>\n",
       "    <tr>\n",
       "      <th>53697</th>\n",
       "      <td>57.457184</td>\n",
       "    </tr>\n",
       "    <tr>\n",
       "      <th>53756</th>\n",
       "      <td>57.457184</td>\n",
       "    </tr>\n",
       "    <tr>\n",
       "      <th>53757</th>\n",
       "      <td>57.457184</td>\n",
       "    </tr>\n",
       "    <tr>\n",
       "      <th>53785</th>\n",
       "      <td>57.457184</td>\n",
       "    </tr>\n",
       "  </tbody>\n",
       "</table>\n",
       "<p>605 rows × 1 columns</p>\n",
       "</div>"
      ],
      "text/plain": [
       "           table\n",
       "2      57.457184\n",
       "91     57.457184\n",
       "145    57.457184\n",
       "219    57.457184\n",
       "227    57.457184\n",
       "...          ...\n",
       "53695  57.457184\n",
       "53697  57.457184\n",
       "53756  57.457184\n",
       "53757  57.457184\n",
       "53785  57.457184\n",
       "\n",
       "[605 rows x 1 columns]"
      ]
     },
     "execution_count": 88,
     "metadata": {},
     "output_type": "execute_result"
    }
   ],
   "source": [
    "clean_df_table[outliers_tf]"
   ]
  },
  {
   "cell_type": "markdown",
   "id": "616cdb60-c965-4f32-8a3f-1a3efa9f9272",
   "metadata": {},
   "source": [
    "## Baskılama Yöntemi : Üst taraflar üst sınıra, alt taraflar alt sınıra eşitlenir."
   ]
  },
  {
   "cell_type": "code",
   "execution_count": 89,
   "id": "aa56ec23-cd24-4277-b1b5-826d0352978d",
   "metadata": {},
   "outputs": [
    {
     "data": {
      "text/html": [
       "<div>\n",
       "<style scoped>\n",
       "    .dataframe tbody tr th:only-of-type {\n",
       "        vertical-align: middle;\n",
       "    }\n",
       "\n",
       "    .dataframe tbody tr th {\n",
       "        vertical-align: top;\n",
       "    }\n",
       "\n",
       "    .dataframe thead th {\n",
       "        text-align: right;\n",
       "    }\n",
       "</style>\n",
       "<table border=\"1\" class=\"dataframe\">\n",
       "  <thead>\n",
       "    <tr style=\"text-align: right;\">\n",
       "      <th></th>\n",
       "      <th>table</th>\n",
       "    </tr>\n",
       "  </thead>\n",
       "  <tbody>\n",
       "    <tr>\n",
       "      <th>2</th>\n",
       "      <td>65.0</td>\n",
       "    </tr>\n",
       "    <tr>\n",
       "      <th>91</th>\n",
       "      <td>69.0</td>\n",
       "    </tr>\n",
       "    <tr>\n",
       "      <th>145</th>\n",
       "      <td>64.0</td>\n",
       "    </tr>\n",
       "    <tr>\n",
       "      <th>219</th>\n",
       "      <td>64.0</td>\n",
       "    </tr>\n",
       "    <tr>\n",
       "      <th>227</th>\n",
       "      <td>67.0</td>\n",
       "    </tr>\n",
       "    <tr>\n",
       "      <th>...</th>\n",
       "      <td>...</td>\n",
       "    </tr>\n",
       "    <tr>\n",
       "      <th>53695</th>\n",
       "      <td>65.0</td>\n",
       "    </tr>\n",
       "    <tr>\n",
       "      <th>53697</th>\n",
       "      <td>65.0</td>\n",
       "    </tr>\n",
       "    <tr>\n",
       "      <th>53756</th>\n",
       "      <td>64.0</td>\n",
       "    </tr>\n",
       "    <tr>\n",
       "      <th>53757</th>\n",
       "      <td>64.0</td>\n",
       "    </tr>\n",
       "    <tr>\n",
       "      <th>53785</th>\n",
       "      <td>65.0</td>\n",
       "    </tr>\n",
       "  </tbody>\n",
       "</table>\n",
       "<p>605 rows × 1 columns</p>\n",
       "</div>"
      ],
      "text/plain": [
       "       table\n",
       "2       65.0\n",
       "91      69.0\n",
       "145     64.0\n",
       "219     64.0\n",
       "227     67.0\n",
       "...      ...\n",
       "53695   65.0\n",
       "53697   65.0\n",
       "53756   64.0\n",
       "53757   64.0\n",
       "53785   65.0\n",
       "\n",
       "[605 rows x 1 columns]"
      ]
     },
     "execution_count": 89,
     "metadata": {},
     "output_type": "execute_result"
    }
   ],
   "source": [
    "df_table[outliers_tf]"
   ]
  },
  {
   "cell_type": "code",
   "execution_count": 91,
   "id": "3bd2206f-ae4d-4afa-9949-0ae51871a33f",
   "metadata": {},
   "outputs": [
    {
     "data": {
      "text/plain": [
       "51.5"
      ]
     },
     "execution_count": 91,
     "metadata": {},
     "output_type": "execute_result"
    }
   ],
   "source": [
    "lower_limit"
   ]
  },
  {
   "cell_type": "code",
   "execution_count": 92,
   "id": "23e817fe-77ea-4bf0-8300-a56a321cce5c",
   "metadata": {},
   "outputs": [],
   "source": [
    "clean_df_table[outliers_tf] = lower_limit"
   ]
  },
  {
   "cell_type": "code",
   "execution_count": 94,
   "id": "8fcef922-ee1d-4df0-adc6-f5488829783f",
   "metadata": {},
   "outputs": [
    {
     "data": {
      "text/html": [
       "<div>\n",
       "<style scoped>\n",
       "    .dataframe tbody tr th:only-of-type {\n",
       "        vertical-align: middle;\n",
       "    }\n",
       "\n",
       "    .dataframe tbody tr th {\n",
       "        vertical-align: top;\n",
       "    }\n",
       "\n",
       "    .dataframe thead th {\n",
       "        text-align: right;\n",
       "    }\n",
       "</style>\n",
       "<table border=\"1\" class=\"dataframe\">\n",
       "  <thead>\n",
       "    <tr style=\"text-align: right;\">\n",
       "      <th></th>\n",
       "      <th>table</th>\n",
       "    </tr>\n",
       "  </thead>\n",
       "  <tbody>\n",
       "    <tr>\n",
       "      <th>2</th>\n",
       "      <td>51.5</td>\n",
       "    </tr>\n",
       "    <tr>\n",
       "      <th>91</th>\n",
       "      <td>51.5</td>\n",
       "    </tr>\n",
       "    <tr>\n",
       "      <th>145</th>\n",
       "      <td>51.5</td>\n",
       "    </tr>\n",
       "    <tr>\n",
       "      <th>219</th>\n",
       "      <td>51.5</td>\n",
       "    </tr>\n",
       "    <tr>\n",
       "      <th>227</th>\n",
       "      <td>51.5</td>\n",
       "    </tr>\n",
       "    <tr>\n",
       "      <th>...</th>\n",
       "      <td>...</td>\n",
       "    </tr>\n",
       "    <tr>\n",
       "      <th>53695</th>\n",
       "      <td>51.5</td>\n",
       "    </tr>\n",
       "    <tr>\n",
       "      <th>53697</th>\n",
       "      <td>51.5</td>\n",
       "    </tr>\n",
       "    <tr>\n",
       "      <th>53756</th>\n",
       "      <td>51.5</td>\n",
       "    </tr>\n",
       "    <tr>\n",
       "      <th>53757</th>\n",
       "      <td>51.5</td>\n",
       "    </tr>\n",
       "    <tr>\n",
       "      <th>53785</th>\n",
       "      <td>51.5</td>\n",
       "    </tr>\n",
       "  </tbody>\n",
       "</table>\n",
       "<p>605 rows × 1 columns</p>\n",
       "</div>"
      ],
      "text/plain": [
       "       table\n",
       "2       51.5\n",
       "91      51.5\n",
       "145     51.5\n",
       "219     51.5\n",
       "227     51.5\n",
       "...      ...\n",
       "53695   51.5\n",
       "53697   51.5\n",
       "53756   51.5\n",
       "53757   51.5\n",
       "53785   51.5\n",
       "\n",
       "[605 rows x 1 columns]"
      ]
     },
     "execution_count": 94,
     "metadata": {},
     "output_type": "execute_result"
    }
   ],
   "source": [
    "clean_df_table[outliers_tf]"
   ]
  },
  {
   "cell_type": "code",
   "execution_count": null,
   "id": "67984d54-e730-4799-bc58-b8f34092a49c",
   "metadata": {},
   "outputs": [],
   "source": []
  }
 ],
 "metadata": {
  "kernelspec": {
   "display_name": "Python 3 (ipykernel)",
   "language": "python",
   "name": "python3"
  },
  "language_info": {
   "codemirror_mode": {
    "name": "ipython",
    "version": 3
   },
   "file_extension": ".py",
   "mimetype": "text/x-python",
   "name": "python",
   "nbconvert_exporter": "python",
   "pygments_lexer": "ipython3",
   "version": "3.9.12"
  }
 },
 "nbformat": 4,
 "nbformat_minor": 5
}
