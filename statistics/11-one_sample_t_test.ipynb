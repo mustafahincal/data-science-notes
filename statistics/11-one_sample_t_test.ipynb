{
 "cells": [
  {
   "cell_type": "markdown",
   "id": "2424f0a4-14f7-4266-a303-919ac30ad750",
   "metadata": {},
   "source": [
    "# Tek Örneklem T Testi\n",
    "## Popülasyon ortalaması ile varsayımsal bir değer arasında istatistiksel olarak anlamlı bir farklılık olup olmadığını test etmek için kullanılan parametrik bir testtir.\n",
    "## Örnek ortalamasına ilişkin test yapmak için kullanılır."
   ]
  },
  {
   "cell_type": "markdown",
   "id": "ea5ff5d5-4588-4691-a48e-25ac1972df49",
   "metadata": {},
   "source": [
    "## Test İstatistiği\n",
    "- 1) Anakütle standart sapması biliniyorsa z istatistiği kullanılır.\n",
    "- 2) Anakütle standart sapması bilinmiyorsa ve n > 30 ise z istatistiği kullanılır.\n",
    "- 3) Anakütle standart sapması bilinmiyorsa ve n < 30 ise t istatistiği kullanılır."
   ]
  },
  {
   "cell_type": "markdown",
   "id": "20078ab2-4151-4deb-9f20-dec33de2a951",
   "metadata": {},
   "source": [
    "## İş Uygulaması : Ürün Satın Alma Adım Optimizasyonu\n",
    "### Problem : Sepete ürün ekleme işlemi sonrasında ödeme ekranında 5 adım vardır ve bu adımların birisi sorgulanmaktadır.\n",
    "### Detaylar :\n",
    "- Her adımı 20'şer sn. olması hedefi var. 4.Adım sorgulanıyor.\n",
    "- Bu durumu test etmek için 100 örnek alınıyor.\n",
    "- Örnek standart sapması 5 saniyedir. Örnek ortalaması ise 19 saniyedir."
   ]
  },
  {
   "cell_type": "markdown",
   "id": "e92b20e6-1fab-4774-a031-e1132e71cf92",
   "metadata": {},
   "source": [
    "### Hipotez Testi Adımları\n",
    "- Adım 1 : Hipotezlerin kurulması ve yönlerinin belirlenmesi =>  H0 : μ = 20, H1 : μ != 20\n",
    "- Adım 2 : Anlamlılık düzeyininin ve tablo değerinin belirlenmesi => α = 0.05 kurduğumuz hipotez iki yönlü old. için α/2 = 0.025, Z Tablo olasılık değeri : 0.5 - 0.025 = 0.475, Z tablo kritik değer = -/+ 1.96 \n",
    "- Adım 3 : Test istatisliğinin belirlenmesi ve test istatistiğinin hesaplanması => Z hesap değeri = -2.00\n",
    "- Adım 4 : Hesaplanan test istatistiği ile alfa'ya karşılık gelen tablo değerinin karşılaştırılması => Zh > Zt ya da -Zh < -Zt ise H0 Red ZHesap = -2.00 < ZTablo = -1.96 olduğu için H0 reddedilir.\n",
    "- Adım 5 : Yorum => 4.Adımda geçirilen sürenin 20 saniye olduğunu iddia eden H0 hipotezi reddedilmiştir. Buna göre kullanıcılar istatistiksel olarak yüzde 95 güvenirlilik ile 4.adımda 20 saniyeden farklı zaman geçirmektedir."
   ]
  },
  {
   "cell_type": "markdown",
   "id": "260d091d-078c-4c62-a9bd-5c6bb276d910",
   "metadata": {},
   "source": [
    "## İş Uygulaması : Web Sitesinde Geçirilen Sürenin Testi\n",
    "### Problem : Web sitemizde geçirilen süre gerçekten 170 saniye mi?\n",
    "### Detaylar :\n",
    "- Yazılımlardan elde edilen web sitesinde geçirilen ortalama süreler var.\n",
    "- Bu veriler incelendiğinde bir yönetici ya da çalışanımız bu değerlerin böyle olmadığına yönelik düşünceleri taşıyor ve bu durumu test etmek istiyorlar."
   ]
  },
  {
   "cell_type": "markdown",
   "id": "33adc658-3827-4412-a7bf-b7250ca4152f",
   "metadata": {},
   "source": [
    "# Tek Örneklem T Testi\n",
    "\n",
    "Örnek ortalamasına ilişkin test yapmak için kullanılır.\n",
    "\n",
    "**Hipotezler:**\n",
    "\n",
    "<d><i>H</i><sub>0</sub>: <i>μ</i> = <i>50</i></d>   \n",
    "<d><i>H</i><sub>1</sub>: <i>μ</i> ≠ <i>50</i></d><br><br>\n",
    "\n",
    "<d><i>H</i><sub>0</sub>: <i>μ</i> <= <i>50</i></d><br>\n",
    "<d><i>H</i><sub>1</sub>: <i>μ</i> > <i>50</i></d><br><br>\n",
    "\n",
    "<d><i>H</i><sub>0</sub>: <i>μ</i> >= <i>50</i></d><br>\n",
    "<d><i>H</i><sub>1</sub>: <i>μ</i> < <i>50</i></d><br><br>\n",
    "\n",
    "\n",
    "\n",
    "\n",
    "<table></table>\n",
    "\n",
    "**Test İstatistiği:**\n",
    "\n",
    "${\\displaystyle t={\\frac {{\\bar {x}}-\\mu _{0}}{\\frac {s}{\\sqrt {n}}}}}$\n"
   ]
  },
  {
   "cell_type": "code",
   "execution_count": 1,
   "id": "b83f7e21-24b9-46bb-8e9b-a2b77143f5ab",
   "metadata": {},
   "outputs": [],
   "source": [
    "import numpy as np\n",
    "\n",
    "experiments = np.array([17, 160, 234, 149, 145, 107, 197, 75, 201, 225, 211, 119, \n",
    "              157, 145, 127, 244, 163, 114, 145,  65, 112, 185, 202, 146,\n",
    "              203, 224, 203, 114, 188, 156, 187, 154, 177, 95, 165, 50, 110, \n",
    "              216, 138, 151, 166, 135, 155, 84, 251, 173, 131, 207, 121, 120])"
   ]
  },
  {
   "cell_type": "code",
   "execution_count": 2,
   "id": "15be564b-75fc-4cc1-90fc-84df5912cb2c",
   "metadata": {},
   "outputs": [
    {
     "data": {
      "text/plain": [
       "array([ 17, 160, 234, 149, 145, 107, 197,  75, 201, 225])"
      ]
     },
     "execution_count": 2,
     "metadata": {},
     "output_type": "execute_result"
    }
   ],
   "source": [
    "experiments[0:10]"
   ]
  },
  {
   "cell_type": "code",
   "execution_count": 3,
   "id": "5bd64830-052d-4ace-9094-da7c000ad811",
   "metadata": {},
   "outputs": [],
   "source": [
    "import scipy.stats as stats"
   ]
  },
  {
   "cell_type": "code",
   "execution_count": 6,
   "id": "c52c8753-acfe-47bd-aac7-b6192f490137",
   "metadata": {},
   "outputs": [
    {
     "data": {
      "text/plain": [
       "DescribeResult(nobs=50, minmax=(17, 251), mean=154.38, variance=2578.0363265306123, skewness=-0.32398897278694483, kurtosis=-0.05849823498415985)"
      ]
     },
     "execution_count": 6,
     "metadata": {},
     "output_type": "execute_result"
    }
   ],
   "source": [
    "stats.describe(experiments)"
   ]
  },
  {
   "cell_type": "code",
   "execution_count": 7,
   "id": "8dd242ab-6ab5-41f7-809a-4c2322a29b98",
   "metadata": {},
   "outputs": [],
   "source": [
    "# varsayımlar\n",
    "# normallik varsayımı"
   ]
  },
  {
   "cell_type": "code",
   "execution_count": 8,
   "id": "7116dbd2-ba61-4734-b821-6595991c58db",
   "metadata": {},
   "outputs": [
    {
     "data": {
      "image/png": "[encoded data removed]",
      "text/plain": [
       "<Figure size 432x288 with 1 Axes>"
      ]
     },
     "metadata": {
      "needs_background": "light"
     },
     "output_type": "display_data"
    }
   ],
   "source": [
    "# histogram\n",
    "import pandas as pd\n",
    "pd.DataFrame(experiments).plot.hist();"
   ]
  },
  {
   "cell_type": "code",
   "execution_count": 9,
   "id": "80008acb-4b72-4485-8423-c0424df56653",
   "metadata": {},
   "outputs": [
    {
     "data": {
      "image/png": "[encoded data removed]",
      "text/plain": [
       "<Figure size 432x288 with 1 Axes>"
      ]
     },
     "metadata": {
      "needs_background": "light"
     },
     "output_type": "display_data"
    }
   ],
   "source": [
    "# qqplot\n",
    "import pylab\n",
    "stats.probplot(experiments,dist = \"norm\", plot = pylab)\n",
    "pylab.show()"
   ]
  },
  {
   "cell_type": "code",
   "execution_count": 10,
   "id": "650ebffb-be9b-40fa-b2ff-aa62ee663e21",
   "metadata": {},
   "outputs": [],
   "source": [
    "# Shapiro-Wilks Testi"
   ]
  },
  {
   "cell_type": "markdown",
   "id": "5652e92c-683b-4f63-b7bb-79ebffcff717",
   "metadata": {
    "tags": []
   },
   "source": [
    "- H0 : Örnek dağılımı ile teorik normal dağılım arasında istatistiksel olarak anlamlı bir farklılık yoktur.\n",
    "- H1 : ... fark vardır"
   ]
  },
  {
   "cell_type": "code",
   "execution_count": 11,
   "id": "8a830797-e80a-4bf6-904d-7cc4ab755c20",
   "metadata": {},
   "outputs": [],
   "source": [
    "from scipy.stats import shapiro"
   ]
  },
  {
   "cell_type": "code",
   "execution_count": 12,
   "id": "7f56be76-8724-4d10-9006-4d3de425772a",
   "metadata": {
    "tags": []
   },
   "outputs": [
    {
     "data": {
      "text/plain": [
       "ShapiroResult(statistic=0.9853105545043945, pvalue=0.7848747968673706)"
      ]
     },
     "execution_count": 12,
     "metadata": {},
     "output_type": "execute_result"
    }
   ],
   "source": [
    "shapiro(experiments)"
   ]
  },
  {
   "cell_type": "markdown",
   "id": "ca78fb88-df63-4ddb-8b06-f89b6d7120ba",
   "metadata": {},
   "source": [
    "- p - value değeri > 0.05 olduğu için H0'ı reddedemiyoruz."
   ]
  },
  {
   "cell_type": "code",
   "execution_count": 13,
   "id": "93bc727a-5741-423c-9c78-edf8dea76ab4",
   "metadata": {},
   "outputs": [],
   "source": [
    "# şimdiye kadar varsayım sağlanıyor mu diye test ettik, şimdi hipotez testini gerçekleştiricez"
   ]
  },
  {
   "cell_type": "markdown",
   "id": "088096ec-dd81-4c8a-8d5f-5f2d9484df9f",
   "metadata": {},
   "source": [
    "## Hipotez Testinin Uygulanması"
   ]
  },
  {
   "cell_type": "code",
   "execution_count": 14,
   "id": "1aa5b9f2-a07d-4a16-97b7-9b3f7da102fd",
   "metadata": {},
   "outputs": [
    {
     "data": {
      "text/plain": [
       "Ttest_1sampResult(statistic=-2.1753117985877966, pvalue=0.034460415195071446)"
      ]
     },
     "execution_count": 14,
     "metadata": {},
     "output_type": "execute_result"
    }
   ],
   "source": [
    "stats.ttest_1samp(experiments, popmean= 170)"
   ]
  },
  {
   "cell_type": "markdown",
   "id": "ba3c248d-4c17-4088-b57f-a8c992356496",
   "metadata": {},
   "source": [
    "- H0 : Web sitemizde geçirilen ortalama süre 170'tir.\n",
    "- H1 : .. değildir.\n",
    "- test sonuçları incelendiğinde p - value değeri çalışmamızın başında kabul ettiğimiz alfa 0.05 değerinden küçük olduğundan dolayı H0 hipotezi reddedilir. yani web sitemizde geçirilen ortalama süre 170 değildir."
   ]
  }
 ],
 "metadata": {
  "kernelspec": {
   "display_name": "Python 3 (ipykernel)",
   "language": "python",
   "name": "python3"
  },
  "language_info": {
   "codemirror_mode": {
    "name": "ipython",
    "version": 3
   },
   "file_extension": ".py",
   "mimetype": "text/x-python",
   "name": "python",
   "nbconvert_exporter": "python",
   "pygments_lexer": "ipython3",
   "version": "3.9.12"
  }
 },
 "nbformat": 4,
 "nbformat_minor": 5
}
