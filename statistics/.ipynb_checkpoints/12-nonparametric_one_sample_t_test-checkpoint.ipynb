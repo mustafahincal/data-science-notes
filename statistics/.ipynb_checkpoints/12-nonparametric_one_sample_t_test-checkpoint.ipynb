{
 "cells": [
  {
   "cell_type": "markdown",
   "id": "253de3b5-d19e-4648-b0bb-13962c9c58d1",
   "metadata": {},
   "source": [
    "# Nonparametrik Tek Örneklem Testi"
   ]
  },
  {
   "cell_type": "markdown",
   "id": "7ddf9d95-be51-4f08-8fb8-a20b9b770357",
   "metadata": {},
   "source": [
    "## Önceki örnekte yaptığımız tek örneklem testi idi, parametrik test ne demek?\n",
    "## Parametrik Test : Çeşitli varsayımların sağlandığı durumda uygulanabilen testler demek."
   ]
  },
  {
   "cell_type": "code",
   "execution_count": null,
   "id": "9edced1b-1195-444a-9de7-9d831e048c60",
   "metadata": {},
   "outputs": [],
   "source": [
    "# Shapiro-Wilks Testi"
   ]
  },
  {
   "cell_type": "markdown",
   "id": "be3e8900-ec55-46e8-af60-9367dbbdb9f9",
   "metadata": {},
   "source": [
    "- H0 : Örnek dağılımı ile teorik normal dağılım arasında istatistiksel olarak anlamlı bir farklılık yoktur.\n",
    "- H1 : ... fark vardır"
   ]
  },
  {
   "cell_type": "code",
   "execution_count": null,
   "id": "2f044724-1cb3-4de5-888d-c35241e01659",
   "metadata": {},
   "outputs": [],
   "source": [
    "from scipy.stats import shapiro"
   ]
  },
  {
   "cell_type": "code",
   "execution_count": null,
   "id": "66e8fc2a-39c4-4d51-add7-2a8ad4cb8fea",
   "metadata": {},
   "outputs": [],
   "source": [
    "shapiro(experiments)"
   ]
  }
 ],
 "metadata": {
  "kernelspec": {
   "display_name": "Python 3 (ipykernel)",
   "language": "python",
   "name": "python3"
  },
  "language_info": {
   "codemirror_mode": {
    "name": "ipython",
    "version": 3
   },
   "file_extension": ".py",
   "mimetype": "text/x-python",
   "name": "python",
   "nbconvert_exporter": "python",
   "pygments_lexer": "ipython3",
   "version": "3.9.12"
  }
 },
 "nbformat": 4,
 "nbformat_minor": 5
}
