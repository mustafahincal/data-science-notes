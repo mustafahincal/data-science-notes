{
 "cells": [
  {
   "cell_type": "markdown",
   "id": "84cf79cd-be1d-401a-b9aa-a14fef5bca69",
   "metadata": {},
   "source": [
    "# Olasılık"
   ]
  },
  {
   "cell_type": "markdown",
   "id": "06f858b2-cddc-48ca-a690-6e1a04975a62",
   "metadata": {},
   "source": [
    "## Olasılık Nedir?\n",
    "- Olayların olabilirliğinin sayısal ifadesidir\n",
    "## Rassal Değişken Nedir?\n",
    "- Değerlerini bir deneyin sonuçlarından alan değişkene rassal değişken denir. (Yazı-tura, maaş)\n",
    "## Dağılım Nedir?\n",
    "- Evrende bazı olaylar gerçekleşiyor, bu olaylar ya da durumların sayısal karşılıklarının ortaya çıkardığı yapıya dağılım denir.\n",
    "## Olasılık Dağılımı Nedir?\n",
    "- Bir rassal olaya ait değerler ve bu değerlerin gerçekleşme olasılıklarının bir arada ifade edilmesine  olasılık dağılımı denir.\n",
    "## Olasılık Fonksiyonu Nedir? \n",
    "- Bir değişkenin herhangi bir değeri alması olasılığını hesaplamaya yarayan fonksiyondur. "
   ]
  },
  {
   "cell_type": "markdown",
   "id": "764fe0a9-3875-4743-9f3f-04377647fbb9",
   "metadata": {},
   "source": [
    "## Kesikli Olasılık Dağılımları\n",
    "- Bernoulli\n",
    "- Binom\n",
    "- Poisson"
   ]
  },
  {
   "cell_type": "markdown",
   "id": "12ab15f3-5c8b-44ae-ab0b-e54ee8be4620",
   "metadata": {},
   "source": [
    "## Sürekli Olasılık Dağılımları\n",
    "- Normal Dağılım\n",
    "- Uniform Dağılım\n",
    "- Üstel Dağılım"
   ]
  }
 ],
 "metadata": {
  "kernelspec": {
   "display_name": "Python 3 (ipykernel)",
   "language": "python",
   "name": "python3"
  },
  "language_info": {
   "codemirror_mode": {
    "name": "ipython",
    "version": 3
   },
   "file_extension": ".py",
   "mimetype": "text/x-python",
   "name": "python",
   "nbconvert_exporter": "python",
   "pygments_lexer": "ipython3",
   "version": "3.9.12"
  }
 },
 "nbformat": 4,
 "nbformat_minor": 5
}
