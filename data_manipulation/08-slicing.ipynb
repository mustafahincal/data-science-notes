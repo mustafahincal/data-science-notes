{
 "cells": [
  {
   "cell_type": "markdown",
   "id": "608556b0-2c13-40e1-9f77-144c0ad4c9aa",
   "metadata": {},
   "source": [
    "## Slicing ile Elemanlara erismek"
   ]
  },
  {
   "cell_type": "code",
   "execution_count": 2,
   "id": "420a2cea-58e0-4c0a-a4fe-32ca5c184635",
   "metadata": {},
   "outputs": [],
   "source": [
    "import numpy as np"
   ]
  },
  {
   "cell_type": "code",
   "execution_count": 3,
   "id": "42cc97be-0b86-49cd-96c3-050abfb2c901",
   "metadata": {},
   "outputs": [],
   "source": [
    "a = np.arange(20,30)"
   ]
  },
  {
   "cell_type": "code",
   "execution_count": 5,
   "id": "2fdb5c99-1744-455b-a050-999f8adbd298",
   "metadata": {},
   "outputs": [
    {
     "data": {
      "text/plain": [
       "array([20, 21, 22, 23, 24, 25, 26, 27, 28, 29])"
      ]
     },
     "execution_count": 5,
     "metadata": {},
     "output_type": "execute_result"
    }
   ],
   "source": [
    "a"
   ]
  },
  {
   "cell_type": "code",
   "execution_count": 6,
   "id": "d06baa1d-ff68-4426-9002-aa0777093d6d",
   "metadata": {},
   "outputs": [
    {
     "data": {
      "text/plain": [
       "array([20, 21, 22])"
      ]
     },
     "execution_count": 6,
     "metadata": {},
     "output_type": "execute_result"
    }
   ],
   "source": [
    "a[0:3]"
   ]
  },
  {
   "cell_type": "code",
   "execution_count": 7,
   "id": "b4604c85-d5dc-4341-bc8f-4906fb076b79",
   "metadata": {},
   "outputs": [
    {
     "data": {
      "text/plain": [
       "array([23, 24, 25, 26, 27, 28, 29])"
      ]
     },
     "execution_count": 7,
     "metadata": {},
     "output_type": "execute_result"
    }
   ],
   "source": [
    "a[3:]"
   ]
  },
  {
   "cell_type": "code",
   "execution_count": 9,
   "id": "563a9dae-3e4c-4753-8343-1c1a483adb76",
   "metadata": {},
   "outputs": [
    {
     "data": {
      "text/plain": [
       "array([20, 22, 24, 26, 28])"
      ]
     },
     "execution_count": 9,
     "metadata": {},
     "output_type": "execute_result"
    }
   ],
   "source": [
    "a[0::2]"
   ]
  },
  {
   "cell_type": "code",
   "execution_count": 10,
   "id": "33e72f8b-767a-42a7-a6f6-a187bd98cb1c",
   "metadata": {},
   "outputs": [
    {
     "data": {
      "text/plain": [
       "array([20, 23, 26, 29])"
      ]
     },
     "execution_count": 10,
     "metadata": {},
     "output_type": "execute_result"
    }
   ],
   "source": [
    "a[0::3]"
   ]
  },
  {
   "cell_type": "code",
   "execution_count": 11,
   "id": "c2d9935f-49b2-469a-9d25-cbbede196102",
   "metadata": {},
   "outputs": [
    {
     "data": {
      "text/plain": [
       "array([[8, 4, 6, 8, 2],\n",
       "       [5, 7, 6, 4, 4],\n",
       "       [9, 2, 3, 1, 5],\n",
       "       [9, 3, 6, 6, 6],\n",
       "       [8, 4, 3, 7, 3]])"
      ]
     },
     "execution_count": 11,
     "metadata": {},
     "output_type": "execute_result"
    }
   ],
   "source": [
    "b = np.random.randint(1,10,(5,5))\n",
    "b"
   ]
  },
  {
   "cell_type": "code",
   "execution_count": 12,
   "id": "7fd71d3d-df96-4065-b894-a761d078798f",
   "metadata": {},
   "outputs": [
    {
     "data": {
      "text/plain": [
       "array([8, 5, 9, 9, 8])"
      ]
     },
     "execution_count": 12,
     "metadata": {},
     "output_type": "execute_result"
    }
   ],
   "source": [
    "b[:,0] # 1.sutun"
   ]
  },
  {
   "cell_type": "code",
   "execution_count": 13,
   "id": "207f77d8-7d27-4a3f-b8a6-a5a1254d81dd",
   "metadata": {},
   "outputs": [
    {
     "data": {
      "text/plain": [
       "array([4, 7, 2, 3, 4])"
      ]
     },
     "execution_count": 13,
     "metadata": {},
     "output_type": "execute_result"
    }
   ],
   "source": [
    "b[:,1] # 2.sutun"
   ]
  },
  {
   "cell_type": "code",
   "execution_count": 15,
   "id": "ea176fca-8806-4991-acac-b32629ddb9c2",
   "metadata": {},
   "outputs": [
    {
     "data": {
      "text/plain": [
       "array([5, 7, 6, 4, 4])"
      ]
     },
     "execution_count": 15,
     "metadata": {},
     "output_type": "execute_result"
    }
   ],
   "source": [
    "b[1,:] # 2.satir"
   ]
  },
  {
   "cell_type": "code",
   "execution_count": 18,
   "id": "c483cacb-0712-4c69-9a6a-9ed876b8ca33",
   "metadata": {},
   "outputs": [
    {
     "data": {
      "text/plain": [
       "6"
      ]
     },
     "execution_count": 18,
     "metadata": {},
     "output_type": "execute_result"
    }
   ],
   "source": [
    "b[1][2]"
   ]
  },
  {
   "cell_type": "code",
   "execution_count": 19,
   "id": "0dcb099f-9c97-47f3-ae21-184168b606fd",
   "metadata": {},
   "outputs": [
    {
     "data": {
      "text/plain": [
       "6"
      ]
     },
     "execution_count": 19,
     "metadata": {},
     "output_type": "execute_result"
    }
   ],
   "source": [
    "b[1,2]"
   ]
  },
  {
   "cell_type": "code",
   "execution_count": 20,
   "id": "9e6eef4e-65c5-4abb-94e3-96a205e71702",
   "metadata": {},
   "outputs": [
    {
     "data": {
      "text/plain": [
       "array([[8, 4, 6],\n",
       "       [5, 7, 6]])"
      ]
     },
     "execution_count": 20,
     "metadata": {},
     "output_type": "execute_result"
    }
   ],
   "source": [
    "b[0:2,0:3]"
   ]
  },
  {
   "cell_type": "code",
   "execution_count": 21,
   "id": "27f302b5-d899-4cb1-8a1e-e1726ebb27a0",
   "metadata": {},
   "outputs": [
    {
     "data": {
      "text/plain": [
       "array([20, 21, 22, 23, 24, 25, 26, 27, 28, 29])"
      ]
     },
     "execution_count": 21,
     "metadata": {},
     "output_type": "execute_result"
    }
   ],
   "source": [
    "a[::] # nasil bu sekilde hepsini aliyorsak"
   ]
  },
  {
   "cell_type": "code",
   "execution_count": 22,
   "id": "29929760-b3a8-4362-a350-ebe6edde8b91",
   "metadata": {},
   "outputs": [
    {
     "data": {
      "text/plain": [
       "array([[8, 4, 6, 8, 2],\n",
       "       [5, 7, 6, 4, 4],\n",
       "       [9, 2, 3, 1, 5],\n",
       "       [9, 3, 6, 6, 6],\n",
       "       [8, 4, 3, 7, 3]])"
      ]
     },
     "execution_count": 22,
     "metadata": {},
     "output_type": "execute_result"
    }
   ],
   "source": [
    "b[::,::] # seklinde de hepsini alabiliriz, gormek acisindan :: lari koyduk"
   ]
  },
  {
   "cell_type": "code",
   "execution_count": 23,
   "id": "382526db-82db-48a9-bdf1-8c8a123b5a5e",
   "metadata": {},
   "outputs": [
    {
     "data": {
      "text/plain": [
       "array([[4, 6],\n",
       "       [7, 6],\n",
       "       [2, 3],\n",
       "       [3, 6],\n",
       "       [4, 3]])"
      ]
     },
     "execution_count": 23,
     "metadata": {},
     "output_type": "execute_result"
    }
   ],
   "source": [
    "b[::,1:3]"
   ]
  },
  {
   "cell_type": "code",
   "execution_count": 24,
   "id": "b2af4e1e-636e-4375-8e5c-dbceef90cee3",
   "metadata": {},
   "outputs": [
    {
     "data": {
      "text/plain": [
       "array([[4, 6],\n",
       "       [2, 3],\n",
       "       [4, 3]])"
      ]
     },
     "execution_count": 24,
     "metadata": {},
     "output_type": "execute_result"
    }
   ],
   "source": [
    "b[0::2,1:3] # 2'ser atla dedik satirlar icin, sutunlar icinse 1.index ile 2.index'i al dedik"
   ]
  },
  {
   "cell_type": "code",
   "execution_count": null,
   "id": "1f902e6e-6366-4f21-9a73-d900470d0a8e",
   "metadata": {},
   "outputs": [],
   "source": []
  }
 ],
 "metadata": {
  "kernelspec": {
   "display_name": "Python 3 (ipykernel)",
   "language": "python",
   "name": "python3"
  },
  "language_info": {
   "codemirror_mode": {
    "name": "ipython",
    "version": 3
   },
   "file_extension": ".py",
   "mimetype": "text/x-python",
   "name": "python",
   "nbconvert_exporter": "python",
   "pygments_lexer": "ipython3",
   "version": "3.9.12"
  }
 },
 "nbformat": 4,
 "nbformat_minor": 5
}
