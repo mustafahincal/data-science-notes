{
 "cells": [
  {
   "cell_type": "markdown",
   "id": "d2118e38-cebe-4804-98fa-dfc6ea4b7b93",
   "metadata": {},
   "source": [
    "# Örnek Teorisi"
   ]
  },
  {
   "cell_type": "code",
   "execution_count": 1,
   "id": "fc86c669-b22b-4ada-9427-3e18c6fa1d2f",
   "metadata": {},
   "outputs": [],
   "source": [
    "import numpy as np"
   ]
  },
  {
   "cell_type": "code",
   "execution_count": 5,
   "id": "ee6d59d4-a105-446e-a3a3-5dbaa43a24ef",
   "metadata": {},
   "outputs": [],
   "source": [
    "population = np.random.randint(0,80,10000)\n",
    "# toplam ilçe nüfusu 10000 olsun"
   ]
  },
  {
   "cell_type": "code",
   "execution_count": 6,
   "id": "d477b391-b121-47bb-97df-92abc62ea6cb",
   "metadata": {},
   "outputs": [
    {
     "data": {
      "text/plain": [
       "array([50, 44, 64, 30, 55,  7,  0, 52, 69, 66])"
      ]
     },
     "execution_count": 6,
     "metadata": {},
     "output_type": "execute_result"
    }
   ],
   "source": [
    "population[0:10]"
   ]
  },
  {
   "cell_type": "code",
   "execution_count": 7,
   "id": "ab14587e-af2a-41d4-805f-87991b7145ce",
   "metadata": {},
   "outputs": [],
   "source": [
    "# ilçenin yaş ortalamasını bulmak istiyorum, 10000 nüfusu olan ilçenin herkese giderek yaşlarını toplayıp nüfusa bölmek zahmetli\n",
    "# bir iş olacağından sample alıyorum ve onlar üzerinden tahminde bulunuyorum. "
   ]
  },
  {
   "cell_type": "code",
   "execution_count": 8,
   "id": "d7f3ad30-2ee9-49f9-a952-ae3bea63fcf2",
   "metadata": {},
   "outputs": [],
   "source": [
    "np.random.seed(115)\n",
    "# sample çektiğim de population içerisinden random veriler çekecen, ileride tekrar çekmek istediğimde de farklı sample çekecek.\n",
    "# her sample çektiğimde aynı verilerin gelmesini istiyorsam np.random.seed() kullanmalıyım"
   ]
  },
  {
   "cell_type": "code",
   "execution_count": 10,
   "id": "cdc5088f-affa-40e5-a459-07c1d683805d",
   "metadata": {},
   "outputs": [
    {
     "data": {
      "text/plain": [
       "array([24, 34, 45,  6, 47, 13, 60, 55, 73, 34])"
      ]
     },
     "execution_count": 24,
     "metadata": {},
     "output_type": "execute_result"
    }
   ],
   "source": [
    "sample = np.random.choice(a = population,size=100)\n",
    "sample[0:10]"
   ]
  },
  {
   "cell_type": "code",
   "execution_count": 11,
   "id": "d162c4d3-7e07-45df-bf11-d5853d5b5c9e",
   "metadata": {},
   "outputs": [
    {
     "data": {
      "text/plain": [
       "array([23, 56,  3, 38,  7, 60, 54, 15,  3, 20])"
      ]
     },
     "execution_count": 25,
     "metadata": {},
     "output_type": "execute_result"
    }
   ],
   "source": [
    "sample.mean() # örneklem ortalaması"
   ]
  },
  {
   "cell_type": "code",
   "execution_count": 13,
   "id": "d772cca8-1e49-4cd9-b058-fd7a1210bb5d",
   "metadata": {},
   "outputs": [
    {
     "data": {
      "text/plain": [
       "39.7066"
      ]
     },
     "execution_count": 13,
     "metadata": {},
     "output_type": "execute_result"
    }
   ],
   "source": [
    "population.mean() # populasyon ortalaması"
   ]
  },
  {
   "cell_type": "code",
   "execution_count": 14,
   "id": "0f8b3fc5-182d-47d6-b230-1df0d8f19d90",
   "metadata": {},
   "outputs": [],
   "source": [
    "# örneklem dağılımı : birden fazla örneklem"
   ]
  },
  {
   "cell_type": "code",
   "execution_count": 16,
   "id": "5a154356-ff51-4e78-84a3-50d60690e399",
   "metadata": {},
   "outputs": [],
   "source": [
    "np.random.seed(10)\n",
    "sample1 = np.random.choice(a = population,size=100)\n",
    "sample2 = np.random.choice(a = population,size=100)\n",
    "sample3 = np.random.choice(a = population,size=100)\n",
    "sample4 = np.random.choice(a = population,size=100)\n",
    "sample5 = np.random.choice(a = population,size=100)\n",
    "sample6 = np.random.choice(a = population,size=100)\n",
    "sample7 = np.random.choice(a = population,size=100)\n",
    "sample8 = np.random.choice(a = population,size=100)\n",
    "sample9 = np.random.choice(a = population,size=100)\n",
    "sample10 = np.random.choice(a = population,size=100)"
   ]
  },
  {
   "cell_type": "code",
   "execution_count": 26,
   "id": "5b64515b-cf13-493a-8d45-4e0d617ced5e",
   "metadata": {},
   "outputs": [
    {
     "data": {
      "text/plain": [
       "39.586999999999996"
      ]
     },
     "execution_count": 26,
     "metadata": {},
     "output_type": "execute_result"
    }
   ],
   "source": [
    "(sample1.mean() + sample2.mean() + sample3.mean() + sample4.mean() + sample5.mean() + sample6.mean() + sample7.mean() +\n",
    "sample8.mean() + sample9.mean() + sample10.mean()) / 10"
   ]
  },
  {
   "cell_type": "code",
   "execution_count": null,
   "id": "5390cd55-b4d8-44df-ab36-cc216531a414",
   "metadata": {},
   "outputs": [],
   "source": [
    "# ne kadar fazla örneklem ortalaması alınırsa ana kitle ortalamasına o kadar yaklaşırız."
   ]
  }
 ],
 "metadata": {
  "kernelspec": {
   "display_name": "Python 3 (ipykernel)",
   "language": "python",
   "name": "python3"
  },
  "language_info": {
   "codemirror_mode": {
    "name": "ipython",
    "version": 3
   },
   "file_extension": ".py",
   "mimetype": "text/x-python",
   "name": "python",
   "nbconvert_exporter": "python",
   "pygments_lexer": "ipython3",
   "version": "3.9.12"
  }
 },
 "nbformat": 4,
 "nbformat_minor": 5
}
