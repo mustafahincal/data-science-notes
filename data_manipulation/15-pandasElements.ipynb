{
 "cells": [
  {
   "cell_type": "code",
   "execution_count": 5,
   "id": "2e5866c5-ce76-435b-9a77-239691bfc3a5",
   "metadata": {},
   "outputs": [],
   "source": [
    "import numpy as np\n",
    "import pandas as pd"
   ]
  },
  {
   "cell_type": "code",
   "execution_count": 10,
   "id": "7c586571-f8d2-4117-b489-0ee6683854fd",
   "metadata": {},
   "outputs": [
    {
     "data": {
      "text/plain": [
       "0    1\n",
       "1    2\n",
       "2    3\n",
       "3    4\n",
       "4    5\n",
       "5    6\n",
       "dtype: int32"
      ]
     },
     "execution_count": 10,
     "metadata": {},
     "output_type": "execute_result"
    }
   ],
   "source": [
    "a = np.array([1,2,3,4,5,6])\n",
    "series = pd.Series(a)\n",
    "series"
   ]
  },
  {
   "cell_type": "code",
   "execution_count": 11,
   "id": "10ffebc5-35de-4093-9b6b-943ee7940620",
   "metadata": {},
   "outputs": [
    {
     "data": {
      "text/plain": [
       "1"
      ]
     },
     "execution_count": 11,
     "metadata": {},
     "output_type": "execute_result"
    }
   ],
   "source": [
    "series[0]"
   ]
  },
  {
   "cell_type": "code",
   "execution_count": 12,
   "id": "c506db7d-1a8d-499c-b8eb-f311bf3fe0bb",
   "metadata": {},
   "outputs": [
    {
     "data": {
      "text/plain": [
       "0    1\n",
       "1    2\n",
       "2    3\n",
       "dtype: int32"
      ]
     },
     "execution_count": 12,
     "metadata": {},
     "output_type": "execute_result"
    }
   ],
   "source": [
    "series[0:3]"
   ]
  },
  {
   "cell_type": "code",
   "execution_count": 14,
   "id": "10080cd6-bc2b-486f-b38f-53c43a1a4ead",
   "metadata": {},
   "outputs": [
    {
     "data": {
      "text/plain": [
       "reg     121\n",
       "loj     150\n",
       "cart    200\n",
       "rf       99\n",
       "dtype: int64"
      ]
     },
     "execution_count": 14,
     "metadata": {},
     "output_type": "execute_result"
    }
   ],
   "source": [
    "series = pd.Series([121,150,200,99], index = [\"reg\",\"loj\",\"cart\",\"rf\"]) \n",
    "series"
   ]
  },
  {
   "cell_type": "code",
   "execution_count": 15,
   "id": "23b56b65-ed9f-420f-a4b9-eac2b7068267",
   "metadata": {},
   "outputs": [
    {
     "data": {
      "text/plain": [
       "<bound method Series.keys of reg     121\n",
       "loj     150\n",
       "cart    200\n",
       "rf       99\n",
       "dtype: int64>"
      ]
     },
     "execution_count": 15,
     "metadata": {},
     "output_type": "execute_result"
    }
   ],
   "source": [
    "series.keys"
   ]
  },
  {
   "cell_type": "code",
   "execution_count": 19,
   "id": "229ef49c-b429-48eb-ad21-45907e5d3701",
   "metadata": {},
   "outputs": [
    {
     "data": {
      "text/plain": [
       "[('reg', 121), ('loj', 150), ('cart', 200), ('rf', 99)]"
      ]
     },
     "execution_count": 19,
     "metadata": {},
     "output_type": "execute_result"
    }
   ],
   "source": [
    "seriesList = list(series.items())\n",
    "seriesList"
   ]
  },
  {
   "cell_type": "code",
   "execution_count": 22,
   "id": "b9c3fb39-3f19-4197-8df9-2152e54055bf",
   "metadata": {},
   "outputs": [
    {
     "data": {
      "text/plain": [
       "('reg', 121)"
      ]
     },
     "execution_count": 22,
     "metadata": {},
     "output_type": "execute_result"
    }
   ],
   "source": [
    "seriesList[0]"
   ]
  },
  {
   "cell_type": "code",
   "execution_count": 23,
   "id": "9ed0f6c3-7e49-47c6-b6f5-985a40c31375",
   "metadata": {},
   "outputs": [
    {
     "data": {
      "text/plain": [
       "array([1, 2, 3, 4, 5, 6])"
      ]
     },
     "execution_count": 23,
     "metadata": {},
     "output_type": "execute_result"
    }
   ],
   "source": [
    " seri.values"
   ]
  },
  {
   "cell_type": "code",
   "execution_count": 24,
   "id": "8cf06856-065f-4080-a489-4556b3078438",
   "metadata": {},
   "outputs": [
    {
     "data": {
      "text/plain": [
       "True"
      ]
     },
     "execution_count": 24,
     "metadata": {},
     "output_type": "execute_result"
    }
   ],
   "source": [
    "\"reg\" in series"
   ]
  },
  {
   "cell_type": "code",
   "execution_count": 35,
   "id": "1868a268-fd9f-4307-aac3-cf86cb0dab92",
   "metadata": {},
   "outputs": [
    {
     "data": {
      "text/plain": [
       "False"
      ]
     },
     "execution_count": 35,
     "metadata": {},
     "output_type": "execute_result"
    }
   ],
   "source": [
    "1 in series"
   ]
  },
  {
   "cell_type": "code",
   "execution_count": 37,
   "id": "f302f566-5684-4be8-ae52-20ec1ca35d33",
   "metadata": {},
   "outputs": [
    {
     "data": {
      "text/plain": [
       "150"
      ]
     },
     "execution_count": 37,
     "metadata": {},
     "output_type": "execute_result"
    }
   ],
   "source": [
    "series[\"loj\"]"
   ]
  },
  {
   "cell_type": "code",
   "execution_count": 38,
   "id": "288f1e68-c1bb-4c87-8a09-3585acfec345",
   "metadata": {},
   "outputs": [],
   "source": [
    "# fancy element"
   ]
  },
  {
   "cell_type": "code",
   "execution_count": 39,
   "id": "7c9864f2-2ff1-42e5-85dd-57f430d9f8fa",
   "metadata": {},
   "outputs": [
    {
     "data": {
      "text/plain": [
       "reg    121\n",
       "rf      99\n",
       "dtype: int64"
      ]
     },
     "execution_count": 39,
     "metadata": {},
     "output_type": "execute_result"
    }
   ],
   "source": [
    "series[[\"reg\",\"rf\"]]"
   ]
  },
  {
   "cell_type": "code",
   "execution_count": 40,
   "id": "6da09c7e-bd4d-4aff-a558-af1944b9a5b7",
   "metadata": {},
   "outputs": [],
   "source": [
    "series[\"reg\"] = 199"
   ]
  },
  {
   "cell_type": "code",
   "execution_count": 41,
   "id": "c0727466-5d70-4379-a38c-bf0a5035e649",
   "metadata": {},
   "outputs": [
    {
     "data": {
      "text/plain": [
       "reg     199\n",
       "loj     150\n",
       "cart    200\n",
       "rf       99\n",
       "dtype: int64"
      ]
     },
     "execution_count": 41,
     "metadata": {},
     "output_type": "execute_result"
    }
   ],
   "source": [
    "series"
   ]
  },
  {
   "cell_type": "code",
   "execution_count": 43,
   "id": "65b45a72-7a1d-4fdb-a2a5-56b23a8ac8d0",
   "metadata": {},
   "outputs": [
    {
     "data": {
      "text/plain": [
       "reg    199\n",
       "loj    150\n",
       "dtype: int64"
      ]
     },
     "execution_count": 43,
     "metadata": {},
     "output_type": "execute_result"
    }
   ],
   "source": [
    "series[\"reg\":\"loj\"]"
   ]
  },
  {
   "cell_type": "code",
   "execution_count": null,
   "id": "6f238ac4-9090-4057-8a92-d83f5d015e4b",
   "metadata": {},
   "outputs": [],
   "source": []
  },
  {
   "cell_type": "code",
   "execution_count": null,
   "id": "c8efdf0c-7087-4407-b6ea-bfe348feea76",
   "metadata": {},
   "outputs": [],
   "source": []
  }
 ],
 "metadata": {
  "kernelspec": {
   "display_name": "Python 3 (ipykernel)",
   "language": "python",
   "name": "python3"
  },
  "language_info": {
   "codemirror_mode": {
    "name": "ipython",
    "version": 3
   },
   "file_extension": ".py",
   "mimetype": "text/x-python",
   "name": "python",
   "nbconvert_exporter": "python",
   "pygments_lexer": "ipython3",
   "version": "3.9.12"
  }
 },
 "nbformat": 4,
 "nbformat_minor": 5
}
